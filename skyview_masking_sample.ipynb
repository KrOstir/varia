{
 "cells": [
  {
   "cell_type": "markdown",
   "metadata": {},
   "source": [
    "# Skyview masking\n",
    "\n",
    "Create skyview mask from fisheye photo. The mask should be simplified, can be fuzzy. Workflow:\n",
    "\n",
    "1. Open images\n",
    "2. Find tresholds for sky, use blue, possible also red and green band.\n",
    "3. Create fuzzy mask\n",
    "4. Create hard mask\n",
    "5. Fill smaller areas"
   ]
  },
  {
   "cell_type": "code",
   "execution_count": null,
   "metadata": {
    "pycharm": {
     "is_executing": false
    }
   },
   "outputs": [],
   "source": [
    "# Libraries\n",
    "from skimage import io\n",
    "from skimage import filters\n",
    "from skimage import morphology\n",
    "import numpy as np\n",
    "import matplotlib.pyplot as plt\n",
    "from PIL import Image"
   ]
  },
  {
   "cell_type": "code",
   "execution_count": null,
   "metadata": {
    "pycharm": {
     "is_executing": false
    }
   },
   "outputs": [],
   "source": [
    "plt.rcParams['figure.figsize'] = (15, 10)"
   ]
  },
  {
   "cell_type": "markdown",
   "metadata": {},
   "source": [
    "## Read image"
   ]
  },
  {
   "cell_type": "code",
   "execution_count": null,
   "metadata": {
    "pycharm": {
     "is_executing": false
    }
   },
   "outputs": [],
   "source": [
    "# Photo filename\n",
    "photo = \"./SkyView/2019_03_31.jpg\"\n",
    "photo = \"./SkyView/2019_04_10.jpg\"\n",
    "# photo = \"./SkyView/2019_04_12.jpg\"\n",
    "# photo = \"./SkyView/2019_04_15.jpg\"\n",
    "image = io.imread(photo)"
   ]
  },
  {
   "cell_type": "code",
   "execution_count": null,
   "metadata": {
    "pycharm": {
     "is_executing": false
    }
   },
   "outputs": [],
   "source": [
    "image.shape"
   ]
  },
  {
   "cell_type": "code",
   "execution_count": null,
   "metadata": {
    "pycharm": {
     "is_executing": false
    }
   },
   "outputs": [],
   "source": [
    "plt.imshow(image)"
   ]
  },
  {
   "cell_type": "code",
   "execution_count": null,
   "metadata": {
    "pycharm": {
     "is_executing": false
    }
   },
   "outputs": [],
   "source": [
    "# Plot image, histogram, treshold, mask\n",
    "def treshold_plot_hist (band, tresh, mask, title = \"\"):\n",
    "    fig, axes = plt.subplots(ncols=3, figsize=(15, 5))\n",
    "    fig.suptitle(title)\n",
    "    \n",
    "    ax = axes.ravel()\n",
    "    ax[0] = plt.subplot(1, 3, 1)\n",
    "    ax[1] = plt.subplot(1, 3, 2)\n",
    "    ax[2] = plt.subplot(1, 3, 3, sharex=ax[0], sharey=ax[0])\n",
    "\n",
    "    ax[0].imshow(band, cmap=plt.cm.gray)\n",
    "    ax[0].set_title('Original')\n",
    "    ax[0].axis('off')\n",
    "\n",
    "    ax[1].hist(band.ravel(), bins=256)\n",
    "    ax[1].set_title('Histogram')\n",
    "    ax[1].axvline(tresh, color='r')\n",
    "    ax[1].text(0.8, 0.95, tresh, transform=ax[1].transAxes, fontsize=14,\n",
    "        verticalalignment='top', color='r')\n",
    "    \n",
    "\n",
    "    ax[2].imshow(mask, cmap=plt.cm.gray)\n",
    "    ax[2].set_title('Thresholded')\n",
    "    ax[2].axis('off')\n",
    "\n",
    "    plt.show()"
   ]
  },
  {
   "cell_type": "code",
   "execution_count": null,
   "metadata": {
    "pycharm": {
     "is_executing": false
    }
   },
   "outputs": [],
   "source": [
    "# Plot image, mask\n",
    "def treshold_plot (band, mask, title = \"\"):\n",
    "    fig, axes = plt.subplots(ncols=2, figsize=(15, 7))\n",
    "    fig.suptitle(title)\n",
    "    \n",
    "    ax = axes.ravel()\n",
    "    ax[0] = plt.subplot(1, 2, 1)\n",
    "    ax[1] = plt.subplot(1, 2, 2, sharex=ax[0], sharey=ax[0])\n",
    "\n",
    "    ax[0].imshow(band, cmap=plt.cm.gray)\n",
    "    ax[0].set_title('Original')\n",
    "    ax[0].axis('off')\n",
    "\n",
    "    ax[1].imshow(mask, cmap=plt.cm.gray)\n",
    "    ax[1].set_title('Thresholded')\n",
    "    ax[1].axis('off')\n",
    "\n",
    "    plt.show()"
   ]
  },
  {
   "cell_type": "markdown",
   "metadata": {},
   "source": [
    "## Aggregation\n",
    "\n",
    "All bands are tresholded and the mask is combined. We are using Otsu filter tresholds."
   ]
  },
  {
   "cell_type": "code",
   "execution_count": null,
   "metadata": {},
   "outputs": [],
   "source": [
    "# Find tresholds\n",
    "tresh = np.empty(3, dtype=int)\n",
    "for img_b in range(3):\n",
    "    img = image[:,:,img_b]\n",
    "    tresh[img_b] = filters.threshold_otsu(img)\n",
    "tresh"
   ]
  },
  {
   "cell_type": "markdown",
   "metadata": {},
   "source": [
    "### Create masks\n",
    "\n",
    "Creeate mask for all bands and add the masks."
   ]
  },
  {
   "cell_type": "code",
   "execution_count": null,
   "metadata": {},
   "outputs": [],
   "source": [
    "# Dermined treshold\n",
    "mask = np.copy(image[:,:,0]) * 0\n",
    "for i in range(3):\n",
    "    mask_add = image[:,:,i] >= tresh[i]\n",
    "    mask[:,:] = mask + mask_add"
   ]
  },
  {
   "cell_type": "markdown",
   "metadata": {},
   "source": [
    "### Fuzzy mask"
   ]
  },
  {
   "cell_type": "code",
   "execution_count": null,
   "metadata": {},
   "outputs": [],
   "source": [
    "plt.imshow(mask)"
   ]
  },
  {
   "cell_type": "markdown",
   "metadata": {},
   "source": [
    "### Hard mask\n",
    "\n",
    "If any of the treasholds has been detected, the mask is true."
   ]
  },
  {
   "cell_type": "code",
   "execution_count": null,
   "metadata": {},
   "outputs": [],
   "source": [
    "mask_h = mask > 1\n",
    "plt.imshow(mask_h)"
   ]
  },
  {
   "cell_type": "code",
   "execution_count": null,
   "metadata": {},
   "outputs": [],
   "source": [
    "mask_h_im = Image.fromarray(mask_h * 255)\n",
    "mask_h_im = mask_h_im.convert(\"L\")\n",
    "# mask_h_im.show()\n",
    "photo_out = photo.rsplit('.', 1)[0] + \"_mask\"+ \".png\"\n",
    "mask_h_im.save(photo_out)"
   ]
  }
 ],
 "metadata": {
  "kernelspec": {
   "display_name": "Python 3",
   "language": "python",
   "name": "python3"
  },
  "language_info": {
   "codemirror_mode": {
    "name": "ipython",
    "version": 3
   },
   "file_extension": ".py",
   "mimetype": "text/x-python",
   "name": "python",
   "nbconvert_exporter": "python",
   "pygments_lexer": "ipython3",
   "version": "3.7.3"
  }
 },
 "nbformat": 4,
 "nbformat_minor": 2
}
