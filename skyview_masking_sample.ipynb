{
 "cells": [
  {
   "cell_type": "markdown",
   "metadata": {},
   "source": [
    "# Skyview masking\n",
    "\n",
    "Create skyview mask from fisheye photo. The mask should be simplified, can be fuzzy. Workflow:\n",
    "\n",
    "1. Open images\n",
    "2. Find tresholds for sky, use blue, possible also red and green band.\n",
    "3. Create fuzzy mask\n",
    "4. Create hard mask\n",
    "5. Fill smaller areas"
   ]
  },
  {
   "cell_type": "code",
   "execution_count": null,
   "metadata": {
    "pycharm": {
     "is_executing": false
    }
   },
   "outputs": [],
   "source": [
    "# Libraries\n",
    "from skimage import io\n",
    "from skimage import filters\n",
    "from skimage import morphology\n",
    "import numpy as np\n",
    "import matplotlib.pyplot as plt\n",
    "from PIL import Image\n",
    "import glob\n",
    "import os"
   ]
  },
  {
   "cell_type": "code",
   "execution_count": null,
   "metadata": {
    "pycharm": {
     "is_executing": false
    }
   },
   "outputs": [],
   "source": [
    "plt.rcParams['figure.figsize'] = (15, 10)"
   ]
  },
  {
   "cell_type": "markdown",
   "metadata": {},
   "source": [
    "## Get images"
   ]
  },
  {
   "cell_type": "code",
   "execution_count": null,
   "metadata": {
    "pycharm": {
     "is_executing": false
    }
   },
   "outputs": [],
   "source": [
    "\"./SkyView/originali/\"\n",
    "# Cropped photo location\n",
    "photo_folder = \"./SkyView/\""
   ]
  },
  {
   "cell_type": "code",
   "execution_count": null,
   "metadata": {},
   "outputs": [],
   "source": [
    "# Read all photos\n",
    "photos = glob.glob(photo_folder + '2019_*.jpg')\n",
    "photos"
   ]
  },
  {
   "cell_type": "code",
   "execution_count": null,
   "metadata": {
    "pycharm": {
     "is_executing": false
    }
   },
   "outputs": [],
   "source": [
    "# Plot image, mask\n",
    "def treshold_plot (band, mask, title = \"\"):\n",
    "    fig, axes = plt.subplots(ncols=2, figsize=(15, 7))\n",
    "    fig.suptitle(title)\n",
    "    \n",
    "    ax = axes.ravel()\n",
    "    ax[0] = plt.subplot(1, 2, 1)\n",
    "    ax[1] = plt.subplot(1, 2, 2, sharex=ax[0], sharey=ax[0])\n",
    "\n",
    "    ax[0].imshow(band, cmap=plt.cm.gray)\n",
    "    ax[0].set_title('Original')\n",
    "    ax[0].axis('off')\n",
    "\n",
    "    ax[1].imshow(mask, cmap=plt.cm.gray)\n",
    "    ax[1].set_title('Thresholded')\n",
    "    ax[1].axis('off')\n",
    "\n",
    "    plt.show()"
   ]
  },
  {
   "cell_type": "markdown",
   "metadata": {},
   "source": [
    "## Create masks"
   ]
  },
  {
   "cell_type": "markdown",
   "metadata": {},
   "source": [
    "All bands are tresholded and the mask is combined. We are using Otsu filter tresholds. At the end we create a hard mask."
   ]
  },
  {
   "cell_type": "code",
   "execution_count": null,
   "metadata": {},
   "outputs": [],
   "source": [
    "photo = photos[0]\n",
    "for photo in photos:\n",
    "    image = io.imread(photo)\n",
    "    name = os.path.basename(photo)\n",
    "    print(\"Masking\", name)\n",
    "    # Find tresholds\n",
    "    tresh = np.empty(3, dtype=int)\n",
    "    for img_b in range(3):\n",
    "        img = image[:,:,img_b]\n",
    "        tresh[img_b] = filters.threshold_otsu(img)\n",
    "    print(\"Treshold\", tresh)\n",
    "    # Create fuzzy mask\n",
    "    mask = np.copy(image[:,:,0]) * 0\n",
    "    for i in range(3):\n",
    "        mask_add = image[:,:,i] >= tresh[i]\n",
    "        mask[:,:] = mask + mask_add\n",
    "    # Hard mask, at least in one band\n",
    "    mask_h = mask > 1\n",
    "    # Save mask\n",
    "    mask_h_im = Image.fromarray(mask_h * 255)\n",
    "    mask_h_im = mask_h_im.convert(\"L\")\n",
    "    photo_out = photo.rsplit('.', 1)[0] + \"_mask\"+ \".png\"\n",
    "    mask_h_im.save(photo_out)\n",
    "    print(\"Saved.\")"
   ]
  }
 ],
 "metadata": {
  "kernelspec": {
   "display_name": "Python 3",
   "language": "python",
   "name": "python3"
  },
  "language_info": {
   "codemirror_mode": {
    "name": "ipython",
    "version": 3
   },
   "file_extension": ".py",
   "mimetype": "text/x-python",
   "name": "python",
   "nbconvert_exporter": "python",
   "pygments_lexer": "ipython3",
   "version": "3.7.3"
  }
 },
 "nbformat": 4,
 "nbformat_minor": 2
}
