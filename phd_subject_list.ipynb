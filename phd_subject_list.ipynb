{
 "cells": [
  {
   "cell_type": "markdown",
   "metadata": {},
   "source": [
    "# Create list of subject on Grajeno okolje"
   ]
  },
  {
   "cell_type": "code",
   "execution_count": null,
   "metadata": {},
   "outputs": [],
   "source": [
    "import pandas as pd\n",
    "import io"
   ]
  },
  {
   "cell_type": "code",
   "execution_count": null,
   "metadata": {},
   "outputs": [],
   "source": [
    "# File names\n",
    "txt_file_fn = \"./data/Grajeno okolje_Ucni_Nacrti.txt\"\n",
    "phd_file_fn = \"./data/phd_list.csv\""
   ]
  },
  {
   "cell_type": "code",
   "execution_count": null,
   "metadata": {},
   "outputs": [],
   "source": [
    "pred_slo = \"Predmet:\"\n",
    "pred_eng = \"Course title:\""
   ]
  },
  {
   "cell_type": "code",
   "execution_count": null,
   "metadata": {},
   "outputs": [],
   "source": [
    "buf = io.StringIO()\n",
    "# Read and clean file\n",
    "with open(txt_file_fn, \"r\") as ifile:\n",
    "    for line in ifile:\n",
    "        if line.startswith(pred_slo):\n",
    "            buf.write(next(ifile, '').strip())\n",
    "            buf.write(\",\")\n",
    "        if line.startswith(pred_eng):\n",
    "            buf.write(next(ifile, '').strip())\n",
    "            buf.write(\"\\n\")"
   ]
  },
  {
   "cell_type": "code",
   "execution_count": null,
   "metadata": {},
   "outputs": [],
   "source": [
    "buf.seek(0)\n",
    "phd_subjects = pd.read_csv(buf, header=None)\n",
    "phd_subjects = phd_subjects.drop_duplicates()\n",
    "phd_subjects.head()"
   ]
  },
  {
   "cell_type": "code",
   "execution_count": null,
   "metadata": {},
   "outputs": [],
   "source": [
    "phd_subjects.to_csv(phd_file_fn)"
   ]
  },
  {
   "cell_type": "code",
   "execution_count": null,
   "metadata": {},
   "outputs": [],
   "source": []
  }
 ],
 "metadata": {
  "kernelspec": {
   "display_name": "Python 3",
   "language": "python",
   "name": "python3"
  },
  "language_info": {
   "codemirror_mode": {
    "name": "ipython",
    "version": 3
   },
   "file_extension": ".py",
   "mimetype": "text/x-python",
   "name": "python",
   "nbconvert_exporter": "python",
   "pygments_lexer": "ipython3",
   "version": "3.6.5"
  }
 },
 "nbformat": 4,
 "nbformat_minor": 1
}
