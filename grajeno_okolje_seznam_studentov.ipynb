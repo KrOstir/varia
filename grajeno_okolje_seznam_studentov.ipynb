{
 "cells": [
  {
   "cell_type": "markdown",
   "metadata": {},
   "source": [
    "# Grajeno okolje - seznam študentov"
   ]
  },
  {
   "cell_type": "code",
   "execution_count": null,
   "metadata": {},
   "outputs": [],
   "source": [
    "# Knjižnice\n",
    "import pandas as pd"
   ]
  },
  {
   "cell_type": "code",
   "execution_count": null,
   "metadata": {},
   "outputs": [],
   "source": [
    "# Seznam študentov\n",
    "go_doktorandi_in = \"./data/GO doktorandi_orig.xlsx\"\n",
    "go_doktorandi_out = \"./data/GO doktorandi_reor.xlsx\""
   ]
  },
  {
   "cell_type": "code",
   "execution_count": null,
   "metadata": {},
   "outputs": [],
   "source": [
    "go_df = pd.read_excel(go_doktorandi_in)\n",
    "go_df.head()"
   ]
  },
  {
   "cell_type": "code",
   "execution_count": null,
   "metadata": {},
   "outputs": [],
   "source": [
    "# Definicija funkcije za namenjavo vrstnega reda imen\n",
    "def replace_order(name):\n",
    "    \"Replace name order, adds title as prefix\"\n",
    "    titles = [\", doc. dr.\", \", izr. prof. dr.\", \", prof. dr.\", \", dr.\"]\n",
    "    titles_r = [\" dr. doc.\", \" dr. prof. izr.\", \" dr. prof.\", \" dr.\"]\n",
    "    name = \" \".join(reversed(name.split()))\n",
    "    for i in range(len(titles)):\n",
    "        if name.endswith(titles_r[i]):\n",
    "            return name.replace(titles_r[i], titles[i])\n",
    "    return name"
   ]
  },
  {
   "cell_type": "code",
   "execution_count": null,
   "metadata": {},
   "outputs": [],
   "source": [
    "# Stolpci za zamenjavo\n",
    "go_cols = go_df.columns[5:11].tolist()\n",
    "go_cols"
   ]
  },
  {
   "cell_type": "code",
   "execution_count": null,
   "metadata": {},
   "outputs": [],
   "source": [
    "# Zapolni NA\n",
    "for col in go_cols:\n",
    "    print(\"Filling\", col)\n",
    "    go_df[col] = go_df[col].fillna(\"/\")"
   ]
  },
  {
   "cell_type": "code",
   "execution_count": null,
   "metadata": {},
   "outputs": [],
   "source": [
    "for col in go_cols:\n",
    "    print(\"Reordering\", col)\n",
    "    go_df[col] = go_df[col].apply(replace_order)"
   ]
  },
  {
   "cell_type": "code",
   "execution_count": null,
   "metadata": {},
   "outputs": [],
   "source": [
    "go_df[go_cols].head()"
   ]
  },
  {
   "cell_type": "code",
   "execution_count": null,
   "metadata": {},
   "outputs": [],
   "source": [
    "# Write to Excel\n",
    "go_df.to_excel(go_doktorandi_out, index=False)"
   ]
  }
 ],
 "metadata": {
  "kernelspec": {
   "display_name": "Python 3",
   "language": "python",
   "name": "python3"
  },
  "language_info": {
   "codemirror_mode": {
    "name": "ipython",
    "version": 3
   },
   "file_extension": ".py",
   "mimetype": "text/x-python",
   "name": "python",
   "nbconvert_exporter": "python",
   "pygments_lexer": "ipython3",
   "version": "3.7.4"
  }
 },
 "nbformat": 4,
 "nbformat_minor": 4
}
