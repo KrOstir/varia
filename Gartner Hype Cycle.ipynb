{
 "cells": [
  {
   "cell_type": "markdown",
   "metadata": {},
   "source": [
    "# Gartner Hype Cycle\n",
    "\n",
    "Create Gartner Hype Cycle chart. Grenerate different categories of entries."
   ]
  },
  {
   "cell_type": "code",
   "execution_count": null,
   "metadata": {},
   "outputs": [],
   "source": [
    "# Matplotlib inline\n",
    "%matplotlib inline"
   ]
  },
  {
   "cell_type": "code",
   "execution_count": null,
   "metadata": {},
   "outputs": [],
   "source": [
    "# Load libraries\n",
    "import pandas as pd\n",
    "import numpy as np\n",
    "from scipy.interpolate import interp1d\n",
    "import matplotlib.pyplot as plt"
   ]
  },
  {
   "cell_type": "code",
   "execution_count": null,
   "metadata": {},
   "outputs": [],
   "source": [
    "# Figure size and style\n",
    "plt.rcParams['figure.figsize'] = (12, 8)\n",
    "#plt.style.use('ggplot')"
   ]
  },
  {
   "cell_type": "code",
   "execution_count": null,
   "metadata": {},
   "outputs": [],
   "source": [
    "# Hype cycle data\n",
    "hype_x = [0, 5, 15, 40, 70, 80, 100]\n",
    "hype_y = [0, 30, 100, 30, 50, 55, 60]"
   ]
  },
  {
   "cell_type": "code",
   "execution_count": null,
   "metadata": {},
   "outputs": [],
   "source": [
    "x_range = range(100)"
   ]
  },
  {
   "cell_type": "code",
   "execution_count": null,
   "metadata": {},
   "outputs": [],
   "source": [
    "# Smooth hype cycle\n",
    "y_interpol = interp1d(hype_x, hype_y, kind='quadratic')\n",
    "y_hype = y_interpol(x_range)"
   ]
  },
  {
   "cell_type": "code",
   "execution_count": null,
   "metadata": {},
   "outputs": [],
   "source": [
    "# Hype cycle ranges\n",
    "hype_range_pos = [0,\n",
    "                 15,\n",
    "                 30,\n",
    "                 60,\n",
    "                 80,\n",
    "                 100]\n",
    "hype_range_state = [\"Innovation\\nTrigger\",\n",
    "                    \"Peak of Inflated\\nExpectations\",\n",
    "                    \"Through of\\nDisillusionment\",\n",
    "                    \"Slope of\\nEnlightenment\",\n",
    "                    \"Plateau of\\nProductivity\"]\n",
    "hype_range_state"
   ]
  },
  {
   "cell_type": "code",
   "execution_count": null,
   "metadata": {},
   "outputs": [],
   "source": [
    "hype_range_text_pos = [(a + b) / 2 for a, b in zip(hype_range_pos[0:-1:], hype_range_pos[1::])]\n",
    "hype_range_text_pos"
   ]
  },
  {
   "cell_type": "code",
   "execution_count": null,
   "metadata": {},
   "outputs": [],
   "source": [
    "# Hype entries\n",
    "hype_entries = dict([\n",
    "    (10, \"Smartphones\"),\n",
    "    (15, \"Cube Sats\"),\n",
    "    (20, \"Geospatial APIs\"),\n",
    "    (30, \"Cloud computing\"),\n",
    "    (40, \"Open data\"),\n",
    "    (50, \"Big data\"),\n",
    "    (60, \"UAV\"),\n",
    "    (70, \"Lidar\"),\n",
    "    (80, \"Copernicus\")\n",
    "])\n",
    "hype_entries_x = list(hype_entries.keys())\n",
    "hype_entries_y = y_interpol(hype_entries_x)"
   ]
  },
  {
   "cell_type": "code",
   "execution_count": null,
   "metadata": {},
   "outputs": [],
   "source": [
    "# Create hype cycle plot\n",
    "fig, ax = plt.subplots()\n",
    "\n",
    "# Axes positions\n",
    "ax.spines['right'].set_color('none')\n",
    "ax.spines['top'].set_color('none')\n",
    "ax.spines['left'].set_color('none')\n",
    "ax.spines['bottom'].set_color('none')\n",
    "ax.spines['bottom'].set_position(('data',-15))\n",
    "\n",
    "# Time ranges\n",
    "for xc in hype_range_pos:\n",
    "    plt.axvline(x=xc, ymin=0.05, ymax=1, color='lightgray')\n",
    "rect = plt.Rectangle((0, -15), 100, 15, facecolor=\"lightgray\")\n",
    "ax.add_patch(rect)\n",
    "# Annotate\n",
    "for idx, val in enumerate(hype_range_text_pos):\n",
    "    ax.annotate(hype_range_state[idx], xy=(val, -10), ha='center')\n",
    "    \n",
    "# Hype\n",
    "plt.scatter(hype_entries_x, hype_entries_y)\n",
    "for key, value in hype_entries.items():\n",
    "    ax.annotate(value, xy=(key+1, y_hype[key]+1))\n",
    "\n",
    "ax.plot(x_range,y_hype, )\n",
    "\n",
    "plt.xlabel('Time')\n",
    "plt.ylabel('Expectations')\n",
    "plt.xticks([], [])\n",
    "plt.yticks([], [])\n",
    "\n",
    "plt.title(\"Hype Cycle for Earth Observation\")\n",
    "plt.show()"
   ]
  }
 ],
 "metadata": {
  "kernelspec": {
   "display_name": "Python 3",
   "language": "python",
   "name": "python3"
  },
  "language_info": {
   "codemirror_mode": {
    "name": "ipython",
    "version": 3
   },
   "file_extension": ".py",
   "mimetype": "text/x-python",
   "name": "python",
   "nbconvert_exporter": "python",
   "pygments_lexer": "ipython3",
   "version": "3.7.3"
  }
 },
 "nbformat": 4,
 "nbformat_minor": 2
}
