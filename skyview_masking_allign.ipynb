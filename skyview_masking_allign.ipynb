{
 "cells": [
  {
   "cell_type": "markdown",
   "metadata": {},
   "source": [
    "# Align images\n",
    "\n",
    "Find angle beetween two images"
   ]
  },
  {
   "cell_type": "code",
   "execution_count": null,
   "metadata": {},
   "outputs": [],
   "source": [
    "# Libraries\n",
    "import numpy as np\n",
    "import matplotlib.pyplot as plt\n",
    "from PIL import Image"
   ]
  },
  {
   "cell_type": "code",
   "execution_count": null,
   "metadata": {},
   "outputs": [],
   "source": [
    "plt.rcParams['figure.figsize'] = (15, 10)"
   ]
  },
  {
   "cell_type": "code",
   "execution_count": null,
   "metadata": {},
   "outputs": [],
   "source": [
    "photo_1 = \"./SkyView/2019_04_15_mask.png\"\n",
    "photo_2 = \"./SkyView/2019_04_16_mask.png\""
   ]
  },
  {
   "cell_type": "code",
   "execution_count": null,
   "metadata": {},
   "outputs": [],
   "source": [
    "image_1 = Image.open(photo_1)\n",
    "image_2 = Image.open(photo_2)"
   ]
  },
  {
   "cell_type": "code",
   "execution_count": null,
   "metadata": {},
   "outputs": [],
   "source": [
    "# Test rotate\n",
    "# image_2 = image_1.rotate(-5)"
   ]
  },
  {
   "cell_type": "code",
   "execution_count": null,
   "metadata": {},
   "outputs": [],
   "source": [
    "plt.imshow(image_1)"
   ]
  },
  {
   "cell_type": "code",
   "execution_count": null,
   "metadata": {},
   "outputs": [],
   "source": [
    "plt.imshow(image_2)"
   ]
  },
  {
   "cell_type": "code",
   "execution_count": null,
   "metadata": {},
   "outputs": [],
   "source": [
    "np_im_1 = np.array(image_1)\n",
    "np_im_2 = np.array(image_2)"
   ]
  },
  {
   "cell_type": "code",
   "execution_count": null,
   "metadata": {},
   "outputs": [],
   "source": [
    "# Correlation\n",
    "print(np.corrcoef(np_im_1.flat, np_im_2.flat)[0,1])"
   ]
  },
  {
   "cell_type": "code",
   "execution_count": null,
   "metadata": {},
   "outputs": [],
   "source": [
    "rot_angle = 0\n",
    "rot_corr = 0\n",
    "angles = np.arange(-180, 180, 0.2)"
   ]
  },
  {
   "cell_type": "code",
   "execution_count": null,
   "metadata": {},
   "outputs": [],
   "source": [
    "print(\"Finding rotation\")\n",
    "for angle in angles:\n",
    "    print(\".\", end =\"\")\n",
    "    image_2_rot = image_2.rotate(angle)\n",
    "    np_im_2_rot = np.array(image_2_rot)\n",
    "    cm = np.corrcoef(np_im_1.flat, np_im_2_rot.flat)[0,1]\n",
    "    if cm > rot_corr:\n",
    "        rot_corr = cm\n",
    "        rot_angle = angle\n",
    "print(\"\")\n",
    "print(\"Rotation\", rot_angle)\n",
    "print(\"Correlation\", rot_corr)"
   ]
  },
  {
   "cell_type": "code",
   "execution_count": null,
   "metadata": {},
   "outputs": [],
   "source": [
    "# Rotate image\n",
    "image_2_rot = image_2.rotate(rot_angle)"
   ]
  },
  {
   "cell_type": "code",
   "execution_count": null,
   "metadata": {},
   "outputs": [],
   "source": [
    "# Save image\n",
    "photo_2_rot = photo_2.rsplit('.', 1)[0] + \"_rot\"+ \".png\"\n",
    "image_2_rot.save(photo_2_rot)"
   ]
  }
 ],
 "metadata": {
  "kernelspec": {
   "display_name": "Python 3",
   "language": "python",
   "name": "python3"
  },
  "language_info": {
   "codemirror_mode": {
    "name": "ipython",
    "version": 3
   },
   "file_extension": ".py",
   "mimetype": "text/x-python",
   "name": "python",
   "nbconvert_exporter": "python",
   "pygments_lexer": "ipython3",
   "version": "3.7.3"
  }
 },
 "nbformat": 4,
 "nbformat_minor": 2
}
