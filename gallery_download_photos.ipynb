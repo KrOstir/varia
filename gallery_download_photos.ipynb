{
 "cells": [
  {
   "cell_type": "markdown",
   "metadata": {},
   "source": [
    "# Download images from the NextGEN Gallery (WordPress)\n",
    "\n",
    "Use list of base URLs and download all images in the gallery.\n",
    "\n",
    "Krištof Oštir  \n",
    "2018-09-19"
   ]
  },
  {
   "cell_type": "code",
   "execution_count": null,
   "metadata": {},
   "outputs": [],
   "source": [
    "# Load libraries\n",
    "import os\n",
    "import requests\n",
    "import time\n",
    "import smtplib\n",
    "from bs4 import BeautifulSoup"
   ]
  },
  {
   "cell_type": "code",
   "execution_count": null,
   "metadata": {},
   "outputs": [],
   "source": [
    "# Folder for storing images\n",
    "image_folder = \"D:/Kristof/Dropbox/Foto/Taborjenje 2018/\"\n",
    "# Gallery location\n",
    "gallery_url = \"http://taborniki.net/galerija/taborjenje-2018/\"\n",
    "# URL positions\n",
    "gal_id = \"gallery/\""
   ]
  },
  {
   "cell_type": "code",
   "execution_count": null,
   "metadata": {},
   "outputs": [],
   "source": [
    "# Download page from URL\n",
    "page = requests.get(gallery_url).text\n",
    "soup = BeautifulSoup(page, 'html.parser')\n",
    "# Total and new images\n",
    "gal_new = 0"
   ]
  },
  {
   "cell_type": "code",
   "execution_count": null,
   "metadata": {},
   "outputs": [],
   "source": [
    "img_urls = []"
   ]
  },
  {
   "cell_type": "code",
   "execution_count": null,
   "metadata": {},
   "outputs": [],
   "source": [
    "type(img_urls)"
   ]
  },
  {
   "cell_type": "code",
   "execution_count": null,
   "metadata": {},
   "outputs": [],
   "source": [
    "# Check all URLs\n",
    "img_urls = []\n",
    "for link in soup.find_all('a', href=True):\n",
    "    img_url = link['href']\n",
    "    # If URL is image download it\n",
    "    if img_url.endswith(\".jpg\") and gal_id in img_url:\n",
    "        img_urls.append(img_url) \n",
    "len(img_urls)"
   ]
  },
  {
   "cell_type": "code",
   "execution_count": null,
   "metadata": {},
   "outputs": [],
   "source": [
    "# Download all images\n",
    "for link in img_urls:\n",
    "    img_name = image_folder + link[link.rindex(\"/\") + 1:]\n",
    "    if os.path.exists(img_name):\n",
    "        print('.', end=\"\", flush=True)\n",
    "    else:\n",
    "        print('*', end=\"\", flush=True)\n",
    "        img_data = requests.get(img_url).content\n",
    "        with open(img_name, 'wb') as handler:\n",
    "            handler.write(img_data)\n",
    "            gal_new += 1\n",
    "print(\"\")"
   ]
  },
  {
   "cell_type": "code",
   "execution_count": null,
   "metadata": {},
   "outputs": [],
   "source": [
    "print(\"Gallery:\", len(img_urls))\n",
    "print(\"New    :\", gal_new)"
   ]
  }
 ],
 "metadata": {
  "kernelspec": {
   "display_name": "Python 3",
   "language": "python",
   "name": "python3"
  },
  "language_info": {
   "codemirror_mode": {
    "name": "ipython",
    "version": 3
   },
   "file_extension": ".py",
   "mimetype": "text/x-python",
   "name": "python",
   "nbconvert_exporter": "python",
   "pygments_lexer": "ipython3",
   "version": "3.7.0"
  }
 },
 "nbformat": 4,
 "nbformat_minor": 2
}
