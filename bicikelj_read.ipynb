{
 "cells": [
  {
   "cell_type": "markdown",
   "metadata": {},
   "source": [
    "# Read BicikeLJ data"
   ]
  },
  {
   "cell_type": "code",
   "execution_count": 1,
   "metadata": {
    "collapsed": true
   },
   "outputs": [],
   "source": [
    "# Matplotlib inline\n",
    "%matplotlib inline\n",
    "# Imports\n",
    "from urllib.request import urlopen\n",
    "import json\n",
    "#import xml.etree.ElementTree as ET\n",
    "import numpy as np\n",
    "import pandas as pd\n",
    "import datetime"
   ]
  },
  {
   "cell_type": "markdown",
   "metadata": {},
   "source": [
    "Branje podatkov po protokolih, opisanih v: https://developer.jcdecaux.com/#/opendata/vls?page=getstarted\n",
    "\n",
    "Zanimiva je diplomska naloga: http://geo.ff.uni-lj.si/pisnadela/pdfs/zaksem_201409_ziga_jamnik.pdf"
   ]
  },
  {
   "cell_type": "code",
   "execution_count": 2,
   "metadata": {
    "collapsed": true
   },
   "outputs": [],
   "source": [
    "# Parameters\n",
    "# Station static infos\n",
    "station_info_url = \"https://developer.jcdecaux.com/rest/vls/stations/Ljubljana.json\"\n",
    "# Bycicle, station dynamic infos\n",
    "station_data_url = \"https://api.jcdecaux.com/vls/v1/stations?contract=Ljubljana&apiKey=0a494317d60d3d556d0755600b078ea6b26af90f\"\n",
    "# Station info dataframe\n",
    "station_info_fn = \"bicikelj_station_info.csv\"\n",
    "station_data_fn = \"bicikelj_station_data.csv\""
   ]
  },
  {
   "cell_type": "markdown",
   "metadata": {},
   "source": [
    "## Station info"
   ]
  },
  {
   "cell_type": "code",
   "execution_count": 3,
   "metadata": {
    "collapsed": false
   },
   "outputs": [],
   "source": [
    "response = urlopen(station_info_url)\n",
    "if response.code == 200:\n",
    "    data = response.read().decode('utf-8')\n",
    "else:\n",
    "    print(\"Wrong response from \", station_info_url)"
   ]
  },
  {
   "cell_type": "code",
   "execution_count": 4,
   "metadata": {
    "collapsed": false
   },
   "outputs": [
    {
     "data": {
      "text/plain": [
       "200"
      ]
     },
     "execution_count": 4,
     "metadata": {},
     "output_type": "execute_result"
    }
   ],
   "source": [
    "response.code"
   ]
  },
  {
   "cell_type": "code",
   "execution_count": 5,
   "metadata": {
    "collapsed": false
   },
   "outputs": [],
   "source": [
    "station_info_json = json.loads(data)"
   ]
  },
  {
   "cell_type": "code",
   "execution_count": 6,
   "metadata": {
    "collapsed": false
   },
   "outputs": [],
   "source": [
    "station_info = pd.DataFrame(station_info_json).sort_values([\"number\"]).reset_index(drop=True)"
   ]
  },
  {
   "cell_type": "code",
   "execution_count": 7,
   "metadata": {
    "collapsed": false
   },
   "outputs": [
    {
     "data": {
      "text/html": [
       "<div>\n",
       "<table border=\"1\" class=\"dataframe\">\n",
       "  <thead>\n",
       "    <tr style=\"text-align: right;\">\n",
       "      <th></th>\n",
       "      <th>address</th>\n",
       "      <th>latitude</th>\n",
       "      <th>longitude</th>\n",
       "      <th>name</th>\n",
       "      <th>number</th>\n",
       "    </tr>\n",
       "  </thead>\n",
       "  <tbody>\n",
       "    <tr>\n",
       "      <th>0</th>\n",
       "      <td>Prešernov trg 6</td>\n",
       "      <td>46.051367</td>\n",
       "      <td>14.506542</td>\n",
       "      <td>PREŠERNOV TRG-PETKOVŠKOVO NABREŽJE</td>\n",
       "      <td>1</td>\n",
       "    </tr>\n",
       "    <tr>\n",
       "      <th>1</th>\n",
       "      <td>Pogačarjev trg 3</td>\n",
       "      <td>46.051093</td>\n",
       "      <td>14.507186</td>\n",
       "      <td>POGAČARJEV TRG-TRŽNICA</td>\n",
       "      <td>2</td>\n",
       "    </tr>\n",
       "    <tr>\n",
       "      <th>2</th>\n",
       "      <td>Kongresni trg 3</td>\n",
       "      <td>46.050388</td>\n",
       "      <td>14.504623</td>\n",
       "      <td>KONGRESNI TRG-ŠUBIČEVA ULICA</td>\n",
       "      <td>3</td>\n",
       "    </tr>\n",
       "    <tr>\n",
       "      <th>3</th>\n",
       "      <td>Cankarjeva cesta 1</td>\n",
       "      <td>46.052431</td>\n",
       "      <td>14.503257</td>\n",
       "      <td>CANKARJEVA UL.-NAMA</td>\n",
       "      <td>4</td>\n",
       "    </tr>\n",
       "    <tr>\n",
       "      <th>4</th>\n",
       "      <td>Breg 20</td>\n",
       "      <td>46.046498</td>\n",
       "      <td>14.505148</td>\n",
       "      <td>BREG</td>\n",
       "      <td>5</td>\n",
       "    </tr>\n",
       "    <tr>\n",
       "      <th>5</th>\n",
       "      <td>Grudnovo nabrežje 3</td>\n",
       "      <td>46.045748</td>\n",
       "      <td>14.506196</td>\n",
       "      <td>GRUDNOVO NABREŽJE-KARLOVŠKA C.</td>\n",
       "      <td>6</td>\n",
       "    </tr>\n",
       "    <tr>\n",
       "      <th>6</th>\n",
       "      <td>Miklošičeva cesta 20</td>\n",
       "      <td>46.054168</td>\n",
       "      <td>14.507060</td>\n",
       "      <td>MIKLOŠIČEV PARK</td>\n",
       "      <td>7</td>\n",
       "    </tr>\n",
       "    <tr>\n",
       "      <th>7</th>\n",
       "      <td>Slovenska cesta 55c</td>\n",
       "      <td>46.056820</td>\n",
       "      <td>14.505510</td>\n",
       "      <td>BAVARSKI DVOR</td>\n",
       "      <td>8</td>\n",
       "    </tr>\n",
       "    <tr>\n",
       "      <th>8</th>\n",
       "      <td>Trg OF 12</td>\n",
       "      <td>46.057421</td>\n",
       "      <td>14.510265</td>\n",
       "      <td>TRG OF-KOLODVORSKA UL.</td>\n",
       "      <td>9</td>\n",
       "    </tr>\n",
       "    <tr>\n",
       "      <th>9</th>\n",
       "      <td>Masarykova cesta 14</td>\n",
       "      <td>46.057630</td>\n",
       "      <td>14.514264</td>\n",
       "      <td>MASARYKOVA DDC</td>\n",
       "      <td>10</td>\n",
       "    </tr>\n",
       "    <tr>\n",
       "      <th>10</th>\n",
       "      <td>Vilharjeva cesta 23</td>\n",
       "      <td>46.060050</td>\n",
       "      <td>14.513020</td>\n",
       "      <td>VILHARJEVA CESTA</td>\n",
       "      <td>11</td>\n",
       "    </tr>\n",
       "    <tr>\n",
       "      <th>11</th>\n",
       "      <td>Železna cesta 18</td>\n",
       "      <td>46.063610</td>\n",
       "      <td>14.513150</td>\n",
       "      <td>PARK NAVJE-ŽELEZNA CESTA</td>\n",
       "      <td>12</td>\n",
       "    </tr>\n",
       "    <tr>\n",
       "      <th>12</th>\n",
       "      <td>Trg MDB 9</td>\n",
       "      <td>46.047565</td>\n",
       "      <td>14.495687</td>\n",
       "      <td>TRG MDB</td>\n",
       "      <td>13</td>\n",
       "    </tr>\n",
       "    <tr>\n",
       "      <th>13</th>\n",
       "      <td>Zoisova cesta 2</td>\n",
       "      <td>46.046377</td>\n",
       "      <td>14.501256</td>\n",
       "      <td>PARKIRIŠČE NUK 2-FF</td>\n",
       "      <td>14</td>\n",
       "    </tr>\n",
       "    <tr>\n",
       "      <th>14</th>\n",
       "      <td>Poljanska cesta 20c</td>\n",
       "      <td>46.049877</td>\n",
       "      <td>14.516308</td>\n",
       "      <td>AMBROŽEV TRG</td>\n",
       "      <td>15</td>\n",
       "    </tr>\n",
       "    <tr>\n",
       "      <th>15</th>\n",
       "      <td>Zaloška cesta 1</td>\n",
       "      <td>46.052570</td>\n",
       "      <td>14.519280</td>\n",
       "      <td>GH ŠENTPETER-NJEGOŠEVA C.</td>\n",
       "      <td>16</td>\n",
       "    </tr>\n",
       "    <tr>\n",
       "      <th>16</th>\n",
       "      <td>Ilirska ulica 1</td>\n",
       "      <td>46.053144</td>\n",
       "      <td>14.513479</td>\n",
       "      <td>ILIRSKA ULICA</td>\n",
       "      <td>17</td>\n",
       "    </tr>\n",
       "    <tr>\n",
       "      <th>17</th>\n",
       "      <td>Tržaška cesta 37</td>\n",
       "      <td>46.044629</td>\n",
       "      <td>14.486699</td>\n",
       "      <td>TRŽAŠKA C.-ILIRIJA</td>\n",
       "      <td>18</td>\n",
       "    </tr>\n",
       "    <tr>\n",
       "      <th>18</th>\n",
       "      <td>Celovška cesta 26</td>\n",
       "      <td>46.059520</td>\n",
       "      <td>14.498200</td>\n",
       "      <td>TIVOLI</td>\n",
       "      <td>19</td>\n",
       "    </tr>\n",
       "    <tr>\n",
       "      <th>19</th>\n",
       "      <td>Celovška cesta 69</td>\n",
       "      <td>46.063420</td>\n",
       "      <td>14.494588</td>\n",
       "      <td>STARA CERKEV</td>\n",
       "      <td>20</td>\n",
       "    </tr>\n",
       "    <tr>\n",
       "      <th>20</th>\n",
       "      <td>Celovška cesta 111c</td>\n",
       "      <td>46.069280</td>\n",
       "      <td>14.489710</td>\n",
       "      <td>KINO ŠIŠKA</td>\n",
       "      <td>21</td>\n",
       "    </tr>\n",
       "    <tr>\n",
       "      <th>21</th>\n",
       "      <td>Prule 8</td>\n",
       "      <td>46.040213</td>\n",
       "      <td>14.512044</td>\n",
       "      <td>ŠPICA</td>\n",
       "      <td>22</td>\n",
       "    </tr>\n",
       "    <tr>\n",
       "      <th>22</th>\n",
       "      <td>Devinska ulica 1a</td>\n",
       "      <td>46.040810</td>\n",
       "      <td>14.499510</td>\n",
       "      <td>BARJANSKA C.-CENTER STAREJŠIH TRNOVO</td>\n",
       "      <td>23</td>\n",
       "    </tr>\n",
       "    <tr>\n",
       "      <th>23</th>\n",
       "      <td>Zaloška cesta 16</td>\n",
       "      <td>46.054410</td>\n",
       "      <td>14.529780</td>\n",
       "      <td>ZALOŠKA C.-GRABLOVIČEVA C.</td>\n",
       "      <td>24</td>\n",
       "    </tr>\n",
       "    <tr>\n",
       "      <th>24</th>\n",
       "      <td>Zaloška cesta 54</td>\n",
       "      <td>46.055801</td>\n",
       "      <td>14.534156</td>\n",
       "      <td>TRŽNICA MOSTE</td>\n",
       "      <td>25</td>\n",
       "    </tr>\n",
       "    <tr>\n",
       "      <th>25</th>\n",
       "      <td>Škrabčeva ulica 2</td>\n",
       "      <td>46.051439</td>\n",
       "      <td>14.492730</td>\n",
       "      <td>ROŽNA DOLINA-ŠKRABČEVA UL.</td>\n",
       "      <td>26</td>\n",
       "    </tr>\n",
       "    <tr>\n",
       "      <th>26</th>\n",
       "      <td>Dunajska cesta 50</td>\n",
       "      <td>46.065136</td>\n",
       "      <td>14.509112</td>\n",
       "      <td>DUNAJSKA C.-PS PETROL</td>\n",
       "      <td>27</td>\n",
       "    </tr>\n",
       "    <tr>\n",
       "      <th>27</th>\n",
       "      <td>Dunajska cesta 70</td>\n",
       "      <td>46.069420</td>\n",
       "      <td>14.510520</td>\n",
       "      <td>PLEČNIKOV STADION</td>\n",
       "      <td>28</td>\n",
       "    </tr>\n",
       "    <tr>\n",
       "      <th>28</th>\n",
       "      <td>Dunajska cesta 105</td>\n",
       "      <td>46.074193</td>\n",
       "      <td>14.511134</td>\n",
       "      <td>DUNAJSKA C.-PS MERCATOR</td>\n",
       "      <td>29</td>\n",
       "    </tr>\n",
       "    <tr>\n",
       "      <th>29</th>\n",
       "      <td>Vojkova cesta 73</td>\n",
       "      <td>46.075860</td>\n",
       "      <td>14.519590</td>\n",
       "      <td>VOJKOVA C.-BOŽIČEVA C.</td>\n",
       "      <td>30</td>\n",
       "    </tr>\n",
       "    <tr>\n",
       "      <th>30</th>\n",
       "      <td>Vojkova cesta 91</td>\n",
       "      <td>46.082590</td>\n",
       "      <td>14.520160</td>\n",
       "      <td>ŠPORTNI CENTER STOŽICE</td>\n",
       "      <td>31</td>\n",
       "    </tr>\n",
       "    <tr>\n",
       "      <th>31</th>\n",
       "      <td>Koprska ulica 98</td>\n",
       "      <td>46.033408</td>\n",
       "      <td>14.482468</td>\n",
       "      <td>KOPRSKA ULICA</td>\n",
       "      <td>32</td>\n",
       "    </tr>\n",
       "    <tr>\n",
       "      <th>32</th>\n",
       "      <td>Cesta Ljubljanske brigade 33</td>\n",
       "      <td>46.087079</td>\n",
       "      <td>14.475439</td>\n",
       "      <td>MERCATOR CENTER ŠIŠKA</td>\n",
       "      <td>33</td>\n",
       "    </tr>\n",
       "    <tr>\n",
       "      <th>33</th>\n",
       "      <td>Citypark - Šmartinska 152 g</td>\n",
       "      <td>46.068805</td>\n",
       "      <td>14.546257</td>\n",
       "      <td>CITYPARK</td>\n",
       "      <td>34</td>\n",
       "    </tr>\n",
       "    <tr>\n",
       "      <th>34</th>\n",
       "      <td>BTC City - Dvorana A</td>\n",
       "      <td>46.065297</td>\n",
       "      <td>14.543996</td>\n",
       "      <td>BTC CITY - DVORANA A</td>\n",
       "      <td>35</td>\n",
       "    </tr>\n",
       "    <tr>\n",
       "      <th>35</th>\n",
       "      <td>BTC City - Atlantis</td>\n",
       "      <td>46.063081</td>\n",
       "      <td>14.547851</td>\n",
       "      <td>BTC CITY - ATLANTIS</td>\n",
       "      <td>36</td>\n",
       "    </tr>\n",
       "    <tr>\n",
       "      <th>36</th>\n",
       "      <td>TRNOVO</td>\n",
       "      <td>46.037840</td>\n",
       "      <td>14.500010</td>\n",
       "      <td>TRNOVO</td>\n",
       "      <td>37</td>\n",
       "    </tr>\n",
       "    <tr>\n",
       "      <th>37</th>\n",
       "      <td>P+R BARJE</td>\n",
       "      <td>46.027490</td>\n",
       "      <td>14.499580</td>\n",
       "      <td>P+R BARJE</td>\n",
       "      <td>38</td>\n",
       "    </tr>\n",
       "  </tbody>\n",
       "</table>\n",
       "</div>"
      ],
      "text/plain": [
       "                         address   latitude  longitude  \\\n",
       "0                Prešernov trg 6  46.051367  14.506542   \n",
       "1               Pogačarjev trg 3  46.051093  14.507186   \n",
       "2                Kongresni trg 3  46.050388  14.504623   \n",
       "3             Cankarjeva cesta 1  46.052431  14.503257   \n",
       "4                        Breg 20  46.046498  14.505148   \n",
       "5            Grudnovo nabrežje 3  46.045748  14.506196   \n",
       "6           Miklošičeva cesta 20  46.054168  14.507060   \n",
       "7            Slovenska cesta 55c  46.056820  14.505510   \n",
       "8                      Trg OF 12  46.057421  14.510265   \n",
       "9            Masarykova cesta 14  46.057630  14.514264   \n",
       "10           Vilharjeva cesta 23  46.060050  14.513020   \n",
       "11              Železna cesta 18  46.063610  14.513150   \n",
       "12                     Trg MDB 9  46.047565  14.495687   \n",
       "13               Zoisova cesta 2  46.046377  14.501256   \n",
       "14           Poljanska cesta 20c  46.049877  14.516308   \n",
       "15               Zaloška cesta 1  46.052570  14.519280   \n",
       "16               Ilirska ulica 1  46.053144  14.513479   \n",
       "17              Tržaška cesta 37  46.044629  14.486699   \n",
       "18             Celovška cesta 26  46.059520  14.498200   \n",
       "19             Celovška cesta 69  46.063420  14.494588   \n",
       "20           Celovška cesta 111c  46.069280  14.489710   \n",
       "21                       Prule 8  46.040213  14.512044   \n",
       "22             Devinska ulica 1a  46.040810  14.499510   \n",
       "23              Zaloška cesta 16  46.054410  14.529780   \n",
       "24              Zaloška cesta 54  46.055801  14.534156   \n",
       "25             Škrabčeva ulica 2  46.051439  14.492730   \n",
       "26             Dunajska cesta 50  46.065136  14.509112   \n",
       "27             Dunajska cesta 70  46.069420  14.510520   \n",
       "28            Dunajska cesta 105  46.074193  14.511134   \n",
       "29              Vojkova cesta 73  46.075860  14.519590   \n",
       "30              Vojkova cesta 91  46.082590  14.520160   \n",
       "31              Koprska ulica 98  46.033408  14.482468   \n",
       "32  Cesta Ljubljanske brigade 33  46.087079  14.475439   \n",
       "33   Citypark - Šmartinska 152 g  46.068805  14.546257   \n",
       "34          BTC City - Dvorana A  46.065297  14.543996   \n",
       "35           BTC City - Atlantis  46.063081  14.547851   \n",
       "36                        TRNOVO  46.037840  14.500010   \n",
       "37                     P+R BARJE  46.027490  14.499580   \n",
       "\n",
       "                                    name  number  \n",
       "0     PREŠERNOV TRG-PETKOVŠKOVO NABREŽJE       1  \n",
       "1                 POGAČARJEV TRG-TRŽNICA       2  \n",
       "2           KONGRESNI TRG-ŠUBIČEVA ULICA       3  \n",
       "3                    CANKARJEVA UL.-NAMA       4  \n",
       "4                                   BREG       5  \n",
       "5         GRUDNOVO NABREŽJE-KARLOVŠKA C.       6  \n",
       "6                        MIKLOŠIČEV PARK       7  \n",
       "7                          BAVARSKI DVOR       8  \n",
       "8                 TRG OF-KOLODVORSKA UL.       9  \n",
       "9                         MASARYKOVA DDC      10  \n",
       "10                      VILHARJEVA CESTA      11  \n",
       "11              PARK NAVJE-ŽELEZNA CESTA      12  \n",
       "12                               TRG MDB      13  \n",
       "13                   PARKIRIŠČE NUK 2-FF      14  \n",
       "14                          AMBROŽEV TRG      15  \n",
       "15             GH ŠENTPETER-NJEGOŠEVA C.      16  \n",
       "16                         ILIRSKA ULICA      17  \n",
       "17                    TRŽAŠKA C.-ILIRIJA      18  \n",
       "18                                TIVOLI      19  \n",
       "19                          STARA CERKEV      20  \n",
       "20                            KINO ŠIŠKA      21  \n",
       "21                                 ŠPICA      22  \n",
       "22  BARJANSKA C.-CENTER STAREJŠIH TRNOVO      23  \n",
       "23            ZALOŠKA C.-GRABLOVIČEVA C.      24  \n",
       "24                         TRŽNICA MOSTE      25  \n",
       "25            ROŽNA DOLINA-ŠKRABČEVA UL.      26  \n",
       "26                 DUNAJSKA C.-PS PETROL      27  \n",
       "27                     PLEČNIKOV STADION      28  \n",
       "28               DUNAJSKA C.-PS MERCATOR      29  \n",
       "29                VOJKOVA C.-BOŽIČEVA C.      30  \n",
       "30                ŠPORTNI CENTER STOŽICE      31  \n",
       "31                         KOPRSKA ULICA      32  \n",
       "32                 MERCATOR CENTER ŠIŠKA      33  \n",
       "33                              CITYPARK      34  \n",
       "34                  BTC CITY - DVORANA A      35  \n",
       "35                   BTC CITY - ATLANTIS      36  \n",
       "36                                TRNOVO      37  \n",
       "37                             P+R BARJE      38  "
      ]
     },
     "execution_count": 7,
     "metadata": {},
     "output_type": "execute_result"
    }
   ],
   "source": [
    "station_info"
   ]
  },
  {
   "cell_type": "code",
   "execution_count": 8,
   "metadata": {
    "collapsed": false
   },
   "outputs": [],
   "source": [
    "# Save to CSV\n",
    "station_info.to_csv(station_info_fn, index=True)"
   ]
  },
  {
   "cell_type": "markdown",
   "metadata": {},
   "source": [
    "## Read station data"
   ]
  },
  {
   "cell_type": "code",
   "execution_count": 9,
   "metadata": {
    "collapsed": true
   },
   "outputs": [],
   "source": [
    "response = urlopen(station_data_url)\n",
    "if response.code == 200:\n",
    "    data = response.read().decode('utf-8')\n",
    "else:\n",
    "    print(\"Wrong response from \", station_data_url)"
   ]
  },
  {
   "cell_type": "code",
   "execution_count": 10,
   "metadata": {
    "collapsed": true
   },
   "outputs": [],
   "source": [
    "station_data_json = json.loads(data)"
   ]
  },
  {
   "cell_type": "code",
   "execution_count": 11,
   "metadata": {
    "collapsed": true
   },
   "outputs": [],
   "source": [
    "station_data = pd.DataFrame(station_data_json).sort_values([\"number\"]).reset_index(drop=True)"
   ]
  },
  {
   "cell_type": "code",
   "execution_count": 12,
   "metadata": {
    "collapsed": false
   },
   "outputs": [
    {
     "data": {
      "text/plain": [
       "Index(['address', 'available_bike_stands', 'available_bikes', 'banking',\n",
       "       'bike_stands', 'bonus', 'contract_name', 'last_update', 'name',\n",
       "       'number', 'position', 'status'],\n",
       "      dtype='object')"
      ]
     },
     "execution_count": 12,
     "metadata": {},
     "output_type": "execute_result"
    }
   ],
   "source": [
    "station_data.columns"
   ]
  },
  {
   "cell_type": "code",
   "execution_count": 13,
   "metadata": {
    "collapsed": false
   },
   "outputs": [],
   "source": [
    "station_data_real = station_data[['available_bike_stands', 'available_bikes', 'banking', 'bike_stands',\n",
    "                                 'bonus', 'last_update', 'number', 'status']].copy()"
   ]
  },
  {
   "cell_type": "code",
   "execution_count": 14,
   "metadata": {
    "collapsed": false
   },
   "outputs": [],
   "source": [
    "station_data_real[\"last_update_time\"] = pd.to_datetime(station_data_real[\"last_update\"]*1e6)"
   ]
  },
  {
   "cell_type": "code",
   "execution_count": 15,
   "metadata": {
    "collapsed": false
   },
   "outputs": [],
   "source": [
    "station_data_real = station_data_real.set_index([\"last_update_time\"])"
   ]
  },
  {
   "cell_type": "code",
   "execution_count": 16,
   "metadata": {
    "collapsed": false
   },
   "outputs": [
    {
     "data": {
      "text/html": [
       "<div>\n",
       "<table border=\"1\" class=\"dataframe\">\n",
       "  <thead>\n",
       "    <tr style=\"text-align: right;\">\n",
       "      <th></th>\n",
       "      <th>available_bike_stands</th>\n",
       "      <th>available_bikes</th>\n",
       "      <th>banking</th>\n",
       "      <th>bike_stands</th>\n",
       "      <th>bonus</th>\n",
       "      <th>last_update</th>\n",
       "      <th>number</th>\n",
       "      <th>status</th>\n",
       "    </tr>\n",
       "    <tr>\n",
       "      <th>last_update_time</th>\n",
       "      <th></th>\n",
       "      <th></th>\n",
       "      <th></th>\n",
       "      <th></th>\n",
       "      <th></th>\n",
       "      <th></th>\n",
       "      <th></th>\n",
       "      <th></th>\n",
       "    </tr>\n",
       "  </thead>\n",
       "  <tbody>\n",
       "    <tr>\n",
       "      <th>2017-01-19 14:10:14</th>\n",
       "      <td>10</td>\n",
       "      <td>10</td>\n",
       "      <td>False</td>\n",
       "      <td>20</td>\n",
       "      <td>False</td>\n",
       "      <td>1484835014000</td>\n",
       "      <td>1</td>\n",
       "      <td>OPEN</td>\n",
       "    </tr>\n",
       "    <tr>\n",
       "      <th>2017-01-19 14:07:09</th>\n",
       "      <td>8</td>\n",
       "      <td>8</td>\n",
       "      <td>False</td>\n",
       "      <td>18</td>\n",
       "      <td>False</td>\n",
       "      <td>1484834829000</td>\n",
       "      <td>2</td>\n",
       "      <td>OPEN</td>\n",
       "    </tr>\n",
       "    <tr>\n",
       "      <th>2017-01-19 14:10:26</th>\n",
       "      <td>10</td>\n",
       "      <td>9</td>\n",
       "      <td>False</td>\n",
       "      <td>20</td>\n",
       "      <td>False</td>\n",
       "      <td>1484835026000</td>\n",
       "      <td>3</td>\n",
       "      <td>OPEN</td>\n",
       "    </tr>\n",
       "    <tr>\n",
       "      <th>2017-01-19 14:13:04</th>\n",
       "      <td>19</td>\n",
       "      <td>4</td>\n",
       "      <td>False</td>\n",
       "      <td>26</td>\n",
       "      <td>False</td>\n",
       "      <td>1484835184000</td>\n",
       "      <td>4</td>\n",
       "      <td>OPEN</td>\n",
       "    </tr>\n",
       "    <tr>\n",
       "      <th>2017-01-19 14:10:15</th>\n",
       "      <td>13</td>\n",
       "      <td>7</td>\n",
       "      <td>False</td>\n",
       "      <td>20</td>\n",
       "      <td>False</td>\n",
       "      <td>1484835015000</td>\n",
       "      <td>5</td>\n",
       "      <td>OPEN</td>\n",
       "    </tr>\n",
       "  </tbody>\n",
       "</table>\n",
       "</div>"
      ],
      "text/plain": [
       "                     available_bike_stands  available_bikes banking  \\\n",
       "last_update_time                                                      \n",
       "2017-01-19 14:10:14                     10               10   False   \n",
       "2017-01-19 14:07:09                      8                8   False   \n",
       "2017-01-19 14:10:26                     10                9   False   \n",
       "2017-01-19 14:13:04                     19                4   False   \n",
       "2017-01-19 14:10:15                     13                7   False   \n",
       "\n",
       "                     bike_stands  bonus    last_update  number status  \n",
       "last_update_time                                                       \n",
       "2017-01-19 14:10:14           20  False  1484835014000       1   OPEN  \n",
       "2017-01-19 14:07:09           18  False  1484834829000       2   OPEN  \n",
       "2017-01-19 14:10:26           20  False  1484835026000       3   OPEN  \n",
       "2017-01-19 14:13:04           26  False  1484835184000       4   OPEN  \n",
       "2017-01-19 14:10:15           20  False  1484835015000       5   OPEN  "
      ]
     },
     "execution_count": 16,
     "metadata": {},
     "output_type": "execute_result"
    }
   ],
   "source": [
    "station_data_real.head()"
   ]
  },
  {
   "cell_type": "code",
   "execution_count": 17,
   "metadata": {
    "collapsed": false
   },
   "outputs": [],
   "source": [
    "try:\n",
    "    station_data_full = pd.read_csv(station_data_fn, index_col=\"last_update_time\")\n",
    "    station_data_full = station_data_full.append(station_data_real).drop_duplicates()\n",
    "    station_data_full.to_csv(station_data_fn, index=True)\n",
    "except:\n",
    "    station_data_real.to_csv(station_data_fn, index=True)"
   ]
  },
  {
   "cell_type": "markdown",
   "metadata": {},
   "source": [
    "## Analyze station data"
   ]
  },
  {
   "cell_type": "code",
   "execution_count": 18,
   "metadata": {
    "collapsed": true
   },
   "outputs": [],
   "source": [
    "station_data_full = pd.read_csv(station_data_fn, index_col=\"last_update_time\")"
   ]
  },
  {
   "cell_type": "code",
   "execution_count": 19,
   "metadata": {
    "collapsed": false
   },
   "outputs": [
    {
     "data": {
      "text/html": [
       "<div>\n",
       "<table border=\"1\" class=\"dataframe\">\n",
       "  <thead>\n",
       "    <tr style=\"text-align: right;\">\n",
       "      <th></th>\n",
       "      <th>available_bike_stands</th>\n",
       "      <th>available_bikes</th>\n",
       "      <th>bike_stands</th>\n",
       "      <th>last_update</th>\n",
       "      <th>number</th>\n",
       "    </tr>\n",
       "  </thead>\n",
       "  <tbody>\n",
       "    <tr>\n",
       "      <th>count</th>\n",
       "      <td>195.000000</td>\n",
       "      <td>195.000000</td>\n",
       "      <td>195.000000</td>\n",
       "      <td>1.950000e+02</td>\n",
       "      <td>195.000000</td>\n",
       "    </tr>\n",
       "    <tr>\n",
       "      <th>mean</th>\n",
       "      <td>13.015385</td>\n",
       "      <td>6.158974</td>\n",
       "      <td>19.774359</td>\n",
       "      <td>1.484832e+12</td>\n",
       "      <td>19.400000</td>\n",
       "    </tr>\n",
       "    <tr>\n",
       "      <th>std</th>\n",
       "      <td>4.963243</td>\n",
       "      <td>5.216979</td>\n",
       "      <td>3.373694</td>\n",
       "      <td>1.496235e+06</td>\n",
       "      <td>10.939572</td>\n",
       "    </tr>\n",
       "    <tr>\n",
       "      <th>min</th>\n",
       "      <td>1.000000</td>\n",
       "      <td>0.000000</td>\n",
       "      <td>8.000000</td>\n",
       "      <td>1.484830e+12</td>\n",
       "      <td>1.000000</td>\n",
       "    </tr>\n",
       "    <tr>\n",
       "      <th>25%</th>\n",
       "      <td>9.000000</td>\n",
       "      <td>2.000000</td>\n",
       "      <td>18.000000</td>\n",
       "      <td>1.484831e+12</td>\n",
       "      <td>10.000000</td>\n",
       "    </tr>\n",
       "    <tr>\n",
       "      <th>50%</th>\n",
       "      <td>14.000000</td>\n",
       "      <td>5.000000</td>\n",
       "      <td>20.000000</td>\n",
       "      <td>1.484832e+12</td>\n",
       "      <td>20.000000</td>\n",
       "    </tr>\n",
       "    <tr>\n",
       "      <th>75%</th>\n",
       "      <td>17.000000</td>\n",
       "      <td>10.000000</td>\n",
       "      <td>20.500000</td>\n",
       "      <td>1.484832e+12</td>\n",
       "      <td>29.000000</td>\n",
       "    </tr>\n",
       "    <tr>\n",
       "      <th>max</th>\n",
       "      <td>20.000000</td>\n",
       "      <td>19.000000</td>\n",
       "      <td>26.000000</td>\n",
       "      <td>1.484835e+12</td>\n",
       "      <td>38.000000</td>\n",
       "    </tr>\n",
       "  </tbody>\n",
       "</table>\n",
       "</div>"
      ],
      "text/plain": [
       "       available_bike_stands  available_bikes  bike_stands   last_update  \\\n",
       "count             195.000000       195.000000   195.000000  1.950000e+02   \n",
       "mean               13.015385         6.158974    19.774359  1.484832e+12   \n",
       "std                 4.963243         5.216979     3.373694  1.496235e+06   \n",
       "min                 1.000000         0.000000     8.000000  1.484830e+12   \n",
       "25%                 9.000000         2.000000    18.000000  1.484831e+12   \n",
       "50%                14.000000         5.000000    20.000000  1.484832e+12   \n",
       "75%                17.000000        10.000000    20.500000  1.484832e+12   \n",
       "max                20.000000        19.000000    26.000000  1.484835e+12   \n",
       "\n",
       "           number  \n",
       "count  195.000000  \n",
       "mean    19.400000  \n",
       "std     10.939572  \n",
       "min      1.000000  \n",
       "25%     10.000000  \n",
       "50%     20.000000  \n",
       "75%     29.000000  \n",
       "max     38.000000  "
      ]
     },
     "execution_count": 19,
     "metadata": {},
     "output_type": "execute_result"
    }
   ],
   "source": [
    "station_data_full.describe()"
   ]
  },
  {
   "cell_type": "code",
   "execution_count": 20,
   "metadata": {
    "collapsed": false
   },
   "outputs": [
    {
     "data": {
      "text/plain": [
       "<matplotlib.axes._subplots.AxesSubplot at 0x29de47b1940>"
      ]
     },
     "execution_count": 20,
     "metadata": {},
     "output_type": "execute_result"
    },
    {
     "data": {
      "image/png": "[encoded data removed]",
      "text/plain": [
       "<matplotlib.figure.Figure at 0x29de47b13c8>"
      ]
     },
     "metadata": {},
     "output_type": "display_data"
    }
   ],
   "source": [
    "station_data_full[station_data_full[\"number\"] == 3][\"available_bike_stands\"].plot(linestyle=\"steps\")"
   ]
  },
  {
   "cell_type": "code",
   "execution_count": 21,
   "metadata": {
    "collapsed": false
   },
   "outputs": [
    {
     "data": {
      "text/plain": [
       "<matplotlib.axes._subplots.AxesSubplot at 0x29de479fc88>"
      ]
     },
     "execution_count": 21,
     "metadata": {},
     "output_type": "execute_result"
    },
    {
     "data": {
      "image/png": "[encoded data removed]",
      "text/plain": [
       "<matplotlib.figure.Figure at 0x29de489e2e8>"
      ]
     },
     "metadata": {},
     "output_type": "display_data"
    }
   ],
   "source": [
    "station_data_full[station_data_full[\"number\"] == 3][\"available_bikes\"].plot(linestyle=\"steps\")"
   ]
  },
  {
   "cell_type": "code",
   "execution_count": null,
   "metadata": {
    "collapsed": true
   },
   "outputs": [],
   "source": []
  }
 ],
 "metadata": {
  "anaconda-cloud": {},
  "kernelspec": {
   "display_name": "Python [Root]",
   "language": "python",
   "name": "Python [Root]"
  },
  "language_info": {
   "codemirror_mode": {
    "name": "ipython",
    "version": 3
   },
   "file_extension": ".py",
   "mimetype": "text/x-python",
   "name": "python",
   "nbconvert_exporter": "python",
   "pygments_lexer": "ipython3",
   "version": "3.5.2"
  }
 },
 "nbformat": 4,
 "nbformat_minor": 0
}
