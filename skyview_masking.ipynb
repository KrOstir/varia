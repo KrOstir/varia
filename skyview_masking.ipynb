{
 "cells": [
  {
   "cell_type": "markdown",
   "metadata": {},
   "source": [
    "# Skyview masking\n",
    "\n",
    "Create skyview mask from fisheye photo. The mask should be simplified, can be fuzzy. Workflow:\n",
    "\n",
    "1. Open images\n",
    "2. Find tresholds for sky, use blue, possible also red and green band.\n",
    "3. Create fuzzy mask\n",
    "4. Create hard mask\n",
    "5. Fill smaller areas"
   ]
  },
  {
   "cell_type": "code",
   "execution_count": null,
   "metadata": {
    "pycharm": {
     "is_executing": false
    }
   },
   "outputs": [],
   "source": [
    "# Libraries\n",
    "from skimage import io\n",
    "from skimage import filters\n",
    "from skimage import morphology\n",
    "import numpy as np\n",
    "import matplotlib.pyplot as plt\n",
    "from PIL import Image"
   ]
  },
  {
   "cell_type": "code",
   "execution_count": null,
   "metadata": {
    "pycharm": {
     "is_executing": false
    }
   },
   "outputs": [],
   "source": [
    "plt.rcParams['figure.figsize'] = (15, 10)"
   ]
  },
  {
   "cell_type": "markdown",
   "metadata": {},
   "source": [
    "## Read image"
   ]
  },
  {
   "cell_type": "code",
   "execution_count": null,
   "metadata": {
    "pycharm": {
     "is_executing": false
    }
   },
   "outputs": [],
   "source": [
    "# Photo filename\n",
    "# photo = \"./SkyView/2019_03_31.jpg\"\n",
    "# photo = \"./SkyView/2019_04_10.jpg\"\n",
    "# photo = \"./SkyView/2019_04_12.jpg\"\n",
    "photo = \"./SkyView/2019_04_15.jpg\"\n",
    "image = io.imread(photo)"
   ]
  },
  {
   "cell_type": "code",
   "execution_count": null,
   "metadata": {
    "pycharm": {
     "is_executing": false
    }
   },
   "outputs": [],
   "source": [
    "image.shape"
   ]
  },
  {
   "cell_type": "code",
   "execution_count": null,
   "metadata": {
    "pycharm": {
     "is_executing": false
    }
   },
   "outputs": [],
   "source": [
    "plt.imshow(image)"
   ]
  },
  {
   "cell_type": "markdown",
   "metadata": {},
   "source": [
    "### Simple treshold\n",
    "\n",
    "NumPy array bands.\n",
    "\n",
    "| No. | Band  |\n",
    "|-----|-------|\n",
    "| 0   | red   |\n",
    "| 1   | green |\n",
    "| 2   | bluu  |"
   ]
  },
  {
   "cell_type": "code",
   "execution_count": null,
   "metadata": {
    "pycharm": {
     "is_executing": false
    }
   },
   "outputs": [],
   "source": [
    "band = image[:,:,0]\n",
    "plt.imshow(band > 120)"
   ]
  },
  {
   "cell_type": "markdown",
   "metadata": {},
   "source": [
    "## Treshold filters\n",
    "\n",
    "All bands to check the best for masking. Test different treshold detection algorithms. "
   ]
  },
  {
   "cell_type": "code",
   "execution_count": null,
   "metadata": {
    "pycharm": {
     "is_executing": false
    }
   },
   "outputs": [],
   "source": [
    "# Plot image, histogram, treshold, mask\n",
    "def treshold_plot_hist (band, tresh, mask, title = \"\"):\n",
    "    fig, axes = plt.subplots(ncols=3, figsize=(15, 5))\n",
    "    fig.suptitle(title)\n",
    "    \n",
    "    ax = axes.ravel()\n",
    "    ax[0] = plt.subplot(1, 3, 1)\n",
    "    ax[1] = plt.subplot(1, 3, 2)\n",
    "    ax[2] = plt.subplot(1, 3, 3, sharex=ax[0], sharey=ax[0])\n",
    "\n",
    "    ax[0].imshow(band, cmap=plt.cm.gray)\n",
    "    ax[0].set_title('Original')\n",
    "    ax[0].axis('off')\n",
    "\n",
    "    ax[1].hist(band.ravel(), bins=256)\n",
    "    ax[1].set_title('Histogram')\n",
    "    ax[1].axvline(tresh, color='r')\n",
    "    ax[1].text(0.8, 0.95, tresh, transform=ax[1].transAxes, fontsize=14,\n",
    "        verticalalignment='top', color='r')\n",
    "    \n",
    "\n",
    "    ax[2].imshow(mask, cmap=plt.cm.gray)\n",
    "    ax[2].set_title('Thresholded')\n",
    "    ax[2].axis('off')\n",
    "\n",
    "    plt.show()"
   ]
  },
  {
   "cell_type": "code",
   "execution_count": null,
   "metadata": {
    "pycharm": {
     "is_executing": false
    }
   },
   "outputs": [],
   "source": [
    "# Plot image, mask\n",
    "def treshold_plot (band, mask, title = \"\"):\n",
    "    fig, axes = plt.subplots(ncols=2, figsize=(15, 7))\n",
    "    fig.suptitle(title)\n",
    "    \n",
    "    ax = axes.ravel()\n",
    "    ax[0] = plt.subplot(1, 2, 1)\n",
    "    ax[1] = plt.subplot(1, 2, 2, sharex=ax[0], sharey=ax[0])\n",
    "\n",
    "    ax[0].imshow(band, cmap=plt.cm.gray)\n",
    "    ax[0].set_title('Original')\n",
    "    ax[0].axis('off')\n",
    "\n",
    "    ax[1].imshow(mask, cmap=plt.cm.gray)\n",
    "    ax[1].set_title('Thresholded')\n",
    "    ax[1].axis('off')\n",
    "\n",
    "    plt.show()"
   ]
  },
  {
   "cell_type": "markdown",
   "metadata": {},
   "source": [
    "### Otsu"
   ]
  },
  {
   "cell_type": "code",
   "execution_count": null,
   "metadata": {
    "pycharm": {
     "is_executing": false
    }
   },
   "outputs": [],
   "source": [
    "for img_b in range(3):\n",
    "    img = image[:,:,img_b]\n",
    "    val = filters.threshold_otsu(img)\n",
    "    mask = img >= val\n",
    "    treshold_plot_hist(img, val, mask, img_b)"
   ]
  },
  {
   "cell_type": "markdown",
   "metadata": {},
   "source": [
    "### Yen"
   ]
  },
  {
   "cell_type": "code",
   "execution_count": null,
   "metadata": {},
   "outputs": [],
   "source": [
    "for img_b in range(3):\n",
    "    img = image[:,:,img_b]\n",
    "    val = filters.threshold_yen(img)\n",
    "    mask = img >= val\n",
    "    treshold_plot_hist(img, val, mask, img_b)"
   ]
  },
  {
   "cell_type": "markdown",
   "metadata": {},
   "source": [
    "### Isodata"
   ]
  },
  {
   "cell_type": "code",
   "execution_count": null,
   "metadata": {},
   "outputs": [],
   "source": [
    "for img_b in range(3):\n",
    "    img = image[:,:,img_b]\n",
    "    val = filters.threshold_isodata(img)\n",
    "    mask = img >= val\n",
    "    treshold_plot_hist(img, val, mask, img_b)"
   ]
  },
  {
   "cell_type": "markdown",
   "metadata": {},
   "source": [
    "### Li"
   ]
  },
  {
   "cell_type": "code",
   "execution_count": null,
   "metadata": {},
   "outputs": [],
   "source": [
    "for img_b in range(3):\n",
    "    img = image[:,:,img_b]\n",
    "    val = filters.threshold_li(img)\n",
    "    mask = img >= val\n",
    "    treshold_plot_hist(img, val, mask, img_b)"
   ]
  },
  {
   "cell_type": "markdown",
   "metadata": {},
   "source": [
    "No filter outperforms the others, Otsu is fast and suitable, so it is selected."
   ]
  },
  {
   "cell_type": "markdown",
   "metadata": {},
   "source": [
    "## Aggregation\n",
    "\n",
    "All bands are tresholded and the mask is combined. We are using Otsu filter tresholds."
   ]
  },
  {
   "cell_type": "code",
   "execution_count": null,
   "metadata": {},
   "outputs": [],
   "source": [
    "# Find tresholds\n",
    "tresh = np.empty(3, dtype=int)\n",
    "for img_b in range(3):\n",
    "    img = image[:,:,img_b]\n",
    "    tresh[img_b] = filters.threshold_otsu(img)\n",
    "tresh"
   ]
  },
  {
   "cell_type": "markdown",
   "metadata": {},
   "source": [
    "### Create masks\n",
    "\n",
    "Creeate mask for all bands and add the masks."
   ]
  },
  {
   "cell_type": "code",
   "execution_count": null,
   "metadata": {},
   "outputs": [],
   "source": [
    "# Dermined treshold\n",
    "mask = np.copy(image[:,:,0]) * 0\n",
    "for i in range(3):\n",
    "    mask_add = image[:,:,i] >= tresh[i]\n",
    "    mask[:,:] = mask + mask_add"
   ]
  },
  {
   "cell_type": "markdown",
   "metadata": {},
   "source": [
    "### Fuzzy mask"
   ]
  },
  {
   "cell_type": "code",
   "execution_count": null,
   "metadata": {},
   "outputs": [],
   "source": [
    "plt.imshow(mask)"
   ]
  },
  {
   "cell_type": "markdown",
   "metadata": {},
   "source": [
    "### Hard mask\n",
    "\n",
    "If any of the treasholds has been detected, the mask is true."
   ]
  },
  {
   "cell_type": "code",
   "execution_count": null,
   "metadata": {},
   "outputs": [],
   "source": [
    "mask_h = mask > 1\n",
    "plt.imshow(mask_h)"
   ]
  },
  {
   "cell_type": "code",
   "execution_count": null,
   "metadata": {},
   "outputs": [],
   "source": [
    "mask_h_im = Image.fromarray(mask_h * 255)\n",
    "mask_h_im = mask_h_im.convert(\"L\")"
   ]
  },
  {
   "cell_type": "code",
   "execution_count": null,
   "metadata": {},
   "outputs": [],
   "source": [
    "# mask_h_im.show()\n",
    "photo_out = photo.rsplit('.', 1)[0] + \"_mask\"+ \".png\"\n",
    "mask_h_im.save(photo_out)"
   ]
  },
  {
   "cell_type": "markdown",
   "metadata": {},
   "source": [
    "# Erosion\n",
    "\n",
    "Morphological erosion sets a pixel at to the minimum over all pixels in the neighborhood. Erosion shrinks open regions and enlarges masked regions."
   ]
  },
  {
   "cell_type": "code",
   "execution_count": null,
   "metadata": {},
   "outputs": [],
   "source": [
    "mask_erosion = morphology.binary_erosion(mask_h)\n",
    "plt.imshow(mask_erosion)"
   ]
  },
  {
   "cell_type": "code",
   "execution_count": null,
   "metadata": {},
   "outputs": [],
   "source": [
    "# Erosion with larger square window\n",
    "mask_erosion = morphology.binary_erosion(mask_h, morphology.selem.square(3))\n",
    "plt.imshow(mask_erosion)"
   ]
  },
  {
   "cell_type": "markdown",
   "metadata": {},
   "source": [
    "## Example"
   ]
  },
  {
   "cell_type": "code",
   "execution_count": null,
   "metadata": {},
   "outputs": [],
   "source": [
    "# Photo filename\n",
    "photo = \"./SkyView/skyview_tree.jpg\"\n",
    "image = io.imread(photo)"
   ]
  },
  {
   "cell_type": "code",
   "execution_count": null,
   "metadata": {},
   "outputs": [],
   "source": [
    "plt.imshow(image)"
   ]
  },
  {
   "cell_type": "code",
   "execution_count": null,
   "metadata": {},
   "outputs": [],
   "source": [
    "tresh = np.empty(3, dtype=int)\n",
    "for img_b in range(3):\n",
    "    img = image[:,:,img_b]\n",
    "    tresh[img_b] = filters.threshold_otsu(img)\n",
    "tresh"
   ]
  },
  {
   "cell_type": "code",
   "execution_count": null,
   "metadata": {},
   "outputs": [],
   "source": [
    "# Dermined treshold\n",
    "mask = np.copy(image[:,:,0]) * 0\n",
    "for i in range(3):\n",
    "    mask_add = image[:,:,i] >= tresh[i]\n",
    "    mask[:,:] = mask + mask_add"
   ]
  },
  {
   "cell_type": "code",
   "execution_count": null,
   "metadata": {},
   "outputs": [],
   "source": [
    "plt.imshow(mask)"
   ]
  },
  {
   "cell_type": "code",
   "execution_count": null,
   "metadata": {},
   "outputs": [],
   "source": [
    "mask_h = mask > 2\n",
    "plt.imshow(mask_h)"
   ]
  },
  {
   "cell_type": "code",
   "execution_count": null,
   "metadata": {},
   "outputs": [],
   "source": [
    "mask_erosion = morphology.binary_erosion(mask_h)\n",
    "plt.imshow(mask_erosion)"
   ]
  },
  {
   "cell_type": "markdown",
   "metadata": {},
   "source": [
    "## Segmentation\n",
    "\n",
    "Permorm image segmentation."
   ]
  },
  {
   "cell_type": "code",
   "execution_count": null,
   "metadata": {},
   "outputs": [],
   "source": [
    "# Libraries\n",
    "from skimage import segmentation\n",
    "from skimage import color"
   ]
  },
  {
   "cell_type": "markdown",
   "metadata": {},
   "source": [
    "### Simple Linear Iterative Clustering\n",
    "\n",
    "SLIC algorithm actually uses a machine learning algorithm called K-Means under the hood. It takes in all the pixel values of the image and tries to separate them out into the given number of sub-regions."
   ]
  },
  {
   "cell_type": "code",
   "execution_count": null,
   "metadata": {},
   "outputs": [],
   "source": [
    "# Segment and colorize\n",
    "image_slic = segmentation.slic(image,n_segments=2000)"
   ]
  },
  {
   "cell_type": "code",
   "execution_count": null,
   "metadata": {},
   "outputs": [],
   "source": [
    "# Colorize\n",
    "image_slic_colored = color.label2rgb(image_slic, image, kind='avg')"
   ]
  },
  {
   "cell_type": "code",
   "execution_count": null,
   "metadata": {},
   "outputs": [],
   "source": [
    "plt.imshow(image_slic_colored)"
   ]
  },
  {
   "cell_type": "markdown",
   "metadata": {},
   "source": [
    "### Felzenszwalb\n",
    "\n",
    "Uses a machine learning algorithm called minimum-spanning tree clustering under the hood. Felzenszwaib doesn’t tell us the exact number of clusters that the image will be partitioned into. It’s going to run and generate as many clusters as it thinks is appropriate for that given scale or zoom factor on the image"
   ]
  },
  {
   "cell_type": "code",
   "execution_count": null,
   "metadata": {},
   "outputs": [],
   "source": [
    "# Segment\n",
    "image_felzenszwalb = segmentation.felzenszwalb(image) "
   ]
  },
  {
   "cell_type": "code",
   "execution_count": null,
   "metadata": {},
   "outputs": [],
   "source": [
    "# Colorize\n",
    "image_felzenszwalb_colored = color.label2rgb(image_felzenszwalb, image, kind='avg')"
   ]
  },
  {
   "cell_type": "code",
   "execution_count": null,
   "metadata": {},
   "outputs": [],
   "source": [
    "plt.imshow(image_felzenszwalb_colored)"
   ]
  }
 ],
 "metadata": {
  "kernelspec": {
   "display_name": "Python 3",
   "language": "python",
   "name": "python3"
  },
  "language_info": {
   "codemirror_mode": {
    "name": "ipython",
    "version": 3
   },
   "file_extension": ".py",
   "mimetype": "text/x-python",
   "name": "python",
   "nbconvert_exporter": "python",
   "pygments_lexer": "ipython3",
   "version": "3.7.3"
  }
 },
 "nbformat": 4,
 "nbformat_minor": 2
}
