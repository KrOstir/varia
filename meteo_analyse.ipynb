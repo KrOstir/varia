{
 "cells": [
  {
   "cell_type": "markdown",
   "metadata": {
    "pycharm": {}
   },
   "source": [
    "# Analiza meteorološki podatkov\n",
    "\n",
    "Branje podatkov iz arhiva ARSO, analiza meritev. Informacije o podatkih so na voljo na  \n",
    "[http://meteo.arso.gov.si/met/sl/service/](http://meteo.arso.gov.si/met/sl/service/)\n",
    "\n",
    "\n",
    "Krištof Oštir, 2017-01-20"
   ]
  },
  {
   "cell_type": "code",
   "execution_count": null,
   "metadata": {
    "pycharm": {
     "is_executing": false
    }
   },
   "outputs": [],
   "source": [
    "# Potrebne knjižnice\n",
    "import numpy as np\n",
    "import pandas as pd\n",
    "from datetime import datetime\n",
    "import matplotlib\n",
    "import matplotlib.pyplot as plt\n",
    "import matplotlib.dates as mdates\n",
    "# Matplotlib\n",
    "%matplotlib inline\n",
    "# Plotting style\n",
    "matplotlib.style.use('bmh')\n",
    "matplotlib.rcParams['figure.figsize'] = (20.0, 20.0)"
   ]
  },
  {
   "cell_type": "markdown",
   "metadata": {
    "pycharm": {}
   },
   "source": [
    "# Analiza podatkov\n",
    "\n",
    "Preberemo podatke iz datoteke"
   ]
  },
  {
   "cell_type": "code",
   "execution_count": null,
   "metadata": {
    "pycharm": {}
   },
   "outputs": [],
   "source": [
    "# Ime datoteke\n",
    "meteo_data_csv = \"meteo_data_1701.csv\"\n",
    "meteo_data = pd.read_csv(meteo_data_csv, index_col=\"DateTime\", parse_dates=True)"
   ]
  },
  {
   "cell_type": "code",
   "execution_count": null,
   "metadata": {
    "pycharm": {}
   },
   "outputs": [],
   "source": [
    "meteo_data.head()"
   ]
  },
  {
   "cell_type": "markdown",
   "metadata": {
    "pycharm": {}
   },
   "source": [
    "Izriši potek temperatur."
   ]
  },
  {
   "cell_type": "code",
   "execution_count": null,
   "metadata": {
    "pycharm": {}
   },
   "outputs": [],
   "source": [
    "fig, axes = plt.subplots(nrows=2, ncols=1, sharex=True)\n",
    "days = mdates.DayLocator()\n",
    "hours = mdates.HourLocator()\n",
    "axes[0].xaxis.set_major_locator(days)\n",
    "axes[0].xaxis.set_minor_locator(hours)\n",
    "axesFmt = mdates.DateFormatter(\"%y-%m-%d\")\n",
    "axes[0].xaxis.set_major_formatter(axesFmt)\n",
    "axes[1].set_ylim(ymin = 0)\n",
    "date_time_range = str(min(meteo_data.index)) + ' - ' + str(max(meteo_data.index))\n",
    "meteo_data['Temp'].plot(title=station_name + ' - Temperatura - ' + date_time_range, ax=axes[0])\n",
    "meteo_data['Perc'].plot(title=station_name + ' - Padavine - ' + date_time_range, ax=axes[1], drawstyle='steps-pre')\n",
    "plt.show()"
   ]
  },
  {
   "cell_type": "code",
   "execution_count": null,
   "metadata": {
    "pycharm": {}
   },
   "outputs": [],
   "source": []
  }
 ],
 "metadata": {
  "anaconda-cloud": {},
  "kernelspec": {
   "display_name": "Python 3",
   "language": "python",
   "name": "python3"
  },
  "language_info": {
   "codemirror_mode": {
    "name": "ipython",
    "version": 3
   },
   "file_extension": ".py",
   "mimetype": "text/x-python",
   "name": "python",
   "nbconvert_exporter": "python",
   "pygments_lexer": "ipython3",
   "version": "3.7.3"
  }
 },
 "nbformat": 4,
 "nbformat_minor": 2
}
