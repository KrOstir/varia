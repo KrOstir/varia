{
 "cells": [
  {
   "cell_type": "markdown",
   "metadata": {},
   "source": [
    "# Remote Sensing — Open Access Journal\n",
    "\n",
    "Remote Sensing is a peer-reviewed, open access journal about the science and application of remote sensing technology, and is published semimonthly online by MDPI.\n",
    "\n",
    "**Open Access** — free for readers, with article processing charges (APC) paid by authors or their institutions.\n",
    "\n",
    "**High Visibility**: indexed within Scopus, SCIE (Web of Science), Ei Compendex, PubAg, GeoRef, Astrophysics Data System, Inspec, dblp, and many other databases.\n",
    "\n",
    "**Journal Rank**: JCR - Q1 (Geosciences, Multidisciplinary) / CiteScore - Q1 (General Earth and Planetary Sciences)\n",
    "\n",
    "**Rapid Publication**: manuscripts are peer-reviewed and a first decision provided to authors approximately 19.8 days after submission; acceptance to publication is undertaken in 3.4 days (median values for papers published in this journal in the second half of 2021).\n",
    "\n",
    "**Recognition of Reviewers**: reviewers who provide timely, thorough peer-review reports receive vouchers entitling them to a discount on the APC of their next publication in any MDPI journal, in appreciation of the work done. *Companion journal: Geomatics\n",
    "\n",
    "**Impact Factor**: 4.848 (2020) ; 5-Year Impact Factor: 5.353 (2020)"
   ]
  },
  {
   "cell_type": "code",
   "execution_count": null,
   "metadata": {
    "collapsed": false
   },
   "outputs": [],
   "source": [
    "# Load libraries\n",
    "import pandas as pd\n",
    "import matplotlib.pyplot as plt"
   ]
  },
  {
   "cell_type": "code",
   "execution_count": null,
   "metadata": {},
   "outputs": [],
   "source": [
    "# Figure size and style\n",
    "plt.rcParams['figure.figsize'] = (15, 10)\n",
    "#plt.style.use('ggplot')"
   ]
  },
  {
   "cell_type": "code",
   "execution_count": null,
   "metadata": {
    "collapsed": true
   },
   "outputs": [],
   "source": [
    "# Input data\n",
    "mdpi_file_stat = './data/mdpi_rs_analysis.csv'\n",
    "mdpi_file_out = './data/mdpi_rs_analysis.xlsx'"
   ]
  },
  {
   "cell_type": "markdown",
   "metadata": {
    "collapsed": true
   },
   "source": [
    "## Analyzing MDPI Remote Sensing"
   ]
  },
  {
   "cell_type": "code",
   "execution_count": null,
   "metadata": {
    "collapsed": false
   },
   "outputs": [],
   "source": [
    "# Read data\n",
    "mdpi = pd.read_csv(mdpi_file_stat)\n",
    "mdpi = mdpi.sort_values(by=['Volume', 'Issue', 'Paper'])"
   ]
  },
  {
   "cell_type": "code",
   "execution_count": null,
   "metadata": {},
   "outputs": [],
   "source": [
    "# Remove last year\n",
    "l_v = mdpi['Volume'].max()\n",
    "mdpi.drop(\n",
    "    mdpi[mdpi['Volume'] == l_v].index,\n",
    "    inplace=True)"
   ]
  },
  {
   "cell_type": "code",
   "execution_count": null,
   "metadata": {},
   "outputs": [],
   "source": [
    "# %%\n",
    "# Group by volume and issue, count papers\n",
    "mdpi_gr_vi = pd.DataFrame(mdpi.groupby(['Volume', 'Issue'])[\n",
    "                          'Paper'].sum().reset_index(name='Papers'))\n",
    "mdpi_gr_v = pd.DataFrame(mdpi.groupby(['Volume'])[\n",
    "                         'Paper'].sum().reset_index(name='Papers'))"
   ]
  },
  {
   "cell_type": "code",
   "execution_count": null,
   "metadata": {},
   "outputs": [],
   "source": [
    "# Add years\n",
    "mdpi_gr_v['Year'] = 2008 + mdpi_gr_v['Volume']\n",
    "mdpi_gr_vi['Year'] = 2008 + mdpi_gr_vi['Volume']"
   ]
  },
  {
   "cell_type": "code",
   "execution_count": null,
   "metadata": {},
   "outputs": [],
   "source": [
    "# Change index\n",
    "mdpi_gr_v.set_index('Year', inplace=True)\n",
    "mdpi_gr_v.drop(['Volume'], inplace=True, axis=1)"
   ]
  },
  {
   "cell_type": "code",
   "execution_count": null,
   "metadata": {},
   "outputs": [],
   "source": [
    "# Change index\n",
    "mdpi_gr_vi.set_index(['Year', 'Issue'], inplace=True)\n",
    "mdpi_gr_vi.drop(['Volume'], inplace=True, axis=1)"
   ]
  },
  {
   "cell_type": "code",
   "execution_count": null,
   "metadata": {},
   "outputs": [],
   "source": [
    "# Per year\n",
    "plt.figure()\n",
    "mdpi_gr_v.plot(marker='o')\n",
    "plt.legend(frameon=False)\n",
    "# plt.show()"
   ]
  },
  {
   "cell_type": "code",
   "execution_count": null,
   "metadata": {},
   "outputs": [],
   "source": [
    "# Per year and issue\n",
    "plt.figure()\n",
    "mdpi_gr_vi.plot()\n",
    "plt.legend(frameon=False)"
   ]
  },
  {
   "cell_type": "code",
   "execution_count": null,
   "metadata": {},
   "outputs": [],
   "source": [
    "mdpi_gr_vi_r = mdpi_gr_vi.copy()\n",
    "mdpi_gr_vi_r['Rolling'] = mdpi_gr_vi_r.rolling(20, center=True).mean()"
   ]
  },
  {
   "cell_type": "code",
   "execution_count": null,
   "metadata": {
    "pycharm": {
     "name": "#%%\n"
    }
   },
   "outputs": [],
   "source": [
    "plt.figure()\n",
    "mdpi_gr_vi_r['Papers'].plot(alpha=0.3)\n",
    "mdpi_gr_vi_r['Rolling'].plot()\n",
    "plt.legend(frameon=False)\n",
    "plt.show()"
   ]
  }
 ],
 "metadata": {
  "anaconda-cloud": {},
  "interpreter": {
   "hash": "d3a7bff9b0ece80a6a4bcaffb870b1f82d9a6c892aab1bd79f7423714be328f3"
  },
  "kernelspec": {
   "display_name": "Python 3.8.10 64-bit ('base': conda)",
   "name": "python3"
  },
  "language_info": {
   "codemirror_mode": {
    "name": "ipython",
    "version": 3
   },
   "file_extension": ".py",
   "mimetype": "text/x-python",
   "name": "python",
   "nbconvert_exporter": "python",
   "pygments_lexer": "ipython3",
   "version": "3.8.10"
  }
 },
 "nbformat": 4,
 "nbformat_minor": 2
}