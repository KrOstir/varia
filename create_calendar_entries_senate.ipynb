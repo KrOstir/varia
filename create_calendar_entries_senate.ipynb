{
 "cells": [
  {
   "cell_type": "markdown",
   "metadata": {},
   "source": [
    "# Create senate metings calendar"
   ]
  },
  {
   "cell_type": "code",
   "execution_count": null,
   "metadata": {},
   "outputs": [],
   "source": [
    "# import pandas as pd\n",
    "# from datetime import timedelta"
   ]
  },
  {
   "cell_type": "code",
   "execution_count": null,
   "metadata": {},
   "outputs": [],
   "source": [
    "# File names\n",
    "txt_file_fn = \"D:/Kristof/Predavanja/urnik/fgg_senat.txt\"\n",
    "cal_file_fn = \"D:/Kristof/Predavanja/urnik/fgg_senat.csv\""
   ]
  },
  {
   "cell_type": "code",
   "execution_count": null,
   "metadata": {},
   "outputs": [],
   "source": [
    "# Read and clean file\n",
    "txt_file = open(txt_file_fn)\n",
    "text = txt_file.read().splitlines()\n",
    "for line in text:\n",
    "    line = line.strip().replace(\" \", \"\")\n",
    "    if line.endswith('uri'):\n",
    "        line = line.replace(\"ob\", \", \").replace(\"uri\", \"\")\n",
    "        print(line)\n",
    "txt_file.close()"
   ]
  },
  {
   "cell_type": "code",
   "execution_count": null,
   "metadata": {},
   "outputs": [],
   "source": []
  },
  {
   "cell_type": "code",
   "execution_count": null,
   "metadata": {},
   "outputs": [],
   "source": []
  },
  {
   "cell_type": "code",
   "execution_count": null,
   "metadata": {},
   "outputs": [],
   "source": [
    "calendar.columns\n"
   ]
  },
  {
   "cell_type": "code",
   "execution_count": null,
   "metadata": {},
   "outputs": [],
   "source": [
    "calendar['Description'] = calendar['Vrsta študija'] + \" \" + calendar['letnik']\n",
    "calendar['Subject'] = \"Izpit - \" + calendar['Predmet']\n",
    "calendar['All day event'] = \"True\"\n",
    "calendar = calendar.drop(['Vrsta študija', 'letnik', 'Izvajalec', 'KT', 'Povezava', 'Dodaten rok'], axis=1)"
   ]
  },
  {
   "cell_type": "code",
   "execution_count": null,
   "metadata": {},
   "outputs": [],
   "source": [
    "calendar.head()"
   ]
  },
  {
   "cell_type": "code",
   "execution_count": null,
   "metadata": {},
   "outputs": [],
   "source": [
    "calendar_ent = pd.melt(calendar.reset_index(), id_vars=['Description', 'Subject', 'All day event'], \n",
    "        value_vars=['Datum izpita', 'Datum izpita.1', 'Datum izpita.2']).drop(['variable'], axis=1).dropna()"
   ]
  },
  {
   "cell_type": "code",
   "execution_count": null,
   "metadata": {},
   "outputs": [],
   "source": [
    "calendar_ent['Start Date'] = calendar_ent['value']\n",
    "# calendar_ent['Start Time'] = \"00:00:00\"\n",
    "# calendar_ent['End Time'] = \"00:00:00\"\n",
    "calendar_ent['Show time as'] = 3\n",
    "calendar_ent.drop(['value'], inplace=True, axis=1)"
   ]
  },
  {
   "cell_type": "code",
   "execution_count": null,
   "metadata": {},
   "outputs": [],
   "source": [
    "# calendar_ent['End Date'] = calendar_ent['Start Date'] + timedelta(days=1)"
   ]
  },
  {
   "cell_type": "code",
   "execution_count": null,
   "metadata": {},
   "outputs": [],
   "source": [
    "calendar_ent.head()"
   ]
  },
  {
   "cell_type": "code",
   "execution_count": null,
   "metadata": {},
   "outputs": [],
   "source": [
    "calendar_ent.to_csv(cal_file)"
   ]
  },
  {
   "cell_type": "code",
   "execution_count": null,
   "metadata": {
    "collapsed": true
   },
   "outputs": [],
   "source": []
  }
 ],
 "metadata": {
  "kernelspec": {
   "display_name": "Python 3",
   "language": "python",
   "name": "python3"
  },
  "language_info": {
   "codemirror_mode": {
    "name": "ipython",
    "version": 3
   },
   "file_extension": ".py",
   "mimetype": "text/x-python",
   "name": "python",
   "nbconvert_exporter": "python",
   "pygments_lexer": "ipython3",
   "version": "3.6.3"
  }
 },
 "nbformat": 4,
 "nbformat_minor": 1
}
