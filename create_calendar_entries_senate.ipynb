{
 "cells": [
  {
   "cell_type": "markdown",
   "metadata": {},
   "source": [
    "# Create senate metings calendar"
   ]
  },
  {
   "cell_type": "code",
   "execution_count": null,
   "metadata": {},
   "outputs": [],
   "source": [
    "import pandas as pd\n",
    "import io\n",
    "from datetime import datetime\n",
    "from datetime import timedelta"
   ]
  },
  {
   "cell_type": "code",
   "execution_count": null,
   "metadata": {},
   "outputs": [],
   "source": [
    "# File names\n",
    "txt_file_fn = \"D:/Kristof/Predavanja/urnik/fgg_senat.txt\"\n",
    "cal_file_fn = \"D:/Kristof/Predavanja/urnik/fgg_senat.csv\""
   ]
  },
  {
   "cell_type": "code",
   "execution_count": null,
   "metadata": {},
   "outputs": [],
   "source": [
    "buf = io.StringIO()\n",
    "# Read and clean file\n",
    "txt_file = open(txt_file_fn)\n",
    "text = txt_file.read().splitlines()\n",
    "txt_file.close()\n",
    "text"
   ]
  },
  {
   "cell_type": "code",
   "execution_count": null,
   "metadata": {},
   "outputs": [],
   "source": [
    "for line in text:\n",
    "    line = line.strip().replace(\" \", \"\")\n",
    "    if line.endswith('uri'):\n",
    "        line = line.split(\"seja\",1)[1]\n",
    "        line = line.replace(\"ob\", \" \").replace(\"uri\", \"\")\n",
    "        print(line)\n",
    "        buf.write(line + \"\\n\")"
   ]
  },
  {
   "cell_type": "code",
   "execution_count": null,
   "metadata": {},
   "outputs": [],
   "source": [
    "buf.seek(0)\n",
    "calendar = pd.read_csv(buf, header=None)"
   ]
  },
  {
   "cell_type": "code",
   "execution_count": null,
   "metadata": {},
   "outputs": [],
   "source": [
    "calendar"
   ]
  },
  {
   "cell_type": "code",
   "execution_count": null,
   "metadata": {},
   "outputs": [],
   "source": [
    "calendar[\"Start\"] = pd.to_datetime(calendar[0], format = '%d.%m.%Y %H.%M')"
   ]
  },
  {
   "cell_type": "code",
   "execution_count": null,
   "metadata": {},
   "outputs": [],
   "source": [
    "calendar[\"End\"] = calendar[\"Start\"] + timedelta(hours=3)"
   ]
  },
  {
   "cell_type": "code",
   "execution_count": null,
   "metadata": {},
   "outputs": [],
   "source": [
    "calendar[0] = \"Seja senata\"\n",
    "calendar.columns.values[0] = \"Subject\"\n",
    "calendar"
   ]
  },
  {
   "cell_type": "code",
   "execution_count": null,
   "metadata": {},
   "outputs": [],
   "source": [
    "calendar['StartDate'] = calendar['Start'].apply(lambda x:x.date())\n",
    "calendar['StartTime'] = calendar['Start'].apply(lambda x:x.time())\n",
    "calendar['EndDate'] = calendar['End'].apply(lambda x:x.date())\n",
    "calendar['EndTime'] = calendar['End'].apply(lambda x:x.time())"
   ]
  },
  {
   "cell_type": "code",
   "execution_count": null,
   "metadata": {},
   "outputs": [],
   "source": [
    "del calendar[\"Start\"]\n",
    "del calendar[\"End\"]\n",
    "calendar"
   ]
  },
  {
   "cell_type": "code",
   "execution_count": null,
   "metadata": {},
   "outputs": [],
   "source": [
    "cal_file = open(cal_file_fn, \"w\")\n",
    "calendar.to_csv(cal_file)\n",
    "cal_file.close()"
   ]
  }
 ],
 "metadata": {
  "kernelspec": {
   "display_name": "Python 3",
   "language": "python",
   "name": "python3"
  },
  "language_info": {
   "codemirror_mode": {
    "name": "ipython",
    "version": 3
   },
   "file_extension": ".py",
   "mimetype": "text/x-python",
   "name": "python",
   "nbconvert_exporter": "python",
   "pygments_lexer": "ipython3",
   "version": "3.6.6"
  }
 },
 "nbformat": 4,
 "nbformat_minor": 2
}
