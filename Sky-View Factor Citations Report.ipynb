{
 "cells": [
  {
   "cell_type": "markdown",
   "metadata": {
    "collapsed": true,
    "pycharm": {
     "name": "#%% md\n"
    }
   },
   "source": [
    "# Sky-View Factor Citations Report\n",
    "\n",
    "Data obtained from [Sky-View Factor as a Relief Visualization Technique-Web of Science Core Collection](https://www.webofscience.com/wos/woscc/full-record/WOS:000306745600010)."
   ]
  },
  {
   "cell_type": "code",
   "execution_count": 61,
   "metadata": {
    "collapsed": false,
    "pycharm": {
     "name": "#%%\n"
    }
   },
   "outputs": [],
   "source": [
    "# Imports\n",
    "import pandas as pd\n",
    "import matplotlib.pyplot as plt"
   ]
  },
  {
   "cell_type": "code",
   "execution_count": 71,
   "outputs": [],
   "source": [
    "# Figure size and style\n",
    "plt.rcParams['figure.figsize'] = (15, 10)"
   ],
   "metadata": {
    "collapsed": false,
    "pycharm": {
     "name": "#%%\n"
    }
   }
  },
  {
   "cell_type": "code",
   "execution_count": 62,
   "metadata": {
    "collapsed": false,
    "pycharm": {
     "name": "#%%\n"
    }
   },
   "outputs": [],
   "source": [
    "# Filenames\n",
    "wos_fn = './data/wos_svf_report.xls'"
   ]
  },
  {
   "cell_type": "code",
   "execution_count": 63,
   "metadata": {
    "collapsed": false,
    "pycharm": {
     "name": "#%%\n"
    }
   },
   "outputs": [],
   "source": [
    "wos_df = pd.read_excel(wos_fn, header=10)"
   ]
  },
  {
   "cell_type": "code",
   "execution_count": 64,
   "metadata": {
    "collapsed": false,
    "pycharm": {
     "name": "#%%\n"
    }
   },
   "outputs": [
    {
     "data": {
      "text/plain": "                                               Title  \\\n0  Downscaling land surface temperatures at regio...   \n1  Downscaling land surface temperature for urban...   \n2  Ancient lowland Maya complexity as revealed by...   \n3  Object-oriented identification of forested lan...   \n4  Openness as Visualization Technique for Interp...   \n\n                                             Authors  Corporate Authors  \\\n0             Hutengs, Christopher; Vohland, Michael                NaN   \n1                     Zaksek, Klemen; Ostir, Kristof                NaN   \n2  Canuto, Marcello A.; Estrada-Belli, Francisco;...                NaN   \n3  Van Den Eeckhaut, Miet; Kerle, Norman; Poesen,...                NaN   \n4                                    Doneus, Michael                NaN   \n\n   Editors Book Editors                   Source Title Publication Date  \\\n0      NaN          NaN  REMOTE SENSING OF ENVIRONMENT       JUN 1 2016   \n1      NaN          NaN  REMOTE SENSING OF ENVIRONMENT      FEB 15 2012   \n2      NaN          NaN                        SCIENCE      SEP 28 2018   \n3      NaN          NaN                  GEOMORPHOLOGY       NOV 1 2012   \n4      NaN          NaN                 REMOTE SENSING         DEC 2013   \n\n   Publication Year  Volume Issue  ...  2013  2014 2015 2016 2017 2018 2019  \\\n0              2016   178.0   NaN  ...     0     0    0    0    8   21   48   \n1              2012   117.0   NaN  ...     7    19   18   19   18   14   21   \n2              2018   361.0  6409  ...     0     0    0    0    0    3   27   \n3              2012   173.0   NaN  ...     6    10    5   11   13   17   10   \n4              2013     5.0    12  ...     0     5    4    8   16   15    8   \n\n  2020 2021  2022  \n0   42   58     5  \n1   21   21     1  \n2   35   42     2  \n3   17   10     2  \n4   19   22     2  \n\n[5 rows x 144 columns]",
      "text/html": "<div>\n<style scoped>\n    .dataframe tbody tr th:only-of-type {\n        vertical-align: middle;\n    }\n\n    .dataframe tbody tr th {\n        vertical-align: top;\n    }\n\n    .dataframe thead th {\n        text-align: right;\n    }\n</style>\n<table border=\"1\" class=\"dataframe\">\n  <thead>\n    <tr style=\"text-align: right;\">\n      <th></th>\n      <th>Title</th>\n      <th>Authors</th>\n      <th>Corporate Authors</th>\n      <th>Editors</th>\n      <th>Book Editors</th>\n      <th>Source Title</th>\n      <th>Publication Date</th>\n      <th>Publication Year</th>\n      <th>Volume</th>\n      <th>Issue</th>\n      <th>...</th>\n      <th>2013</th>\n      <th>2014</th>\n      <th>2015</th>\n      <th>2016</th>\n      <th>2017</th>\n      <th>2018</th>\n      <th>2019</th>\n      <th>2020</th>\n      <th>2021</th>\n      <th>2022</th>\n    </tr>\n  </thead>\n  <tbody>\n    <tr>\n      <th>0</th>\n      <td>Downscaling land surface temperatures at regio...</td>\n      <td>Hutengs, Christopher; Vohland, Michael</td>\n      <td>NaN</td>\n      <td>NaN</td>\n      <td>NaN</td>\n      <td>REMOTE SENSING OF ENVIRONMENT</td>\n      <td>JUN 1 2016</td>\n      <td>2016</td>\n      <td>178.0</td>\n      <td>NaN</td>\n      <td>...</td>\n      <td>0</td>\n      <td>0</td>\n      <td>0</td>\n      <td>0</td>\n      <td>8</td>\n      <td>21</td>\n      <td>48</td>\n      <td>42</td>\n      <td>58</td>\n      <td>5</td>\n    </tr>\n    <tr>\n      <th>1</th>\n      <td>Downscaling land surface temperature for urban...</td>\n      <td>Zaksek, Klemen; Ostir, Kristof</td>\n      <td>NaN</td>\n      <td>NaN</td>\n      <td>NaN</td>\n      <td>REMOTE SENSING OF ENVIRONMENT</td>\n      <td>FEB 15 2012</td>\n      <td>2012</td>\n      <td>117.0</td>\n      <td>NaN</td>\n      <td>...</td>\n      <td>7</td>\n      <td>19</td>\n      <td>18</td>\n      <td>19</td>\n      <td>18</td>\n      <td>14</td>\n      <td>21</td>\n      <td>21</td>\n      <td>21</td>\n      <td>1</td>\n    </tr>\n    <tr>\n      <th>2</th>\n      <td>Ancient lowland Maya complexity as revealed by...</td>\n      <td>Canuto, Marcello A.; Estrada-Belli, Francisco;...</td>\n      <td>NaN</td>\n      <td>NaN</td>\n      <td>NaN</td>\n      <td>SCIENCE</td>\n      <td>SEP 28 2018</td>\n      <td>2018</td>\n      <td>361.0</td>\n      <td>6409</td>\n      <td>...</td>\n      <td>0</td>\n      <td>0</td>\n      <td>0</td>\n      <td>0</td>\n      <td>0</td>\n      <td>3</td>\n      <td>27</td>\n      <td>35</td>\n      <td>42</td>\n      <td>2</td>\n    </tr>\n    <tr>\n      <th>3</th>\n      <td>Object-oriented identification of forested lan...</td>\n      <td>Van Den Eeckhaut, Miet; Kerle, Norman; Poesen,...</td>\n      <td>NaN</td>\n      <td>NaN</td>\n      <td>NaN</td>\n      <td>GEOMORPHOLOGY</td>\n      <td>NOV 1 2012</td>\n      <td>2012</td>\n      <td>173.0</td>\n      <td>NaN</td>\n      <td>...</td>\n      <td>6</td>\n      <td>10</td>\n      <td>5</td>\n      <td>11</td>\n      <td>13</td>\n      <td>17</td>\n      <td>10</td>\n      <td>17</td>\n      <td>10</td>\n      <td>2</td>\n    </tr>\n    <tr>\n      <th>4</th>\n      <td>Openness as Visualization Technique for Interp...</td>\n      <td>Doneus, Michael</td>\n      <td>NaN</td>\n      <td>NaN</td>\n      <td>NaN</td>\n      <td>REMOTE SENSING</td>\n      <td>DEC 2013</td>\n      <td>2013</td>\n      <td>5.0</td>\n      <td>12</td>\n      <td>...</td>\n      <td>0</td>\n      <td>5</td>\n      <td>4</td>\n      <td>8</td>\n      <td>16</td>\n      <td>15</td>\n      <td>8</td>\n      <td>19</td>\n      <td>22</td>\n      <td>2</td>\n    </tr>\n  </tbody>\n</table>\n<p>5 rows × 144 columns</p>\n</div>"
     },
     "execution_count": 64,
     "metadata": {},
     "output_type": "execute_result"
    }
   ],
   "source": [
    "wos_df.head()"
   ]
  },
  {
   "cell_type": "code",
   "execution_count": 65,
   "outputs": [
    {
     "data": {
      "text/plain": "245"
     },
     "execution_count": 65,
     "metadata": {},
     "output_type": "execute_result"
    }
   ],
   "source": [
    "len(wos_df)"
   ],
   "metadata": {
    "collapsed": false,
    "pycharm": {
     "name": "#%%\n"
    }
   }
  },
  {
   "cell_type": "code",
   "execution_count": 66,
   "outputs": [
    {
     "data": {
      "text/plain": "Index([            'Title',           'Authors', 'Corporate Authors',\n                 'Editors',      'Book Editors',      'Source Title',\n        'Publication Date',  'Publication Year',            'Volume',\n                   'Issue',\n       ...\n                      2013,                2014,                2015,\n                      2016,                2017,                2018,\n                      2019,                2020,                2021,\n                      2022],\n      dtype='object', length=144)"
     },
     "execution_count": 66,
     "metadata": {},
     "output_type": "execute_result"
    }
   ],
   "source": [
    "wos_df.columns"
   ],
   "metadata": {
    "collapsed": false,
    "pycharm": {
     "name": "#%%\n"
    }
   }
  },
  {
   "cell_type": "code",
   "execution_count": 67,
   "outputs": [],
   "source": [
    "wos_df['Publication Year'] = wos_df['Publication Date'].str[-4:]"
   ],
   "metadata": {
    "collapsed": false,
    "pycharm": {
     "name": "#%%\n"
    }
   }
  },
  {
   "cell_type": "code",
   "execution_count": 84,
   "outputs": [],
   "source": [
    "wos_year = wos_df[['Title', 'Publication Year']].groupby(['Publication Year']).count()"
   ],
   "metadata": {
    "collapsed": false,
    "pycharm": {
     "name": "#%%\n"
    }
   }
  },
  {
   "cell_type": "code",
   "execution_count": 86,
   "outputs": [],
   "source": [
    "wos_year.columns = ['Citations']"
   ],
   "metadata": {
    "collapsed": false,
    "pycharm": {
     "name": "#%%\n"
    }
   }
  },
  {
   "cell_type": "code",
   "execution_count": 89,
   "outputs": [
    {
     "data": {
      "text/plain": "<Figure size 1080x720 with 0 Axes>"
     },
     "metadata": {},
     "output_type": "display_data"
    },
    {
     "data": {
      "text/plain": "<Figure size 1080x720 with 1 Axes>",
      "image/png": "[encoded data removed]"
     },
     "metadata": {
      "needs_background": "light"
     },
     "output_type": "display_data"
    }
   ],
   "source": [
    "plt.figure()\n",
    "wos_year.plot(marker='o')\n",
    "plt.legend(frameon=False)\n",
    "plt.show()"
   ],
   "metadata": {
    "collapsed": false,
    "pycharm": {
     "name": "#%%\n"
    }
   }
  },
  {
   "cell_type": "code",
   "execution_count": null,
   "outputs": [],
   "source": [],
   "metadata": {
    "collapsed": false,
    "pycharm": {
     "name": "#%%\n"
    }
   }
  }
 ],
 "metadata": {
  "kernelspec": {
   "display_name": "Python 3",
   "language": "python",
   "name": "python3"
  },
  "language_info": {
   "codemirror_mode": {
    "name": "ipython",
    "version": 3
   },
   "file_extension": ".py",
   "mimetype": "text/x-python",
   "name": "python",
   "nbconvert_exporter": "python",
   "pygments_lexer": "ipython3",
   "version": "3.9.10"
  }
 },
 "nbformat": 4,
 "nbformat_minor": 0
}