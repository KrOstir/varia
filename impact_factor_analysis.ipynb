{
 "cells": [
  {
   "cell_type": "markdown",
   "metadata": {
    "pycharm": {}
   },
   "source": [
    "# Analysis of JCR Impact Factor\n",
    "\n",
    "Analysis of impact factor of publication in specific field.\n",
    "\n",
    "E.g. for \"remote sensing\" the data can be obtained with:\n",
    "\n",
    "https://plus.cobiss.si/opac7/jcr?kw=remote%20sensing&max=1000"
   ]
  },
  {
   "cell_type": "code",
   "execution_count": null,
   "metadata": {},
   "outputs": [],
   "source": [
    "# Libraries\n",
    "import pandas as pd\n",
    "import matplotlib.pyplot as plt\n",
    "from urllib.request import Request, urlopen\n",
    "import urllib.parse"
   ]
  },
  {
   "cell_type": "code",
   "execution_count": null,
   "metadata": {},
   "outputs": [],
   "source": [
    "# Figure size and style\n",
    "plt.rcParams['figure.figsize'] = (15, 10)"
   ]
  },
  {
   "cell_type": "markdown",
   "source": [
    "## Procesing parameters\n",
    "\n",
    "Set the URL parameters, keywords and arguments."
   ],
   "metadata": {
    "collapsed": false,
    "pycharm": {
     "name": "#%% md\n"
    }
   }
  },
  {
   "cell_type": "code",
   "execution_count": null,
   "outputs": [],
   "source": [
    "# Parameters\n",
    "# IF URL\n",
    "# https://plus.si.cobiss.net/opac7/jcr?py=&ti=&sc=&max=100\n",
    "if_base_url = 'https://plus.si.cobiss.net/opac7/jcr?py={0}&ti={1}&sc={2}&max=100'\n",
    "# IF data\n",
    "if_fn = './data/remote_sensing_if.csv'\n",
    "# Keywords\n",
    "journal_kw = 'remote sensing'\n",
    "# Top journals\n",
    "top_n = 15\n",
    "top_if = 2"
   ],
   "metadata": {
    "collapsed": false,
    "pycharm": {
     "name": "#%%\n"
    }
   }
  },
  {
   "cell_type": "markdown",
   "source": [
    "## Get list of journals for last year"
   ],
   "metadata": {
    "collapsed": false,
    "pycharm": {
     "name": "#%% md\n"
    }
   }
  },
  {
   "cell_type": "code",
   "execution_count": null,
   "outputs": [],
   "source": [
    "# Find last year data is published\n",
    "s_year = urllib.parse.quote('')\n",
    "s_kw = urllib.parse.quote('')\n",
    "s_issn = urllib.parse.quote('2168-6831')\n",
    "if_url = if_base_url.format(s_year, s_kw, s_issn)\n",
    "# Read webpage\n",
    "req = Request(if_url, headers={'User-Agent': 'Mozilla/5.0'})\n",
    "webpage = urlopen(req).read()\n",
    "if_rs_df = pd.read_html(webpage)[0]"
   ],
   "metadata": {
    "collapsed": false,
    "pycharm": {
     "name": "#%%\n"
    }
   }
  },
  {
   "cell_type": "code",
   "execution_count": null,
   "outputs": [],
   "source": [
    "year = if_rs_df['Leto'].max()\n",
    "year"
   ],
   "metadata": {
    "collapsed": false,
    "pycharm": {
     "name": "#%%\n"
    }
   }
  },
  {
   "cell_type": "code",
   "execution_count": null,
   "outputs": [],
   "source": [
    "print('Getting list of journals for {}'.format(year))\n",
    "s_year = urllib.parse.quote(str(year))\n",
    "s_kw = urllib.parse.quote(journal_kw)\n",
    "s_issn = urllib.parse.quote('')\n",
    "if_url = if_base_url.format(s_year, s_kw, s_issn)\n",
    "# Read webpage\n",
    "req = Request(if_url, headers={'User-Agent': 'Mozilla/5.0'})\n",
    "webpage = urlopen(req).read()\n",
    "# Read IF\n",
    "if_rs_df = pd.read_html(webpage)[0]\n",
    "if_rs_df.head()"
   ],
   "metadata": {
    "collapsed": false,
    "pycharm": {
     "name": "#%%\n"
    }
   }
  },
  {
   "cell_type": "code",
   "execution_count": null,
   "outputs": [],
   "source": [
    "# Drop unneeded columns\n",
    "if_rs_df = if_rs_df.drop(['Št.'], axis=1)\n",
    "if_rs_df"
   ],
   "metadata": {
    "collapsed": false,
    "pycharm": {
     "name": "#%%\n"
    }
   }
  },
  {
   "cell_type": "markdown",
   "source": [
    "## Top journals"
   ],
   "metadata": {
    "collapsed": false,
    "pycharm": {
     "name": "#%% md\n"
    }
   }
  },
  {
   "cell_type": "code",
   "execution_count": null,
   "outputs": [],
   "source": [
    "# Top n journals\n",
    "if_rs_df.sort_values('Faktor vpliva', ascending=False).head(top_n)"
   ],
   "metadata": {
    "collapsed": false,
    "pycharm": {
     "name": "#%%\n"
    }
   }
  },
  {
   "cell_type": "code",
   "execution_count": null,
   "outputs": [],
   "source": [
    "# IF larger then threshold\n",
    "if_rs_df = if_rs_df.loc[if_rs_df['Faktor vpliva'] >= top_if]\n",
    "if_rs_df"
   ],
   "metadata": {
    "collapsed": false,
    "pycharm": {
     "name": "#%%\n"
    }
   }
  },
  {
   "cell_type": "markdown",
   "source": [
    "## ISSNs of top journals"
   ],
   "metadata": {
    "collapsed": false,
    "pycharm": {
     "name": "#%% md\n"
    }
   }
  },
  {
   "cell_type": "code",
   "execution_count": null,
   "outputs": [],
   "source": [
    "# Get ISSNs\n",
    "issn_list = if_rs_df['ISSN'].str.split('/').str[0].to_list()\n",
    "issn_list"
   ],
   "metadata": {
    "collapsed": false,
    "pycharm": {
     "name": "#%%\n"
    }
   }
  },
  {
   "cell_type": "markdown",
   "source": [
    "## Get IF for top journals by ISSNs\n",
    "\n",
    "Read IF for top journals by ISSNs for the years 2000 and forward."
   ],
   "metadata": {
    "collapsed": false,
    "pycharm": {
     "name": "#%% md\n"
    }
   }
  },
  {
   "cell_type": "code",
   "execution_count": null,
   "outputs": [],
   "source": [
    "# Create empty DF\n",
    "if_df = pd.DataFrame()"
   ],
   "metadata": {
    "collapsed": false,
    "pycharm": {
     "name": "#%%\n"
    }
   }
  },
  {
   "cell_type": "code",
   "execution_count": null,
   "outputs": [],
   "source": [
    "for issn in issn_list:\n",
    "    print('Reading IF for {}'.format(issn))\n",
    "    s_year = urllib.parse.quote('')\n",
    "    s_kw = urllib.parse.quote('')\n",
    "    s_issn = urllib.parse.quote(issn)\n",
    "    if_url = if_base_url.format(s_year, s_kw, s_issn)\n",
    "    # Read webpage\n",
    "    req = Request(if_url, headers={'User-Agent': 'Mozilla/5.0'})\n",
    "    webpage = urlopen(req).read()\n",
    "    # Read IF\n",
    "    df = pd.read_html(webpage)[0]\n",
    "    df.drop(['Št.'], axis=1, inplace=True)\n",
    "\n",
    "    # Only after 2000\n",
    "    df = df.loc[df['Leto'] >= 2000]\n",
    "\n",
    "    # Append new DF\n",
    "    if_df = pd.concat([if_df, df])"
   ],
   "metadata": {
    "collapsed": false,
    "pycharm": {
     "name": "#%%\n"
    }
   }
  },
  {
   "cell_type": "code",
   "execution_count": null,
   "outputs": [],
   "source": [
    "if_df.head()"
   ],
   "metadata": {
    "collapsed": false,
    "pycharm": {
     "name": "#%%\n"
    }
   }
  },
  {
   "cell_type": "code",
   "execution_count": null,
   "outputs": [],
   "source": [
    "# Save the dataframe\n",
    "if_df.to_csv(if_fn, index=False)"
   ],
   "metadata": {
    "collapsed": false,
    "pycharm": {
     "name": "#%%\n"
    }
   }
  },
  {
   "cell_type": "code",
   "execution_count": null,
   "outputs": [],
   "source": [
    "# Drop columns\n",
    "if_df.drop('ISSN', inplace=True, axis=1)"
   ],
   "metadata": {
    "collapsed": false,
    "pycharm": {
     "name": "#%%\n"
    }
   }
  },
  {
   "cell_type": "markdown",
   "source": [
    "## Publications by years and ISSNs"
   ],
   "metadata": {
    "collapsed": false,
    "pycharm": {
     "name": "#%% md\n"
    }
   }
  },
  {
   "cell_type": "code",
   "execution_count": null,
   "outputs": [],
   "source": [
    "if_wide = if_df.groupby(['Leto', 'Naslov serijske publikacije']).agg('sum')\n",
    "if_wide"
   ],
   "metadata": {
    "collapsed": false,
    "pycharm": {
     "name": "#%%\n"
    }
   }
  },
  {
   "cell_type": "code",
   "execution_count": null,
   "outputs": [],
   "source": [
    "if_wide = if_wide.unstack()"
   ],
   "metadata": {
    "collapsed": false,
    "pycharm": {
     "name": "#%%\n"
    }
   }
  },
  {
   "cell_type": "code",
   "execution_count": null,
   "outputs": [],
   "source": [
    "if_wide = if_wide.droplevel(level=0, axis=1)"
   ],
   "metadata": {
    "collapsed": false,
    "pycharm": {
     "name": "#%%\n"
    }
   }
  },
  {
   "cell_type": "code",
   "execution_count": null,
   "outputs": [],
   "source": [
    "if_wide"
   ],
   "metadata": {
    "collapsed": false,
    "pycharm": {
     "name": "#%%\n"
    }
   }
  },
  {
   "cell_type": "code",
   "execution_count": null,
   "outputs": [],
   "source": [
    "if_wide = if_wide.T.sort_values(last, ascending=False).T"
   ],
   "metadata": {
    "collapsed": false,
    "pycharm": {
     "name": "#%%\n"
    }
   }
  },
  {
   "cell_type": "markdown",
   "source": [
    "## Top journals in the field in the last year"
   ],
   "metadata": {
    "collapsed": false,
    "pycharm": {
     "name": "#%% md\n"
    }
   }
  },
  {
   "cell_type": "code",
   "execution_count": null,
   "outputs": [],
   "source": [
    "if_top_ylast = if_wide.loc[year]"
   ],
   "metadata": {
    "collapsed": false,
    "pycharm": {
     "name": "#%%\n"
    }
   }
  },
  {
   "cell_type": "code",
   "execution_count": null,
   "outputs": [],
   "source": [
    "print(if_top_ylast)"
   ],
   "metadata": {
    "collapsed": false,
    "pycharm": {
     "name": "#%%\n"
    }
   }
  },
  {
   "cell_type": "code",
   "execution_count": null,
   "outputs": [],
   "source": [
    "# Plot\n",
    "if_wide.plot(marker='.')\n",
    "plt.title('Remote Sensing IF by Year')\n",
    "plt.legend(loc='upper left', frameon=False)\n",
    "plt.xlabel('Year')\n",
    "plt.ylabel('IF')\n",
    "plt.xticks([2000, 2005, 2010, 2015, 2020])\n",
    "plt.tight_layout()\n",
    "plt.show()"
   ],
   "metadata": {
    "collapsed": false,
    "pycharm": {
     "name": "#%%\n"
    }
   }
  }
 ],
 "metadata": {
  "kernelspec": {
   "display_name": "Python 3",
   "language": "python",
   "name": "python3"
  },
  "language_info": {
   "codemirror_mode": {
    "name": "ipython",
    "version": 3
   },
   "file_extension": ".py",
   "mimetype": "text/x-python",
   "name": "python",
   "nbconvert_exporter": "python",
   "pygments_lexer": "ipython3",
   "version": "3.7.7-final"
  }
 },
 "nbformat": 4,
 "nbformat_minor": 4
}