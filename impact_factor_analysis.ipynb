{
 "cells": [
  {
   "cell_type": "markdown",
   "metadata": {},
   "source": [
    "# Analysis of JCR Impact Factor\n",
    "\n",
    "Analysis of impact factor of publication in specific field. For remote sensing the data can be obtained with:\n",
    "\n",
    "https://plus.cobiss.si/opac7/jcr?kw=remote%20sensing&max=1000"
   ]
  },
  {
   "cell_type": "code",
   "execution_count": null,
   "metadata": {},
   "outputs": [],
   "source": [
    "# Libraries\n",
    "import pandas as pd\n",
    "import matplotlib.pyplot as plt\n",
    "from matplotlib.backends.backend_pdf import PdfPages"
   ]
  },
  {
   "cell_type": "code",
   "execution_count": null,
   "metadata": {},
   "outputs": [],
   "source": [
    "# Figure size and style\n",
    "plt.rcParams['figure.figsize'] = (15, 10)"
   ]
  },
  {
   "cell_type": "code",
   "execution_count": null,
   "metadata": {},
   "outputs": [],
   "source": [
    "# Cobiss base URL\n",
    "cobiss_url = \"https://plus.cobiss.si/opac7/jcr?\"\n",
    "cobiss_param = \"&max=1000\"\n",
    "# Field\n",
    "keywoard = \"remote sensing\""
   ]
  },
  {
   "cell_type": "code",
   "execution_count": null,
   "metadata": {},
   "outputs": [],
   "source": [
    "# Read data\n",
    "cobiss_jcr = cobiss_url + \"kw=\" + keywoard + cobiss_param\n",
    "cobiss_jcr = cobiss_jcr.replace(\" \", \"%20\") # replace spaces\n",
    "jcr_if = pd.read_html(cobiss_jcr)[0] # Take first table"
   ]
  },
  {
   "cell_type": "code",
   "execution_count": null,
   "metadata": {},
   "outputs": [],
   "source": [
    "jcr_if = pd.read_html(cobiss_jcr)[0] # Take first table\n",
    "jcr_if.head()"
   ]
  },
  {
   "cell_type": "code",
   "execution_count": null,
   "metadata": {},
   "outputs": [],
   "source": [
    "jcr_if.describe()"
   ]
  },
  {
   "cell_type": "code",
   "execution_count": null,
   "metadata": {
    "scrolled": true
   },
   "outputs": [],
   "source": [
    "# List of journals\n",
    "jcr_if_journals = jcr_if[[\"ISSN\", \"Naslov serijske publikacije\"]]\n",
    "jcr_if_journals = jcr_if_journals.drop_duplicates().reset_index(drop=True)\n",
    "jcr_if_journals"
   ]
  },
  {
   "cell_type": "code",
   "execution_count": null,
   "metadata": {
    "scrolled": true
   },
   "outputs": [],
   "source": [
    "# Top 10 journals in last year\n",
    "ylast = jcr_if[\"Leto\"].max()\n",
    "jcr_if_ylast = jcr_if[jcr_if[\"Leto\"] == ylast]\n",
    "jcr_if_ylast.nlargest(10, 'Faktor vpliva')[[\"Naslov serijske publikacije\", \"ISSN\"]]"
   ]
  },
  {
   "cell_type": "code",
   "execution_count": null,
   "metadata": {
    "scrolled": true
   },
   "outputs": [],
   "source": [
    "jcr_if_top_ylast = jcr_if_ylast.nlargest(10, 'Faktor vpliva')[\"ISSN\"]\n",
    "jcr_if_top_ylast"
   ]
  },
  {
   "cell_type": "code",
   "execution_count": null,
   "metadata": {},
   "outputs": [],
   "source": [
    "# Drop unneeded columns\n",
    "jcr_if_issn = jcr_if[[\"ISSN\", \"Leto\", \"Faktor vpliva\"]]"
   ]
  },
  {
   "cell_type": "code",
   "execution_count": null,
   "metadata": {},
   "outputs": [],
   "source": [
    "# Select only top publications\n",
    "jcr_if_top = jcr_if_issn[jcr_if_issn['ISSN'].isin(jcr_if_top_ylast)]\n",
    "jcr_if_top.head()"
   ]
  },
  {
   "cell_type": "code",
   "execution_count": null,
   "metadata": {},
   "outputs": [],
   "source": [
    "# Group by publication ISSN\n",
    "jcr_if_top_grouped = jcr_if_top.groupby([\"Leto\", \"ISSN\"]).mean().unstack()\n",
    "jcr_if_top_grouped.columns = jcr_if_top_grouped.columns.get_level_values(1)"
   ]
  },
  {
   "cell_type": "code",
   "execution_count": null,
   "metadata": {},
   "outputs": [],
   "source": [
    "jcr_if_top_grouped"
   ]
  },
  {
   "cell_type": "code",
   "execution_count": null,
   "metadata": {
    "scrolled": true
   },
   "outputs": [],
   "source": [
    "# Plot IF by year\n",
    "jcr_if_top_grouped.plot()"
   ]
  },
  {
   "cell_type": "code",
   "execution_count": null,
   "metadata": {},
   "outputs": [],
   "source": [
    "jcr_if_top_grouped_columns = jcr_if_top_grouped.columns"
   ]
  },
  {
   "cell_type": "code",
   "execution_count": null,
   "metadata": {},
   "outputs": [],
   "source": [
    "df.loc[df['B'] == 3, 'A'].iloc[0]"
   ]
  },
  {
   "cell_type": "code",
   "execution_count": null,
   "metadata": {},
   "outputs": [],
   "source": [
    "jcr_if_journals.loc[jcr_if_journals[\"ISSN\"] == \"0034-4257\", \"Naslov serijske publikacije\"].iloc[0]"
   ]
  },
  {
   "cell_type": "code",
   "execution_count": null,
   "metadata": {},
   "outputs": [],
   "source": [
    "for idx, val in enumerate(jcr_if_top_grouped.columns):\n",
    "    print(idx, val)\n",
    "    jcr_if_top_grouped.columns[idx] = \n",
    "    jcr_if_journals.loc[jcr_if_journals[\"ISSN\"] == val, \"Naslov serijske publikacije\"].iloc[0]"
   ]
  },
  {
   "cell_type": "code",
   "execution_count": null,
   "metadata": {},
   "outputs": [],
   "source": [
    "jcr_if_journals[jcr_if_journals[\"ISSN\"] == jcr_if_top_grouped.columns[1]][\"Naslov serijske publikacije\"]"
   ]
  },
  {
   "cell_type": "code",
   "execution_count": null,
   "metadata": {},
   "outputs": [],
   "source": []
  }
 ],
 "metadata": {
  "kernelspec": {
   "display_name": "Python 3",
   "language": "python",
   "name": "python3"
  },
  "language_info": {
   "codemirror_mode": {
    "name": "ipython",
    "version": 3
   },
   "file_extension": ".py",
   "mimetype": "text/x-python",
   "name": "python",
   "nbconvert_exporter": "python",
   "pygments_lexer": "ipython3",
   "version": "3.7.3"
  }
 },
 "nbformat": 4,
 "nbformat_minor": 2
}
