{
 "cells": [
  {
   "cell_type": "markdown",
   "metadata": {
    "pycharm": {}
   },
   "source": [
    "# Analysis of JCR Impact Factor\n",
    "\n",
    "Analysis of impact factor of publication in specific field.\n",
    "\n",
    "E.g. for \"remote sensing\" the data can be obtained with:\n",
    "\n",
    "https://plus.cobiss.si/opac7/jcr?kw=remote%20sensing&max=1000"
   ],
   "execution_count": null,
   "outputs": []
  },
  {
   "cell_type": "code",
   "execution_count": null,
   "metadata": {
    "pycharm": {}
   },
   "outputs": [],
   "source": [
    "# Libraries\n",
    "import pandas as pd\n",
    "import matplotlib.pyplot as plt\n",
    "from matplotlib.backends.backend_pdf import PdfPages"
   ]
  },
  {
   "cell_type": "code",
   "execution_count": null,
   "metadata": {
    "pycharm": {}
   },
   "outputs": [],
   "source": [
    "# Figure size and style\n",
    "plt.rcParams['figure.figsize'] = (15, 10)"
   ]
  },
  {
   "cell_type": "code",
   "execution_count": null,
   "metadata": {
    "pycharm": {}
   },
   "outputs": [],
   "source": [
    "# Processing parameters\n",
    "# Field\n",
    "keyword = \"remote sensing\"\n",
    "# Number of top journals\n",
    "j_top_n = 10\n",
    "# Last years\n",
    "j_top_years = 5\n",
    "# Number of juornals\n",
    "j_top_years_n = 6\n",
    "# Search by title or keyword\n",
    "search_by = \"kw=\"\n",
    "# search_by = \"ti=\"\n",
    "# Smoothing\n",
    "smooth_plot = True"
   ]
  },
  {
   "cell_type": "markdown",
   "metadata": {
    "pycharm": {}
   },
   "source": [
    "## Read data"
   ],
   "execution_count": null,
   "outputs": []
  },
  {
   "cell_type": "code",
   "execution_count": null,
   "metadata": {
    "pycharm": {}
   },
   "outputs": [],
   "source": [
    "# Cobiss base URL\n",
    "cobiss_url = \"https://plus.cobiss.si/opac7/jcr?\"\n",
    "cobiss_param = \"&max=1000\""
   ]
  },
  {
   "cell_type": "code",
   "execution_count": null,
   "metadata": {
    "pycharm": {}
   },
   "outputs": [],
   "source": [
    "# Read data\n",
    "cobiss_jcr = cobiss_url + search_by + keyword + cobiss_param\n",
    "cobiss_jcr = cobiss_jcr.replace(\" \", \"%20\") # replace spaces\n",
    "jcr_if = pd.read_html(cobiss_jcr)[0] # Take first table"
   ]
  },
  {
   "cell_type": "code",
   "execution_count": null,
   "metadata": {
    "pycharm": {}
   },
   "outputs": [],
   "source": [
    "jcr_if = pd.read_html(cobiss_jcr)[0] # Take first table\n",
    "jcr_if.head()"
   ]
  },
  {
   "cell_type": "markdown",
   "metadata": {
    "pycharm": {}
   },
   "source": [
    "## Basic journal info"
   ],
   "execution_count": null,
   "outputs": []
  },
  {
   "cell_type": "code",
   "execution_count": null,
   "metadata": {
    "pycharm": {}
   },
   "outputs": [],
   "source": [
    "jcr_if.describe()"
   ]
  },
  {
   "cell_type": "code",
   "execution_count": null,
   "metadata": {
    "pycharm": {},
    "scrolled": true
   },
   "outputs": [],
   "source": [
    "# List of journals\n",
    "jcr_if_journals = jcr_if[[\"ISSN\", \"Naslov serijske publikacije\"]]\n",
    "jcr_if_journals = jcr_if_journals.drop_duplicates().reset_index(drop=True)\n",
    "jcr_if_journals"
   ]
  },
  {
   "cell_type": "markdown",
   "metadata": {
    "pycharm": {}
   },
   "source": [
    "## Top journals in the field in the last jear"
   ],
   "execution_count": null,
   "outputs": []
  },
  {
   "cell_type": "code",
   "execution_count": null,
   "metadata": {
    "pycharm": {},
    "scrolled": true
   },
   "outputs": [],
   "source": [
    "# Top 10 journals in last year\n",
    "ylast = jcr_if[\"Leto\"].max()\n",
    "jcr_if_ylast = jcr_if[jcr_if[\"Leto\"] == ylast]\n",
    "jcr_if_ylast.nlargest(10, 'Faktor vpliva')[[\"Naslov serijske publikacije\", \"ISSN\"]]"
   ]
  },
  {
   "cell_type": "code",
   "execution_count": null,
   "metadata": {
    "pycharm": {},
    "scrolled": true
   },
   "outputs": [],
   "source": [
    "jcr_if_top_ylast = jcr_if_ylast.nlargest(j_top_n, 'Faktor vpliva')[\"ISSN\"]"
   ]
  },
  {
   "cell_type": "code",
   "execution_count": null,
   "metadata": {
    "pycharm": {}
   },
   "outputs": [],
   "source": [
    "# Drop unneeded columns\n",
    "jcr_if_issn = jcr_if[[\"ISSN\", \"Leto\", \"Faktor vpliva\"]]"
   ]
  },
  {
   "cell_type": "code",
   "execution_count": null,
   "metadata": {
    "pycharm": {}
   },
   "outputs": [],
   "source": [
    "# Select only top publications\n",
    "jcr_if_top = jcr_if_issn[jcr_if_issn['ISSN'].isin(jcr_if_top_ylast)]"
   ]
  },
  {
   "cell_type": "code",
   "execution_count": null,
   "metadata": {
    "pycharm": {}
   },
   "outputs": [],
   "source": [
    "# Group by publication ISSN\n",
    "jcr_if_top_grouped = jcr_if_top.groupby([\"Leto\", \"ISSN\"]).mean().unstack()\n",
    "jcr_if_top_grouped.columns = jcr_if_top_grouped.columns.get_level_values(1)"
   ]
  },
  {
   "cell_type": "code",
   "execution_count": null,
   "metadata": {
    "pycharm": {}
   },
   "outputs": [],
   "source": [
    "jcr_if_top_grouped"
   ]
  },
  {
   "cell_type": "code",
   "execution_count": null,
   "metadata": {
    "pycharm": {}
   },
   "outputs": [],
   "source": [
    "# Change column names\n",
    "for val in jcr_if_top_grouped.columns:\n",
    "    rep = jcr_if_journals[jcr_if_journals[\"ISSN\"] == val][\"Naslov serijske publikacije\"].values[0]\n",
    "    print(val, rep)\n",
    "    jcr_if_top_grouped.rename(columns={val: rep}, inplace=True)"
   ]
  },
  {
   "cell_type": "code",
   "execution_count": null,
   "metadata": {},
   "outputs": [],
   "source": [
    "jcr_if_top_grouped"
   ]
  },
  {
   "cell_type": "code",
   "execution_count": null,
   "metadata": {},
   "outputs": [],
   "source": [
    "# Smooth if necessary\n",
    "if smooth_plot:\n",
    "    jcr_if_top_grouped = jcr_if_top_grouped.rolling(3, win_type=\"boxcar\", min_periods=1, center=True).mean()"
   ]
  },
  {
   "cell_type": "markdown",
   "metadata": {
    "pycharm": {}
   },
   "source": [
    "## IF of top journals by year"
   ],
   "execution_count": null,
   "outputs": []
  },
  {
   "cell_type": "code",
   "execution_count": null,
   "metadata": {
    "pycharm": {}
   },
   "outputs": [],
   "source": [
    "# Plot IF by year\n",
    "ax = jcr_if_top_grouped.plot()\n",
    "ax.set_ylim(bottom=0)\n",
    "ax.legend(frameon=False)"
   ]
  },
  {
   "cell_type": "markdown",
   "metadata": {
    "pycharm": {}
   },
   "source": [
    "## Top journals by IF in last years"
   ],
   "execution_count": null,
   "outputs": []
  },
  {
   "cell_type": "code",
   "execution_count": null,
   "metadata": {
    "pycharm": {}
   },
   "outputs": [],
   "source": [
    "# Journals in last years\n",
    "ylast = jcr_if[\"Leto\"].max() - j_top_years\n",
    "jcr_if_last_n = jcr_if[jcr_if[\"Leto\"] > ylast]"
   ]
  },
  {
   "cell_type": "code",
   "execution_count": null,
   "metadata": {
    "pycharm": {}
   },
   "outputs": [],
   "source": [
    "# Drop unneeded columns\n",
    "jcr_if_last_n_issn = jcr_if_last_n[[\"ISSN\", \"Leto\", \"Faktor vpliva\"]]"
   ]
  },
  {
   "cell_type": "code",
   "execution_count": null,
   "metadata": {
    "pycharm": {}
   },
   "outputs": [],
   "source": [
    "# Aggregator\n",
    "aggregator = {'Faktor vpliva' : 'mean',\n",
    "              'Leto' : 'count'\n",
    "             }\n",
    "jcr_if_last_n_issn_grouped = jcr_if_last_n_issn.groupby(\"ISSN\").agg(aggregator)"
   ]
  },
  {
   "cell_type": "code",
   "execution_count": null,
   "metadata": {},
   "outputs": [],
   "source": [
    "jcr_if_last_n_issn_grouped"
   ]
  },
  {
   "cell_type": "code",
   "execution_count": null,
   "metadata": {
    "pycharm": {}
   },
   "outputs": [],
   "source": [
    "# Only if all years have IF\n",
    "jcr_top_n_y = jcr_if_last_n_issn_grouped[jcr_if_last_n_issn_grouped[\"Leto\"] == j_top_years][\"Faktor vpliva\"]"
   ]
  },
  {
   "cell_type": "code",
   "execution_count": null,
   "metadata": {
    "pycharm": {}
   },
   "outputs": [],
   "source": [
    "jcr_top_n_y = jcr_top_n_y.nlargest(j_top_years_n)"
   ]
  },
  {
   "cell_type": "code",
   "execution_count": null,
   "metadata": {
    "pycharm": {}
   },
   "outputs": [],
   "source": [
    "# Select only top publications\n",
    "jcr_if_top_n_y = jcr_if_issn[jcr_if_issn['ISSN'].isin(jcr_top_n_y.index)]"
   ]
  },
  {
   "cell_type": "code",
   "execution_count": null,
   "metadata": {
    "pycharm": {}
   },
   "outputs": [],
   "source": [
    "# Group by publication ISSN\n",
    "jcr_if_top_n_y_grouped = jcr_if_top_n_y.groupby([\"Leto\", \"ISSN\"]).mean().unstack()\n",
    "jcr_if_top_n_y_grouped.columns = jcr_if_top_n_y_grouped.columns.get_level_values(1)"
   ]
  },
  {
   "cell_type": "code",
   "execution_count": null,
   "metadata": {
    "pycharm": {}
   },
   "outputs": [],
   "source": [
    "jcr_if_top_n_y_grouped"
   ]
  },
  {
   "cell_type": "code",
   "execution_count": null,
   "metadata": {
    "pycharm": {}
   },
   "outputs": [],
   "source": [
    "# Change column names\n",
    "for val in jcr_if_top_n_y_grouped.columns:\n",
    "    rep = jcr_if_journals[jcr_if_journals[\"ISSN\"] == val][\"Naslov serijske publikacije\"].values[0]\n",
    "    print(val, rep)\n",
    "    jcr_if_top_n_y_grouped.rename(columns={val: rep}, inplace=True)"
   ]
  },
  {
   "cell_type": "code",
   "execution_count": null,
   "metadata": {},
   "outputs": [],
   "source": [
    "# Smooth if necessary\n",
    "if smooth_plot:\n",
    "    jcr_if_top_n_y_grouped = jcr_if_top_n_y_grouped.rolling(3, win_type=\"boxcar\", min_periods=1, center=True).mean()"
   ]
  },
  {
   "cell_type": "code",
   "execution_count": null,
   "metadata": {
    "pycharm": {}
   },
   "outputs": [],
   "source": [
    "# Plot IF by year\n",
    "ax = jcr_if_top_n_y_grouped.plot()\n",
    "ax.set_ylim(bottom=0)\n",
    "ax.set_xlim(left=ylast)\n",
    "ax.legend(frameon=False)"
   ]
  },
  {
   "cell_type": "markdown",
   "metadata": {},
   "source": [
    "## Top journals last year"
   ],
   "execution_count": null,
   "outputs": []
  },
  {
   "cell_type": "code",
   "execution_count": null,
   "metadata": {},
   "outputs": [],
   "source": [
    "# Top journals in latest year\n",
    "jcr_if_top_last_year = jcr_if_top_grouped[jcr_if_top_grouped.index == max(jcr_if_top_grouped.index)].transpose()"
   ]
  },
  {
   "cell_type": "code",
   "execution_count": null,
   "metadata": {},
   "outputs": [],
   "source": [
    "jcr_if_top_last_year.sort_values([2018],ascending=False)"
   ]
  }
 ],
 "metadata": {
  "kernelspec": {
   "display_name": "Python 3",
   "language": "python",
   "name": "python3"
  },
  "language_info": {
   "codemirror_mode": {
    "name": "ipython",
    "version": 3
   },
   "file_extension": ".py",
   "mimetype": "text/x-python",
   "name": "python",
   "nbconvert_exporter": "python",
   "pygments_lexer": "ipython3",
   "version": "3.7.7-final"
  }
 },
 "nbformat": 4,
 "nbformat_minor": 4
}