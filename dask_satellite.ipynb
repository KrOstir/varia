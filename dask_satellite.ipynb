{
 "cells": [
  {
   "cell_type": "markdown",
   "id": "c20e57ad-7bec-4bf9-90a9-6d3531d307c0",
   "metadata": {},
   "source": [
    "# Process Satellite Data with Dask\n",
    "\n",
    "Process large raster file."
   ]
  },
  {
   "cell_type": "code",
   "execution_count": null,
   "id": "8804346f-a55b-4c17-b802-0b6d02ae7f14",
   "metadata": {},
   "outputs": [],
   "source": [
    "import os\n",
    "# import rasterio\n",
    "import matplotlib.pyplot as plt\n",
    "# import xarray as xr\n",
    "import rioxarray as rxr\n",
    "import numpy as np"
   ]
  },
  {
   "cell_type": "code",
   "execution_count": null,
   "id": "37d27d55-2673-49d4-8141-4c7aa93c1065",
   "metadata": {},
   "outputs": [],
   "source": [
    "%matplotlib inline"
   ]
  },
  {
   "cell_type": "markdown",
   "id": "104f764f-28f5-4e44-a167-669935b8f571",
   "metadata": {},
   "source": [
    "## Set up Dask client"
   ]
  },
  {
   "cell_type": "code",
   "execution_count": null,
   "id": "bc59613b-7858-4102-9780-9b4bf1734271",
   "metadata": {},
   "outputs": [],
   "source": [
    "from dask.distributed import Client, progress\n",
    "# # client = Client(n_workers=2, threads_per_worker=2, memory_limit='10GB')\n",
    "client = Client(n_workers=4, threads_per_worker=2, memory_limit='10GB')\n",
    "# client = Client('tcp://193.2.92.144:8786')\n",
    "client"
   ]
  },
  {
   "cell_type": "markdown",
   "id": "ac0a1b20-2eaa-446d-8c6e-9a2ecfd4e665",
   "metadata": {},
   "source": [
    "## Load data"
   ]
  },
  {
   "cell_type": "code",
   "execution_count": null,
   "id": "3f473df7-c7e4-42d6-b5f4-4629f6fe7fc9",
   "metadata": {},
   "outputs": [],
   "source": [
    "%%time\n",
    "s2_fn_ir = 'C:\\Data\\GeoData\\Sentinel-2\\S2B_MSIL2A_20200822T094039_N0214_R036_T34UDC_20200822T115325.SAFE\\GRANULE\\L2A_T34UDC_A018080_20200822T094034\\IMG_DATA\\R10m\\T34UDC_20200822T094039_B08_10m.jp2'\n",
    "s2_fn_red = 'C:\\Data\\GeoData\\Sentinel-2\\S2B_MSIL2A_20200822T094039_N0214_R036_T34UDC_20200822T115325.SAFE\\GRANULE\\L2A_T34UDC_A018080_20200822T094034\\IMG_DATA\\R10m\\T34UDC_20200822T094039_B04_10m.jp2'"
   ]
  },
  {
   "cell_type": "code",
   "execution_count": null,
   "id": "73f764df-6587-4dba-9871-15377ec0156d",
   "metadata": {},
   "outputs": [],
   "source": [
    "%%time\n",
    "nir = rxr.open_rasterio(s2_fn_ir, chunks={'band': 1, 'x': 1024, 'y': 1024}, masked=True).astype(np.float64)\n",
    "red = rxr.open_rasterio(s2_fn_red, chunks={'band': 1, 'x': 1024, 'y': 1024}, masked=True).astype(np.float64)"
   ]
  },
  {
   "cell_type": "code",
   "execution_count": null,
   "id": "2757df14-0122-4e9c-9577-efdac748d374",
   "metadata": {},
   "outputs": [],
   "source": [
    "nir"
   ]
  },
  {
   "cell_type": "code",
   "execution_count": null,
   "id": "fd9e885e-b7b2-4071-859a-9c6544357a76",
   "metadata": {},
   "outputs": [],
   "source": [
    "nir.shape"
   ]
  },
  {
   "cell_type": "code",
   "execution_count": null,
   "id": "8800eaf0-eda0-4751-8a77-fdf680f67521",
   "metadata": {},
   "outputs": [],
   "source": [
    "nir.dims"
   ]
  },
  {
   "cell_type": "code",
   "execution_count": null,
   "id": "10ae03be-9570-44ee-934a-6efcac4e132f",
   "metadata": {},
   "outputs": [],
   "source": [
    "sub = nir[:,[1000, 2000], [1000, 2000]]"
   ]
  },
  {
   "cell_type": "code",
   "execution_count": null,
   "id": "abca590c-a3ec-4652-bb8e-2236d5c248b0",
   "metadata": {},
   "outputs": [],
   "source": [
    "sub.shape"
   ]
  },
  {
   "cell_type": "code",
   "execution_count": null,
   "id": "76f9fd78-beb2-4e31-acdd-ea083df65ac1",
   "metadata": {},
   "outputs": [],
   "source": [
    "%%time\n",
    "plt.figure()\n",
    "nir[0,:,:].plot.imshow(cmap='BrBG')\n",
    "plt.axis('equal')\n",
    "plt.show()"
   ]
  },
  {
   "cell_type": "markdown",
   "id": "059d7314-c30f-481c-a219-c7123a1cafe9",
   "metadata": {},
   "source": [
    "## Compute NDVI"
   ]
  },
  {
   "cell_type": "code",
   "execution_count": null,
   "id": "a6f7d2df-2edb-4b83-ab49-cd17e83ac3e0",
   "metadata": {},
   "outputs": [],
   "source": [
    "%%time\n",
    "ndvi = (nir - red) / (nir + red)"
   ]
  },
  {
   "cell_type": "code",
   "execution_count": null,
   "id": "c20d915d-e979-4b17-a08e-ce70d304a904",
   "metadata": {},
   "outputs": [],
   "source": [
    "%%time\n",
    "ndvi2d = ndvi.squeeze()"
   ]
  },
  {
   "cell_type": "code",
   "execution_count": null,
   "id": "43f89f58-8df3-48df-b887-0d7d2b0867d6",
   "metadata": {},
   "outputs": [],
   "source": [
    "ndvi2d"
   ]
  },
  {
   "cell_type": "code",
   "execution_count": null,
   "id": "9787ef88-283c-4cf8-af9e-a492fb53325a",
   "metadata": {},
   "outputs": [],
   "source": [
    "%%time\n",
    "plt.figure()\n",
    "ndvi2d.compute().plot.imshow(cmap='BrBG', vmin=-0.5, vmax=1)\n",
    "plt.axis('equal')\n",
    "plt.show()"
   ]
  },
  {
   "cell_type": "markdown",
   "id": "8a036f91-b747-419d-86f7-2b3300671eca",
   "metadata": {},
   "source": [
    "## Create a subset"
   ]
  },
  {
   "cell_type": "code",
   "execution_count": null,
   "id": "d0ea2996-f68d-4134-bb75-4ac3049abc81",
   "metadata": {},
   "outputs": [],
   "source": [
    "ndvi2d.sel"
   ]
  },
  {
   "cell_type": "code",
   "execution_count": null,
   "id": "918cea43-292d-4c6f-8242-384873f7dc68",
   "metadata": {},
   "outputs": [],
   "source": [
    "sub = ndvi2d[0:10, 0:20]"
   ]
  },
  {
   "cell_type": "code",
   "execution_count": null,
   "id": "923747e0-858d-4d9f-865d-8da38ed9eaf3",
   "metadata": {},
   "outputs": [],
   "source": [
    "sub = ndvi.sel(lon=(ds.lon < -80) | (ds.lon > 40))"
   ]
  },
  {
   "cell_type": "code",
   "execution_count": null,
   "id": "0c97fcbf-ff21-4a6c-8d63-1d423fbaa791",
   "metadata": {},
   "outputs": [],
   "source": [
    "plt.figure()\n",
    "sub.compute().plot.imshow(cmap='BrBG', vmin=-0.5, vmax=1)\n",
    "plt.axis('equal')\n",
    "plt.show()"
   ]
  },
  {
   "cell_type": "code",
   "execution_count": null,
   "id": "8e361e66-6a30-41f7-995d-a5ebaa8d94d6",
   "metadata": {},
   "outputs": [],
   "source": []
  }
 ],
 "metadata": {
  "kernelspec": {
   "display_name": "Python 3 (ipykernel)",
   "language": "python",
   "name": "python3"
  },
  "language_info": {
   "codemirror_mode": {
    "name": "ipython",
    "version": 3
   },
   "file_extension": ".py",
   "mimetype": "text/x-python",
   "name": "python",
   "nbconvert_exporter": "python",
   "pygments_lexer": "ipython3",
   "version": "3.8.12"
  }
 },
 "nbformat": 4,
 "nbformat_minor": 5
}
