{
 "cells": [
  {
   "cell_type": "markdown",
   "id": "c20e57ad-7bec-4bf9-90a9-6d3531d307c0",
   "metadata": {},
   "source": [
    "# Process Satellite Data with Dask\n",
    "\n",
    "Process large raster file."
   ]
  },
  {
   "cell_type": "code",
   "execution_count": null,
   "id": "8804346f-a55b-4c17-b802-0b6d02ae7f14",
   "metadata": {},
   "outputs": [],
   "source": [
    "import os\n",
    "# import rasterio\n",
    "import matplotlib.pyplot as plt\n",
    "# import xarray as xr\n",
    "import rioxarray as rxr"
   ]
  },
  {
   "cell_type": "code",
   "execution_count": null,
   "id": "37d27d55-2673-49d4-8141-4c7aa93c1065",
   "metadata": {},
   "outputs": [],
   "source": [
    "%matplotlib inline"
   ]
  },
  {
   "cell_type": "code",
   "execution_count": null,
   "id": "3f473df7-c7e4-42d6-b5f4-4629f6fe7fc9",
   "metadata": {},
   "outputs": [],
   "source": [
    "s2_fn_ir = 'C:\\Data\\GeoData\\Sentinel-2\\S2B_MSIL2A_20200822T094039_N0214_R036_T34UDC_20200822T115325.SAFE\\GRANULE\\L2A_T34UDC_A018080_20200822T094034\\IMG_DATA\\R10m\\T34UDC_20200822T094039_B08_10m.jp2'\n",
    "s2_fn_red = 'C:\\Data\\GeoData\\Sentinel-2\\S2B_MSIL2A_20200822T094039_N0214_R036_T34UDC_20200822T115325.SAFE\\GRANULE\\L2A_T34UDC_A018080_20200822T094034\\IMG_DATA\\R10m\\T34UDC_20200822T094039_B04_10m.jp2'"
   ]
  },
  {
   "cell_type": "code",
   "execution_count": null,
   "id": "73f764df-6587-4dba-9871-15377ec0156d",
   "metadata": {},
   "outputs": [],
   "source": [
    "nir = rxr.open_rasterio(s2_fn_ir, chunks={'band': 1, 'x': 1024, 'y': 1024})\n",
    "red = rxr.open_rasterio(s2_fn_red, chunks={'band': 1, 'x': 1024, 'y': 1024})"
   ]
  },
  {
   "cell_type": "code",
   "execution_count": null,
   "id": "f157b391-1d3a-40f6-bc78-f11be2b80e46",
   "metadata": {},
   "outputs": [],
   "source": [
    "nir"
   ]
  },
  {
   "cell_type": "code",
   "execution_count": null,
   "id": "bc59613b-7858-4102-9780-9b4bf1734271",
   "metadata": {},
   "outputs": [],
   "source": [
    "from dask.distributed import Client, progress\n",
    "# # client = Client(n_workers=2, threads_per_worker=2, memory_limit='10GB')\n",
    "# client = Client(n_workers=4, threads_per_worker=2, memory_limit='10GB')\n",
    "client = Client('tcp://193.2.92.144:8786')\n",
    "client"
   ]
  },
  {
   "cell_type": "code",
   "execution_count": null,
   "id": "a6f7d2df-2edb-4b83-ab49-cd17e83ac3e0",
   "metadata": {},
   "outputs": [],
   "source": [
    "ndvi = (nir - red) / (nir + red)"
   ]
  },
  {
   "cell_type": "code",
   "execution_count": null,
   "id": "c20d915d-e979-4b17-a08e-ce70d304a904",
   "metadata": {},
   "outputs": [],
   "source": [
    "ndvi2d = ndvi.squeeze()"
   ]
  },
  {
   "cell_type": "code",
   "execution_count": null,
   "id": "9787ef88-283c-4cf8-af9e-a492fb53325a",
   "metadata": {},
   "outputs": [],
   "source": [
    "plt.figure()\n",
    "im = ndvi2d.compute().plot.imshow(cmap='BrBG', vmin=-0.5, vmax=1)\n",
    "plt.axis('equal')\n",
    "plt.show()"
   ]
  },
  {
   "cell_type": "code",
   "execution_count": null,
   "id": "e9595f71-69e6-4b20-8f1d-d97241b349e0",
   "metadata": {},
   "outputs": [],
   "source": []
  }
 ],
 "metadata": {
  "kernelspec": {
   "display_name": "Python 3 (ipykernel)",
   "language": "python",
   "name": "python3"
  },
  "language_info": {
   "codemirror_mode": {
    "name": "ipython",
    "version": 3
   },
   "file_extension": ".py",
   "mimetype": "text/x-python",
   "name": "python",
   "nbconvert_exporter": "python",
   "pygments_lexer": "ipython3",
   "version": "3.8.12"
  }
 },
 "nbformat": 4,
 "nbformat_minor": 5
}
