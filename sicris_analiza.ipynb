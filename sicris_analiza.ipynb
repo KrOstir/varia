{
 "cells": [
  {
   "cell_type": "markdown",
   "metadata": {},
   "source": [
    "# Analiza podatkov o raziskovalcih in skupinah na področju geodezija"
   ]
  },
  {
   "cell_type": "code",
   "execution_count": null,
   "metadata": {},
   "outputs": [],
   "source": [
    "# Matplotlib inline\n",
    "%matplotlib inline\n",
    "# Imports\n",
    "from urllib.request import urlopen\n",
    "import json\n",
    "import pandas as pd\n",
    "import matplotlib.pyplot as plt\n",
    "\n",
    "plt.rcParams[\"figure.figsize\"] = (15, 10)\n",
    "# plt.style.use('ggplot')"
   ]
  },
  {
   "cell_type": "code",
   "execution_count": null,
   "metadata": {},
   "outputs": [],
   "source": [
    "# Sicris URL za dostop do podatkov\n",
    "url_zaposleni_raziskovalci = \"http://www.sicris.si/Common/rest.aspx?sessionID=1234CRIS12002B01B01A03IZUMBFICDOSKJHS588Nn44131&fields=&fields=mstid,rsrid,fname,lname,type,typedescr,abbrev,science,field,subfield,sci_descr,fil_descr,sub_descr&country=SI_JSON&entity=RSR&methodCall=rolecode=[RYE][SNX][RGP]%20and%20lang=slv\"\n",
    "# url_mentorji_mladim_raziskovalcem\n",
    "# url_aktivni_pri_projektih_programih\n",
    "# url_zaposleni_univerze_v_ljubljani\n",
    "# url_zaposleni_univerze_v_mariboru\n",
    "# url_zaposleni_univerze_na_primorskem\n",
    "# url_zaposleni_univerze_v_novi_gorici\n",
    "url_zaposleni_na_univerzah = \"http://www.sicris.si/Common/rest.aspx?sessionID=1234CRIS12002B01B01A03IZUMBFICDOSKJHS588Nn44131&fields=&fields=mstid,rsrid,fname,lname,type,typedescr,abbrev,science,field,subfield,sci_descr,fil_descr,sub_descr&country=SI_JSON&entity=RSR&methodCall=organization=Univerza%%20and%20lang=slv\"\n",
    "# url_raziskovalne_organizacije = \"http://www.sicris.si/Common/rest.aspx?sessionID=1234CRIS12002B01B01A03IZUMBFICDOSKJHS588Nn44131&fields=&country=SI_JSON&entity=ORG&methodCall=mstid=%%20and%20lang=slv\"\n",
    "# url_raziskovalne_skupine = \"http://www.sicris.si/Common/rest.aspx?sessionID=1234CRIS12002B01B01A03IZUMBFICDOSKJHS588Nn44131&fields=&country=SI_JSON&entity=GRP&methodCall=mstid=%%20and%20lang=slv\"\n",
    "# url_projekti = \"http://www.sicris.si/Common/rest.aspx?sessionID=1234CRIS12002B01B01A03IZUMBFICDOSKJHS588Nn44131&fields=&country=SI_JSON&entity=PRJ&methodCall=mstid=%%20and%20lang=slv\"\n",
    "# url_programi = \"http://www.sicris.si/Common/rest.aspx?sessionID=1234CRIS12002B01B01A03IZUMBFICDOSKJHS588Nn44131&fields=&country=SI_JSON&entity=PRG&methodCall=mstid=%%20and%20lang=slv\"\n",
    "# url_aktivni_projekti = \"http://www.sicris.si/Common/rest.aspx?sessionID=1234CRIS12002B01B01A03IZUMBFICDOSKJHS588Nn44131&fields=&country=SI_JSON&entity=PRJ_ACTIVE&methodCall=mstid=%%20and%20lang=slv\"\n",
    "# url_aktivni_programi = \"http://www.sicris.si/Common/rest.aspx?sessionID=1234CRIS12002B01B01A03IZUMBFICDOSKJHS588Nn44131&fields=&country=SI_JSON&entity=PRG_ACTIVE&methodCall=mstid=%%20and%20lang=slv\"\n",
    "# url_raziskovalna_oprema"
   ]
  },
  {
   "cell_type": "markdown",
   "metadata": {},
   "source": [
    "# Zaposleni raziskovalci"
   ]
  },
  {
   "cell_type": "code",
   "execution_count": null,
   "metadata": {},
   "outputs": [],
   "source": [
    "# Zaposleni raziskovalci\n",
    "zaposleni_raziskovalci = pd.read_json(url_zaposleni_raziskovalci)\n",
    "zaposleni_raziskovalci.head()"
   ]
  },
  {
   "cell_type": "code",
   "execution_count": null,
   "metadata": {},
   "outputs": [],
   "source": [
    "# Na univerzah\n",
    "zaposleni_raziskovalci_uni = pd.read_json(url_zaposleni_na_univerzah)\n",
    "zaposleni_raziskovalci_uni.head()"
   ]
  },
  {
   "cell_type": "code",
   "execution_count": null,
   "metadata": {},
   "outputs": [],
   "source": [
    "zaposleni_raziskovalci_geo = zaposleni_raziskovalci.loc[\n",
    "    zaposleni_raziskovalci[\"FIL_DESCR\"].isin([\"Geodezija\", \"Geologija\"])\n",
    "]\n",
    "zaposleni_raziskovalci_geo.head()"
   ]
  },
  {
   "cell_type": "code",
   "execution_count": null,
   "metadata": {},
   "outputs": [],
   "source": [
    "zaposleni_raziskovalci_uni_geo = zaposleni_raziskovalci_uni.loc[\n",
    "    zaposleni_raziskovalci_uni[\"FIL_DESCR\"].isin([\"Geodezija\", \"Geologija\"])\n",
    "]\n",
    "zaposleni_raziskovalci_uni_geo.head()"
   ]
  },
  {
   "cell_type": "code",
   "execution_count": null,
   "metadata": {},
   "outputs": [],
   "source": [
    "zaposleni_raziskovalci_geo[\n",
    "    zaposleni_raziskovalci_geo[\"TYPEDESCR\"] == \"Mladi raziskovalec\"\n",
    "]"
   ]
  },
  {
   "cell_type": "markdown",
   "metadata": {},
   "source": [
    "## Vsi"
   ]
  },
  {
   "cell_type": "code",
   "execution_count": null,
   "metadata": {},
   "outputs": [],
   "source": [
    "# Izloči tehnike, grupiraj po področju in MR ali raziskovalec\n",
    "zaposleni_raziskovalci_geo = zaposleni_raziskovalci_geo[\n",
    "    zaposleni_raziskovalci_geo[\"TYPEDESCR\"] != \"Tehnik\"\n",
    "]\n",
    "zaposleni_raziskovalci_geo = zaposleni_raziskovalci_geo.groupby(\n",
    "    [\"FIL_DESCR\", \"TYPEDESCR\"]\n",
    ")[\"TYPEDESCR\"].count()\n",
    "zaposleni_raziskovalci_geo"
   ]
  },
  {
   "cell_type": "code",
   "execution_count": null,
   "metadata": {},
   "outputs": [],
   "source": [
    "zaposleni_raziskovalci_geo.index"
   ]
  },
  {
   "cell_type": "code",
   "execution_count": null,
   "metadata": {},
   "outputs": [],
   "source": [
    "fig, ax = plt.subplots()\n",
    "\n",
    "ax = zaposleni_raziskovalci_geo.plot(\n",
    "    kind=\"bar\",\n",
    "    title=\"Zaposleni raziskovalci\",\n",
    "    figsize=(15, 10),\n",
    "    legend=False,\n",
    "    fontsize=14,\n",
    ")\n",
    "for i, v in enumerate(zaposleni_raziskovalci_geo):\n",
    "    ax.text(i, v + 0.5, str(v), fontsize=12)\n",
    "ax.xaxis.label.set_visible(False)\n",
    "plt.show()"
   ]
  },
  {
   "cell_type": "markdown",
   "metadata": {},
   "source": [
    "## Univerze"
   ]
  },
  {
   "cell_type": "code",
   "execution_count": null,
   "metadata": {},
   "outputs": [],
   "source": [
    "# Izloči tehnike, gruporaj po področju in MR ali raziskovalec\n",
    "zaposleni_raziskovalci_uni_geo = zaposleni_raziskovalci_uni_geo[\n",
    "    zaposleni_raziskovalci_uni_geo[\"TYPEDESCR\"] != \"Tehnik\"\n",
    "]\n",
    "zaposleni_raziskovalci_uni_geo = zaposleni_raziskovalci_uni_geo.groupby(\n",
    "    [\"FIL_DESCR\", \"TYPEDESCR\"]\n",
    ")[\"TYPEDESCR\"].count()"
   ]
  },
  {
   "cell_type": "code",
   "execution_count": null,
   "metadata": {},
   "outputs": [],
   "source": [
    "fig, ax = plt.subplots()\n",
    "\n",
    "ax = zaposleni_raziskovalci_uni_geo.plot(\n",
    "    kind=\"bar\",\n",
    "    title=\"Zaposleni raziskovalci na univerzah\",\n",
    "    figsize=(15, 10),\n",
    "    legend=False,\n",
    "    fontsize=14,\n",
    ")\n",
    "for i, v in enumerate(zaposleni_raziskovalci_uni_geo):\n",
    "    ax.text(i, v + 0.1, str(v), fontsize=12)\n",
    "ax.xaxis.label.set_visible(False)\n",
    "plt.show()"
   ]
  },
  {
   "cell_type": "markdown",
   "metadata": {},
   "source": [
    "# Raziskovalne skupine"
   ]
  },
  {
   "cell_type": "code",
   "execution_count": null,
   "metadata": {},
   "outputs": [],
   "source": [
    "url_raziskovalne_skupine_geod = \"http://www.sicris.si/Common/rest.aspx?sessionID=1234CRIS12002B01B01A03IZUMBFICDOSKJHS588Nn44131&fields=mstid,grp_name,org_name,city,lname,fname,rsr_mstid,rsrid,grpid,orgid&country=SI_JSON&entity=GRP&methodCall=nameadvanced=name=%20and%20sci=2%20and%20fil=17%20and%20sub=%20and%20lang=slv\"\n",
    "url_raziskovalne_skupine_geol = \"http://www.sicris.si/Common/rest.aspx?sessionID=1234CRIS12002B01B01A03IZUMBFICDOSKJHS588Nn44131&fields=mstid,grp_name,org_name,city,lname,fname,rsr_mstid,rsrid,grpid,orgid&country=SI_JSON&entity=GRP&methodCall=nameadvanced=name=%20and%20sci=1%20and%20fil=06%20and%20sub=%20and%20lang=slv\"\n",
    "raziskovalne_skupine_geod = pd.read_json(url_raziskovalne_skupine_geod)\n",
    "raziskovalne_skupine_geod[\"FIL_DESCR\"] = \"Geodezija\"\n",
    "raziskovalne_skupine_geol = pd.read_json(url_raziskovalne_skupine_geol)\n",
    "raziskovalne_skupine_geol[\"FIL_DESCR\"] = \"Geologija\"\n",
    "raziskovalne_skupine_geo = raziskovalne_skupine_geod.append(raziskovalne_skupine_geol)\n",
    "raziskovalne_skupine_geo.head()"
   ]
  },
  {
   "cell_type": "code",
   "execution_count": null,
   "metadata": {},
   "outputs": [],
   "source": [
    "raziskovalne_skupine_geo = raziskovalne_skupine_geo.groupby([\"FIL_DESCR\"])[\n",
    "    \"GRPID\"\n",
    "].count()"
   ]
  },
  {
   "cell_type": "code",
   "execution_count": null,
   "metadata": {},
   "outputs": [],
   "source": [
    "fig, ax = plt.subplots()\n",
    "\n",
    "ax = raziskovalne_skupine_geo.plot(\n",
    "    kind=\"bar\",\n",
    "    title=\"Raziskovalne skupine\",\n",
    "    figsize=(15, 10),\n",
    "    legend=False,\n",
    "    fontsize=14,\n",
    ")\n",
    "for i, v in enumerate(raziskovalne_skupine_geo):\n",
    "    ax.text(i, v + 0.1, str(v), fontsize=12)\n",
    "ax.xaxis.label.set_visible(False)\n",
    "plt.show()"
   ]
  },
  {
   "cell_type": "markdown",
   "metadata": {},
   "source": [
    "# Raziskovalni projekti"
   ]
  },
  {
   "cell_type": "code",
   "execution_count": null,
   "metadata": {},
   "outputs": [],
   "source": [
    "url_raziskovalni_projekti_geod = \"http://www.sicris.si/Common/rest.aspx?sessionID=1234CRIS12002B01B01A03IZUMBFICDOSKJHS588Nn44131&fields=mstid_prg,mstid_science,mstid_contr,title,prjid,startdate,enddate,lname,fname,rsr_mstid&country=SI_JSON&entity=PRJ&methodCall=nameadvanced=name=%20and%20sci=2%20and%20fil=17%20and%20sub=%20and%20duration=0%20and%20prj_type=%20and%20lang=slv\"\n",
    "url_raziskovalni_projekti_geol = \"http://www.sicris.si/Common/rest.aspx?sessionID=1234CRIS12002B01B01A03IZUMBFICDOSKJHS588Nn44131&fields=mstid_prg,mstid_science,mstid_contr,title,prjid,startdate,enddate,lname,fname,rsr_mstid&country=SI_JSON&entity=PRJ&methodCall=nameadvanced=name=%20and%20sci=1%20and%20fil=06%20and%20sub=%20and%20duration=0%20and%20prj_type=%20and%20lang=slv\"\n",
    "raziskovalni_projekti_geod = pd.read_json(url_raziskovalni_projekti_geod)\n",
    "raziskovalni_projekti_geod[\"FIL_DESCR\"] = \"Geodezija\"\n",
    "raziskovalni_projekti_geol = pd.read_json(url_raziskovalni_projekti_geol)\n",
    "raziskovalni_projekti_geol[\"FIL_DESCR\"] = \"Geologija\"\n",
    "raziskovalni_projekti_geo = raziskovalni_projekti_geod.append(\n",
    "    raziskovalni_projekti_geol\n",
    ")\n",
    "raziskovalni_projekti_geo[\"MSTID_PRG\"] = raziskovalni_projekti_geo[\"MSTID_PRG\"].map(\n",
    "    {\n",
    "        \"L\": \"aplikativni\",\n",
    "        \"J\": \"temeljni\",\n",
    "        \"V\": \"ciljni\",\n",
    "        \"M\": \"ciljni\",\n",
    "        \"Z\": \"podoktorski\",\n",
    "        \"N\": \"evropski\",\n",
    "        \"R\": \"razvojni raziskovalni\",\n",
    "    }\n",
    ")\n",
    "raziskovalni_projekti_geo.head()"
   ]
  },
  {
   "cell_type": "code",
   "execution_count": null,
   "metadata": {},
   "outputs": [],
   "source": [
    "raziskovalni_projekti_geo = raziskovalni_projekti_geo.groupby(\n",
    "    [\"FIL_DESCR\", \"MSTID_PRG\"]\n",
    ")[\"FIL_DESCR\"].count()"
   ]
  },
  {
   "cell_type": "code",
   "execution_count": null,
   "metadata": {},
   "outputs": [],
   "source": [
    "fig, ax = plt.subplots()\n",
    "\n",
    "ax = raziskovalni_projekti_geo.plot(\n",
    "    kind=\"bar\",\n",
    "    title=\"Raziskovalni projekti\",\n",
    "    figsize=(15, 10),\n",
    "    legend=False,\n",
    "    fontsize=14,\n",
    ")\n",
    "for i, v in enumerate(raziskovalni_projekti_geo):\n",
    "    ax.text(i, v + 0.1, str(v), fontsize=12)\n",
    "ax.xaxis.label.set_visible(False)\n",
    "plt.show()"
   ]
  },
  {
   "cell_type": "markdown",
   "metadata": {},
   "source": [
    "## Aktivni"
   ]
  },
  {
   "cell_type": "code",
   "execution_count": null,
   "metadata": {},
   "outputs": [],
   "source": [
    "url_raziskovalni_projekti_akt_geod = \"http://www.sicris.si/Common/rest.aspx?sessionID=1234CRIS12002B01B01A03IZUMBFICDOSKJHS588Nn44131&fields=mstid_prg,mstid_science,mstid_contr,title,prjid,startdate,enddate,lname,fname,rsr_mstid&country=SI_JSON&entity=PRJ&methodCall=nameadvanced=name=%20and%20sci=2%20and%20fil=17%20and%20sub=%20and%20duration=1%20and%20prj_type=%20and%20lang=slv\"\n",
    "url_raziskovalni_projekti_akt_geol = \"http://www.sicris.si/Common/rest.aspx?sessionID=1234CRIS12002B01B01A03IZUMBFICDOSKJHS588Nn44131&fields=mstid_prg,mstid_science,mstid_contr,title,prjid,startdate,enddate,lname,fname,rsr_mstid&country=SI_JSON&entity=PRJ&methodCall=nameadvanced=name=%20and%20sci=1%20and%20fil=06%20and%20sub=%20and%20duration=1%20and%20prj_type=%20and%20lang=slv\"\n",
    "raziskovalni_projekti_akt_geod = pd.read_json(url_raziskovalni_projekti_akt_geod)\n",
    "raziskovalni_projekti_akt_geod[\"FIL_DESCR\"] = \"Geodezija\"\n",
    "raziskovalni_projekti_akt_geol = pd.read_json(url_raziskovalni_projekti_akt_geol)\n",
    "raziskovalni_projekti_akt_geol[\"FIL_DESCR\"] = \"Geologija\"\n",
    "raziskovalni_projekti_akt_geo = raziskovalni_projekti_akt_geod.append(\n",
    "    raziskovalni_projekti_akt_geol\n",
    ")\n",
    "raziskovalni_projekti_akt_geo[\"MSTID_PRG\"] = raziskovalni_projekti_akt_geo[\n",
    "    \"MSTID_PRG\"\n",
    "].map(\n",
    "    {\n",
    "        \"L\": \"aplikativni\",\n",
    "        \"J\": \"temeljni\",\n",
    "        \"V\": \"ciljni\",\n",
    "        \"M\": \"ciljni\",\n",
    "        \"Z\": \"podoktorski\",\n",
    "        \"N\": \"evropski\",\n",
    "        \"R\": \"razvojni raziskovalni\",\n",
    "    }\n",
    ")\n",
    "raziskovalni_projekti_akt_geo.head()"
   ]
  },
  {
   "cell_type": "code",
   "execution_count": null,
   "metadata": {},
   "outputs": [],
   "source": [
    "raziskovalni_projekti_akt_geo = raziskovalni_projekti_akt_geo.groupby(\n",
    "    [\"FIL_DESCR\", \"MSTID_PRG\"]\n",
    ")[\"FIL_DESCR\"].count()\n",
    "raziskovalni_projekti_akt_geo"
   ]
  },
  {
   "cell_type": "code",
   "execution_count": null,
   "metadata": {},
   "outputs": [],
   "source": [
    "fig, ax = plt.subplots()\n",
    "\n",
    "ax = raziskovalni_projekti_akt_geo.plot(\n",
    "    kind=\"bar\",\n",
    "    title=\"Aktivni raziskovalni projekti\",\n",
    "    figsize=(15, 10),\n",
    "    legend=False,\n",
    "    fontsize=14,\n",
    ")\n",
    "for i, v in enumerate(raziskovalni_projekti_akt_geo):\n",
    "    ax.text(i, v + 0.02, str(v), fontsize=12)\n",
    "ax.xaxis.label.set_visible(False)\n",
    "plt.show()"
   ]
  },
  {
   "cell_type": "markdown",
   "metadata": {},
   "source": [
    "# Aktivni raziskovalni programi"
   ]
  },
  {
   "cell_type": "code",
   "execution_count": null,
   "metadata": {},
   "outputs": [],
   "source": [
    "url_raziskovalni_programi_geod = \"http://www.sicris.si/Common/rest.aspx?sessionID=1234CRIS12002B01B01A03IZUMBFICDOSKJHS588Nn44131&fields=mstid_prg,mstid_science,mstid_contr,title,prjid,startdate,enddate,lname,fname,rsr_mstid&country=SI_JSON&entity=PRG&methodCall=nameadvanced=name=%20and%20sci=2%20and%20fil=17%20and%20sub=%20and%20duration=1%20and%20prg_type=%20and%20lang=slv\"\n",
    "url_raziskovalni_programi_geol = \"http://www.sicris.si/Common/rest.aspx?sessionID=1234CRIS12002B01B01A03IZUMBFICDOSKJHS588Nn44131&fields=mstid_prg,mstid_science,mstid_contr,title,prjid,startdate,enddate,lname,fname,rsr_mstid&country=SI_JSON&entity=PRG&methodCall=nameadvanced=name=%20and%20sci=1%20and%20fil=06%20and%20sub=%20and%20duration=1%20and%20prg_type=%20and%20lang=slv\"\n",
    "raziskovalni_programi_geod = pd.read_json(url_raziskovalni_programi_geod)\n",
    "raziskovalni_programi_geod[\"FIL_DESCR\"] = \"Geodezija\"\n",
    "raziskovalni_programi_geol = pd.read_json(url_raziskovalni_programi_geol)\n",
    "raziskovalni_programi_geol[\"FIL_DESCR\"] = \"Geologija\"\n",
    "raziskovalni_programi_geo = raziskovalni_programi_geod.append(\n",
    "    raziskovalni_programi_geol\n",
    ")\n",
    "raziskovalni_programi_geo[\"MSTID_PRG\"] = raziskovalni_programi_geo[\"MSTID_PRG\"].map(\n",
    "    {\"P\": \"programi\", \"I\": \"infrastrukturni programi\"}\n",
    ")\n",
    "raziskovalni_programi_geo[\"MSTID_SCIENCE\"] = raziskovalni_programi_geo[\n",
    "    \"MSTID_SCIENCE\"\n",
    "].map(\n",
    "    {\n",
    "        1: \"Naravoslovje\",\n",
    "        2: \"Tehnika\",\n",
    "        3: \"Medicina\",\n",
    "        4: \"Biotehnika\",\n",
    "        5: \"Družboslovje\",\n",
    "        6: \"Humanistika\",\n",
    "        7: \"Interdisciplinarne raziskave\",\n",
    "    }\n",
    ")\n",
    "raziskovalni_programi_geo.head()"
   ]
  },
  {
   "cell_type": "code",
   "execution_count": null,
   "metadata": {},
   "outputs": [],
   "source": [
    "raziskovalni_programi_geo = raziskovalni_programi_geo.groupby(\n",
    "    [\"FIL_DESCR\", \"MSTID_SCIENCE\"]\n",
    ")[\"FIL_DESCR\"].count()"
   ]
  },
  {
   "cell_type": "code",
   "execution_count": null,
   "metadata": {},
   "outputs": [],
   "source": [
    "fig, ax = plt.subplots()\n",
    "\n",
    "ax = raziskovalni_programi_geo.plot(\n",
    "    kind=\"bar\",\n",
    "    title=\"Raziskovalni programi\",\n",
    "    figsize=(15, 10),\n",
    "    legend=False,\n",
    "    fontsize=14,\n",
    ")\n",
    "for i, v in enumerate(raziskovalni_programi_geo):\n",
    "    ax.text(i, v + 0.02, str(v), fontsize=12)\n",
    "ax.xaxis.label.set_visible(False)\n",
    "plt.show()"
   ]
  }
 ],
 "metadata": {
  "kernelspec": {
   "display_name": "Python 3",
   "language": "python",
   "name": "python3"
  },
  "language_info": {
   "codemirror_mode": {
    "name": "ipython",
    "version": 3
   },
   "file_extension": ".py",
   "mimetype": "text/x-python",
   "name": "python",
   "nbconvert_exporter": "python",
   "pygments_lexer": "ipython3",
   "version": "3.7.8"
  }
 },
 "nbformat": 4,
 "nbformat_minor": 4
}
