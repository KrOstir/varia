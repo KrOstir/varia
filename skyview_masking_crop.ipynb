{
 "cells": [
  {
   "cell_type": "markdown",
   "metadata": {},
   "source": [
    "# Skyview croping\n",
    "\n",
    "Crop all skyview images. Workflow:\n",
    "\n",
    "1. Open images\n",
    "2. Crop to use only sky\n",
    "3. Save images"
   ]
  },
  {
   "cell_type": "code",
   "execution_count": null,
   "metadata": {
    "pycharm": {
     "is_executing": false
    }
   },
   "outputs": [],
   "source": [
    "# Libraries\n",
    "from PIL import Image\n",
    "import glob\n",
    "import os"
   ]
  },
  {
   "cell_type": "code",
   "execution_count": null,
   "metadata": {
    "pycharm": {
     "is_executing": false
    }
   },
   "outputs": [],
   "source": [
    "# Original photos locations\n",
    "photo_folder_original = \"./SkyView/originali/\"\n",
    "# Cropped photo location\n",
    "photo_folder = \"./SkyView/\""
   ]
  },
  {
   "cell_type": "code",
   "execution_count": null,
   "metadata": {
    "pycharm": {
     "is_executing": false
    }
   },
   "outputs": [],
   "source": [
    "photos = glob.glob(photo_folder_original + \"*.jpg\")\n",
    "photos"
   ]
  },
  {
   "cell_type": "code",
   "execution_count": null,
   "metadata": {
    "pycharm": {
     "is_executing": false
    }
   },
   "outputs": [],
   "source": [
    "x_crop = Image.open(photos[0]).size[0] // 2\n",
    "y_crop = Image.open(photos[0]).size[1]\n",
    "x_crop, y_crop"
   ]
  },
  {
   "cell_type": "code",
   "execution_count": null,
   "metadata": {
    "pycharm": {
     "is_executing": false
    }
   },
   "outputs": [],
   "source": [
    "for photo in photos:\n",
    "    name = os.path.basename(photo)\n",
    "    print(\"Cropping\", name)\n",
    "    image_obj = Image.open(photo)\n",
    "    cropped_image = image_obj.crop((0, 0, x_crop, y_crop))\n",
    "    cropped_image.save(photo_folder + name)"
   ]
  }
 ],
 "metadata": {
  "kernelspec": {
   "display_name": "Python 3",
   "language": "python",
   "name": "python3"
  },
  "language_info": {
   "codemirror_mode": {
    "name": "ipython",
    "version": 3
   },
   "file_extension": ".py",
   "mimetype": "text/x-python",
   "name": "python",
   "nbconvert_exporter": "python",
   "pygments_lexer": "ipython3",
   "version": "3.7.3"
  }
 },
 "nbformat": 4,
 "nbformat_minor": 2
}
