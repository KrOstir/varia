{
 "cells": [
  {
   "cell_type": "markdown",
   "metadata": {},
   "source": [
    "# Analiza podatkov sistema BicikeLJ"
   ]
  },
  {
   "cell_type": "code",
   "execution_count": 1,
   "metadata": {
    "collapsed": false
   },
   "outputs": [],
   "source": [
    "# Matplotlib inline\n",
    "%matplotlib inline\n",
    "# Imports\n",
    "from urllib.request import urlopen\n",
    "import json\n",
    "import numpy as np\n",
    "import pandas as pd\n",
    "import datetime\n",
    "import matplotlib.pyplot as plt\n",
    "from matplotlib.backends.backend_pdf import PdfPages\n",
    "from pylab import *\n",
    "# Figure size and style\n",
    "plt.rcParams['figure.figsize'] = (15, 10)\n",
    "#plt.style.use('ggplot')"
   ]
  },
  {
   "cell_type": "markdown",
   "metadata": {},
   "source": [
    "Branje podatkov po protokolih, opisanih v: https://developer.jcdecaux.com/#/opendata/vls?page=getstarted\n",
    "\n",
    "Zanimiva je diplomska naloga: http://geo.ff.uni-lj.si/pisnadela/pdfs/zaksem_201409_ziga_jamnik.pdf"
   ]
  },
  {
   "cell_type": "code",
   "execution_count": 2,
   "metadata": {
    "collapsed": true
   },
   "outputs": [],
   "source": [
    "# Parameters\n",
    "# Bycicle, station dynamic infos\n",
    "station_data_url = \"https://api.jcdecaux.com/vls/v1/stations?contract=Ljubljana&apiKey=0a494317d60d3d556d0755600b078ea6b26af90f\"\n",
    "# Station info dataframe\n",
    "station_info_fn = \"bicikelj_station_info.csv\"\n",
    "station_data_fn = \"bicikelj_station_data_1701.csv\""
   ]
  },
  {
   "cell_type": "markdown",
   "metadata": {},
   "source": [
    "## Station info"
   ]
  },
  {
   "cell_type": "code",
   "execution_count": 3,
   "metadata": {
    "collapsed": false
   },
   "outputs": [],
   "source": [
    "response = urlopen(station_data_url)\n",
    "if response.code == 200:\n",
    "    data = response.read().decode('utf-8')\n",
    "else:\n",
    "    print(\"Wrong response from \", station_data_url)"
   ]
  },
  {
   "cell_type": "code",
   "execution_count": 4,
   "metadata": {
    "collapsed": false
   },
   "outputs": [],
   "source": [
    "station_info_json = json.loads(data)"
   ]
  },
  {
   "cell_type": "code",
   "execution_count": 5,
   "metadata": {
    "collapsed": false
   },
   "outputs": [],
   "source": [
    "station_info = pd.DataFrame(station_info_json).sort_values([\"number\"]).reset_index(drop=True)"
   ]
  },
  {
   "cell_type": "code",
   "execution_count": 6,
   "metadata": {
    "collapsed": false
   },
   "outputs": [
    {
     "data": {
      "text/plain": [
       "Index(['address', 'available_bike_stands', 'available_bikes', 'banking',\n",
       "       'bike_stands', 'bonus', 'contract_name', 'last_update', 'name',\n",
       "       'number', 'position', 'status'],\n",
       "      dtype='object')"
      ]
     },
     "execution_count": 6,
     "metadata": {},
     "output_type": "execute_result"
    }
   ],
   "source": [
    "station_info.columns"
   ]
  },
  {
   "cell_type": "code",
   "execution_count": 7,
   "metadata": {
    "collapsed": true
   },
   "outputs": [],
   "source": [
    "station_info = station_info[['address', 'banking', 'bike_stands', 'bonus', 'name',\n",
    "                             'number', 'position', 'status']].copy()"
   ]
  },
  {
   "cell_type": "code",
   "execution_count": 8,
   "metadata": {
    "collapsed": false
   },
   "outputs": [
    {
     "data": {
      "text/html": [
       "<div>\n",
       "<table border=\"1\" class=\"dataframe\">\n",
       "  <thead>\n",
       "    <tr style=\"text-align: right;\">\n",
       "      <th></th>\n",
       "      <th>address</th>\n",
       "      <th>banking</th>\n",
       "      <th>bike_stands</th>\n",
       "      <th>bonus</th>\n",
       "      <th>name</th>\n",
       "      <th>number</th>\n",
       "      <th>status</th>\n",
       "      <th>lat</th>\n",
       "      <th>lng</th>\n",
       "    </tr>\n",
       "  </thead>\n",
       "  <tbody>\n",
       "    <tr>\n",
       "      <th>0</th>\n",
       "      <td>Prešernov trg 6</td>\n",
       "      <td>False</td>\n",
       "      <td>20</td>\n",
       "      <td>False</td>\n",
       "      <td>PREŠERNOV TRG-PETKOVŠKOVO NABREŽJE</td>\n",
       "      <td>1</td>\n",
       "      <td>OPEN</td>\n",
       "      <td>46.051367</td>\n",
       "      <td>14.506542</td>\n",
       "    </tr>\n",
       "    <tr>\n",
       "      <th>1</th>\n",
       "      <td>Pogačarjev trg 3</td>\n",
       "      <td>False</td>\n",
       "      <td>18</td>\n",
       "      <td>False</td>\n",
       "      <td>POGAČARJEV TRG-TRŽNICA</td>\n",
       "      <td>2</td>\n",
       "      <td>OPEN</td>\n",
       "      <td>46.051093</td>\n",
       "      <td>14.507186</td>\n",
       "    </tr>\n",
       "    <tr>\n",
       "      <th>2</th>\n",
       "      <td>Kongresni trg 3</td>\n",
       "      <td>False</td>\n",
       "      <td>20</td>\n",
       "      <td>False</td>\n",
       "      <td>KONGRESNI TRG-ŠUBIČEVA ULICA</td>\n",
       "      <td>3</td>\n",
       "      <td>OPEN</td>\n",
       "      <td>46.050388</td>\n",
       "      <td>14.504623</td>\n",
       "    </tr>\n",
       "    <tr>\n",
       "      <th>3</th>\n",
       "      <td>Cankarjeva cesta 1</td>\n",
       "      <td>False</td>\n",
       "      <td>26</td>\n",
       "      <td>False</td>\n",
       "      <td>CANKARJEVA UL.-NAMA</td>\n",
       "      <td>4</td>\n",
       "      <td>OPEN</td>\n",
       "      <td>46.052431</td>\n",
       "      <td>14.503257</td>\n",
       "    </tr>\n",
       "    <tr>\n",
       "      <th>4</th>\n",
       "      <td>Breg 20</td>\n",
       "      <td>False</td>\n",
       "      <td>20</td>\n",
       "      <td>False</td>\n",
       "      <td>BREG</td>\n",
       "      <td>5</td>\n",
       "      <td>OPEN</td>\n",
       "      <td>46.046498</td>\n",
       "      <td>14.505148</td>\n",
       "    </tr>\n",
       "  </tbody>\n",
       "</table>\n",
       "</div>"
      ],
      "text/plain": [
       "              address banking  bike_stands  bonus  \\\n",
       "0     Prešernov trg 6   False           20  False   \n",
       "1    Pogačarjev trg 3   False           18  False   \n",
       "2     Kongresni trg 3   False           20  False   \n",
       "3  Cankarjeva cesta 1   False           26  False   \n",
       "4             Breg 20   False           20  False   \n",
       "\n",
       "                                 name  number status        lat        lng  \n",
       "0  PREŠERNOV TRG-PETKOVŠKOVO NABREŽJE       1   OPEN  46.051367  14.506542  \n",
       "1              POGAČARJEV TRG-TRŽNICA       2   OPEN  46.051093  14.507186  \n",
       "2        KONGRESNI TRG-ŠUBIČEVA ULICA       3   OPEN  46.050388  14.504623  \n",
       "3                 CANKARJEVA UL.-NAMA       4   OPEN  46.052431  14.503257  \n",
       "4                                BREG       5   OPEN  46.046498  14.505148  "
      ]
     },
     "execution_count": 8,
     "metadata": {},
     "output_type": "execute_result"
    }
   ],
   "source": [
    "station_info = pd.concat([station_info.drop(['position'], axis=1), station_info[\"position\"].apply(pd.Series)], axis=1)\n",
    "station_info.head()"
   ]
  },
  {
   "cell_type": "code",
   "execution_count": 9,
   "metadata": {
    "collapsed": false
   },
   "outputs": [],
   "source": [
    "# Save to CSV\n",
    "station_info.to_csv(station_info_fn, index=True)"
   ]
  },
  {
   "cell_type": "code",
   "execution_count": 10,
   "metadata": {
    "collapsed": false
   },
   "outputs": [],
   "source": [
    "station_info_s = station_info[[\"bike_stands\", \"name\", \"number\"]]\n",
    "station_info_s = station_info_s.set_index(\"number\")"
   ]
  },
  {
   "cell_type": "code",
   "execution_count": 11,
   "metadata": {
    "collapsed": false
   },
   "outputs": [
    {
     "data": {
      "text/html": [
       "<div>\n",
       "<table border=\"1\" class=\"dataframe\">\n",
       "  <thead>\n",
       "    <tr style=\"text-align: right;\">\n",
       "      <th></th>\n",
       "      <th>bike_stands</th>\n",
       "      <th>name</th>\n",
       "    </tr>\n",
       "    <tr>\n",
       "      <th>number</th>\n",
       "      <th></th>\n",
       "      <th></th>\n",
       "    </tr>\n",
       "  </thead>\n",
       "  <tbody>\n",
       "    <tr>\n",
       "      <th>1</th>\n",
       "      <td>20</td>\n",
       "      <td>PREŠERNOV TRG-PETKOVŠKOVO NABREŽJE</td>\n",
       "    </tr>\n",
       "    <tr>\n",
       "      <th>2</th>\n",
       "      <td>18</td>\n",
       "      <td>POGAČARJEV TRG-TRŽNICA</td>\n",
       "    </tr>\n",
       "    <tr>\n",
       "      <th>3</th>\n",
       "      <td>20</td>\n",
       "      <td>KONGRESNI TRG-ŠUBIČEVA ULICA</td>\n",
       "    </tr>\n",
       "    <tr>\n",
       "      <th>4</th>\n",
       "      <td>26</td>\n",
       "      <td>CANKARJEVA UL.-NAMA</td>\n",
       "    </tr>\n",
       "    <tr>\n",
       "      <th>5</th>\n",
       "      <td>20</td>\n",
       "      <td>BREG</td>\n",
       "    </tr>\n",
       "    <tr>\n",
       "      <th>6</th>\n",
       "      <td>18</td>\n",
       "      <td>GRUDNOVO NABREŽJE-KARLOVŠKA C.</td>\n",
       "    </tr>\n",
       "    <tr>\n",
       "      <th>7</th>\n",
       "      <td>18</td>\n",
       "      <td>MIKLOŠIČEV PARK</td>\n",
       "    </tr>\n",
       "    <tr>\n",
       "      <th>8</th>\n",
       "      <td>22</td>\n",
       "      <td>BAVARSKI DVOR</td>\n",
       "    </tr>\n",
       "    <tr>\n",
       "      <th>9</th>\n",
       "      <td>26</td>\n",
       "      <td>TRG OF-KOLODVORSKA UL.</td>\n",
       "    </tr>\n",
       "    <tr>\n",
       "      <th>10</th>\n",
       "      <td>18</td>\n",
       "      <td>MASARYKOVA DDC</td>\n",
       "    </tr>\n",
       "    <tr>\n",
       "      <th>11</th>\n",
       "      <td>20</td>\n",
       "      <td>VILHARJEVA CESTA</td>\n",
       "    </tr>\n",
       "    <tr>\n",
       "      <th>12</th>\n",
       "      <td>20</td>\n",
       "      <td>PARK NAVJE-ŽELEZNA CESTA</td>\n",
       "    </tr>\n",
       "    <tr>\n",
       "      <th>13</th>\n",
       "      <td>16</td>\n",
       "      <td>TRG MDB</td>\n",
       "    </tr>\n",
       "    <tr>\n",
       "      <th>14</th>\n",
       "      <td>20</td>\n",
       "      <td>PARKIRIŠČE NUK 2-FF</td>\n",
       "    </tr>\n",
       "    <tr>\n",
       "      <th>15</th>\n",
       "      <td>18</td>\n",
       "      <td>AMBROŽEV TRG</td>\n",
       "    </tr>\n",
       "    <tr>\n",
       "      <th>16</th>\n",
       "      <td>24</td>\n",
       "      <td>GH ŠENTPETER-NJEGOŠEVA C.</td>\n",
       "    </tr>\n",
       "    <tr>\n",
       "      <th>17</th>\n",
       "      <td>18</td>\n",
       "      <td>ILIRSKA ULICA</td>\n",
       "    </tr>\n",
       "    <tr>\n",
       "      <th>18</th>\n",
       "      <td>20</td>\n",
       "      <td>TRŽAŠKA C.-ILIRIJA</td>\n",
       "    </tr>\n",
       "    <tr>\n",
       "      <th>19</th>\n",
       "      <td>20</td>\n",
       "      <td>TIVOLI</td>\n",
       "    </tr>\n",
       "    <tr>\n",
       "      <th>20</th>\n",
       "      <td>14</td>\n",
       "      <td>STARA CERKEV</td>\n",
       "    </tr>\n",
       "    <tr>\n",
       "      <th>21</th>\n",
       "      <td>26</td>\n",
       "      <td>KINO ŠIŠKA</td>\n",
       "    </tr>\n",
       "    <tr>\n",
       "      <th>22</th>\n",
       "      <td>18</td>\n",
       "      <td>ŠPICA</td>\n",
       "    </tr>\n",
       "    <tr>\n",
       "      <th>23</th>\n",
       "      <td>20</td>\n",
       "      <td>BARJANSKA C.-CENTER STAREJŠIH TRNOVO</td>\n",
       "    </tr>\n",
       "    <tr>\n",
       "      <th>24</th>\n",
       "      <td>16</td>\n",
       "      <td>ZALOŠKA C.-GRABLOVIČEVA C.</td>\n",
       "    </tr>\n",
       "    <tr>\n",
       "      <th>25</th>\n",
       "      <td>21</td>\n",
       "      <td>TRŽNICA MOSTE</td>\n",
       "    </tr>\n",
       "    <tr>\n",
       "      <th>26</th>\n",
       "      <td>18</td>\n",
       "      <td>ROŽNA DOLINA-ŠKRABČEVA UL.</td>\n",
       "    </tr>\n",
       "    <tr>\n",
       "      <th>27</th>\n",
       "      <td>20</td>\n",
       "      <td>DUNAJSKA C.-PS PETROL</td>\n",
       "    </tr>\n",
       "    <tr>\n",
       "      <th>28</th>\n",
       "      <td>18</td>\n",
       "      <td>PLEČNIKOV STADION</td>\n",
       "    </tr>\n",
       "    <tr>\n",
       "      <th>29</th>\n",
       "      <td>18</td>\n",
       "      <td>DUNAJSKA C.-PS MERCATOR</td>\n",
       "    </tr>\n",
       "    <tr>\n",
       "      <th>30</th>\n",
       "      <td>22</td>\n",
       "      <td>VOJKOVA C.-BOŽIČEVA C.</td>\n",
       "    </tr>\n",
       "    <tr>\n",
       "      <th>31</th>\n",
       "      <td>26</td>\n",
       "      <td>ŠPORTNI CENTER STOŽICE</td>\n",
       "    </tr>\n",
       "    <tr>\n",
       "      <th>32</th>\n",
       "      <td>8</td>\n",
       "      <td>KOPRSKA ULICA</td>\n",
       "    </tr>\n",
       "    <tr>\n",
       "      <th>33</th>\n",
       "      <td>22</td>\n",
       "      <td>MERCATOR CENTER ŠIŠKA</td>\n",
       "    </tr>\n",
       "    <tr>\n",
       "      <th>34</th>\n",
       "      <td>20</td>\n",
       "      <td>CITYPARK</td>\n",
       "    </tr>\n",
       "    <tr>\n",
       "      <th>35</th>\n",
       "      <td>20</td>\n",
       "      <td>BTC CITY - DVORANA A</td>\n",
       "    </tr>\n",
       "    <tr>\n",
       "      <th>36</th>\n",
       "      <td>20</td>\n",
       "      <td>BTC CITY - ATLANTIS</td>\n",
       "    </tr>\n",
       "    <tr>\n",
       "      <th>37</th>\n",
       "      <td>20</td>\n",
       "      <td>TRNOVO</td>\n",
       "    </tr>\n",
       "    <tr>\n",
       "      <th>38</th>\n",
       "      <td>20</td>\n",
       "      <td>P+R BARJE</td>\n",
       "    </tr>\n",
       "  </tbody>\n",
       "</table>\n",
       "</div>"
      ],
      "text/plain": [
       "        bike_stands                                  name\n",
       "number                                                   \n",
       "1                20    PREŠERNOV TRG-PETKOVŠKOVO NABREŽJE\n",
       "2                18                POGAČARJEV TRG-TRŽNICA\n",
       "3                20          KONGRESNI TRG-ŠUBIČEVA ULICA\n",
       "4                26                   CANKARJEVA UL.-NAMA\n",
       "5                20                                  BREG\n",
       "6                18        GRUDNOVO NABREŽJE-KARLOVŠKA C.\n",
       "7                18                       MIKLOŠIČEV PARK\n",
       "8                22                         BAVARSKI DVOR\n",
       "9                26                TRG OF-KOLODVORSKA UL.\n",
       "10               18                        MASARYKOVA DDC\n",
       "11               20                      VILHARJEVA CESTA\n",
       "12               20              PARK NAVJE-ŽELEZNA CESTA\n",
       "13               16                               TRG MDB\n",
       "14               20                   PARKIRIŠČE NUK 2-FF\n",
       "15               18                          AMBROŽEV TRG\n",
       "16               24             GH ŠENTPETER-NJEGOŠEVA C.\n",
       "17               18                         ILIRSKA ULICA\n",
       "18               20                    TRŽAŠKA C.-ILIRIJA\n",
       "19               20                                TIVOLI\n",
       "20               14                          STARA CERKEV\n",
       "21               26                            KINO ŠIŠKA\n",
       "22               18                                 ŠPICA\n",
       "23               20  BARJANSKA C.-CENTER STAREJŠIH TRNOVO\n",
       "24               16            ZALOŠKA C.-GRABLOVIČEVA C.\n",
       "25               21                         TRŽNICA MOSTE\n",
       "26               18            ROŽNA DOLINA-ŠKRABČEVA UL.\n",
       "27               20                 DUNAJSKA C.-PS PETROL\n",
       "28               18                     PLEČNIKOV STADION\n",
       "29               18               DUNAJSKA C.-PS MERCATOR\n",
       "30               22                VOJKOVA C.-BOŽIČEVA C.\n",
       "31               26                ŠPORTNI CENTER STOŽICE\n",
       "32                8                         KOPRSKA ULICA\n",
       "33               22                 MERCATOR CENTER ŠIŠKA\n",
       "34               20                              CITYPARK\n",
       "35               20                  BTC CITY - DVORANA A\n",
       "36               20                   BTC CITY - ATLANTIS\n",
       "37               20                                TRNOVO\n",
       "38               20                             P+R BARJE"
      ]
     },
     "execution_count": 11,
     "metadata": {},
     "output_type": "execute_result"
    }
   ],
   "source": [
    "station_info_s"
   ]
  },
  {
   "cell_type": "markdown",
   "metadata": {},
   "source": [
    "## Branje podatkov o postajah"
   ]
  },
  {
   "cell_type": "code",
   "execution_count": 12,
   "metadata": {
    "collapsed": true
   },
   "outputs": [],
   "source": [
    "station_data_full = pd.read_csv(station_data_fn, index_col=\"last_update_time\", parse_dates=True)"
   ]
  },
  {
   "cell_type": "code",
   "execution_count": 13,
   "metadata": {
    "collapsed": false
   },
   "outputs": [
    {
     "data": {
      "text/html": [
       "<div>\n",
       "<table border=\"1\" class=\"dataframe\">\n",
       "  <thead>\n",
       "    <tr style=\"text-align: right;\">\n",
       "      <th></th>\n",
       "      <th>available_bike_stands</th>\n",
       "      <th>available_bikes</th>\n",
       "      <th>bike_stands</th>\n",
       "      <th>number</th>\n",
       "    </tr>\n",
       "  </thead>\n",
       "  <tbody>\n",
       "    <tr>\n",
       "      <th>count</th>\n",
       "      <td>513.000000</td>\n",
       "      <td>513.000000</td>\n",
       "      <td>513.000000</td>\n",
       "      <td>513.000000</td>\n",
       "    </tr>\n",
       "    <tr>\n",
       "      <th>mean</th>\n",
       "      <td>11.840156</td>\n",
       "      <td>7.649123</td>\n",
       "      <td>20.165692</td>\n",
       "      <td>17.099415</td>\n",
       "    </tr>\n",
       "    <tr>\n",
       "      <th>std</th>\n",
       "      <td>5.158597</td>\n",
       "      <td>4.992737</td>\n",
       "      <td>2.888865</td>\n",
       "      <td>10.088856</td>\n",
       "    </tr>\n",
       "    <tr>\n",
       "      <th>min</th>\n",
       "      <td>0.000000</td>\n",
       "      <td>0.000000</td>\n",
       "      <td>8.000000</td>\n",
       "      <td>1.000000</td>\n",
       "    </tr>\n",
       "    <tr>\n",
       "      <th>25%</th>\n",
       "      <td>8.000000</td>\n",
       "      <td>4.000000</td>\n",
       "      <td>18.000000</td>\n",
       "      <td>9.000000</td>\n",
       "    </tr>\n",
       "    <tr>\n",
       "      <th>50%</th>\n",
       "      <td>12.000000</td>\n",
       "      <td>7.000000</td>\n",
       "      <td>20.000000</td>\n",
       "      <td>17.000000</td>\n",
       "    </tr>\n",
       "    <tr>\n",
       "      <th>75%</th>\n",
       "      <td>16.000000</td>\n",
       "      <td>11.000000</td>\n",
       "      <td>20.000000</td>\n",
       "      <td>25.000000</td>\n",
       "    </tr>\n",
       "    <tr>\n",
       "      <th>max</th>\n",
       "      <td>26.000000</td>\n",
       "      <td>22.000000</td>\n",
       "      <td>26.000000</td>\n",
       "      <td>38.000000</td>\n",
       "    </tr>\n",
       "  </tbody>\n",
       "</table>\n",
       "</div>"
      ],
      "text/plain": [
       "       available_bike_stands  available_bikes  bike_stands      number\n",
       "count             513.000000       513.000000   513.000000  513.000000\n",
       "mean               11.840156         7.649123    20.165692   17.099415\n",
       "std                 5.158597         4.992737     2.888865   10.088856\n",
       "min                 0.000000         0.000000     8.000000    1.000000\n",
       "25%                 8.000000         4.000000    18.000000    9.000000\n",
       "50%                12.000000         7.000000    20.000000   17.000000\n",
       "75%                16.000000        11.000000    20.000000   25.000000\n",
       "max                26.000000        22.000000    26.000000   38.000000"
      ]
     },
     "execution_count": 13,
     "metadata": {},
     "output_type": "execute_result"
    }
   ],
   "source": [
    "station_data_full.describe()"
   ]
  },
  {
   "cell_type": "code",
   "execution_count": 14,
   "metadata": {
    "collapsed": false
   },
   "outputs": [
    {
     "data": {
      "text/plain": [
       "Timestamp('2017-01-23 13:29:24')"
      ]
     },
     "execution_count": 14,
     "metadata": {},
     "output_type": "execute_result"
    }
   ],
   "source": [
    "station_data_full.index.min()"
   ]
  },
  {
   "cell_type": "code",
   "execution_count": 15,
   "metadata": {
    "collapsed": false
   },
   "outputs": [
    {
     "data": {
      "text/plain": [
       "Timestamp('2017-01-25 08:38:09')"
      ]
     },
     "execution_count": 15,
     "metadata": {},
     "output_type": "execute_result"
    }
   ],
   "source": [
    "station_data_full.index.max()"
   ]
  },
  {
   "cell_type": "code",
   "execution_count": 16,
   "metadata": {
    "collapsed": false
   },
   "outputs": [
    {
     "data": {
      "text/html": [
       "<div>\n",
       "<table border=\"1\" class=\"dataframe\">\n",
       "  <thead>\n",
       "    <tr style=\"text-align: right;\">\n",
       "      <th></th>\n",
       "      <th>available_bike_stands</th>\n",
       "      <th>available_bikes</th>\n",
       "      <th>bike_stands</th>\n",
       "      <th>number</th>\n",
       "    </tr>\n",
       "    <tr>\n",
       "      <th>last_update_time</th>\n",
       "      <th></th>\n",
       "      <th></th>\n",
       "      <th></th>\n",
       "      <th></th>\n",
       "    </tr>\n",
       "  </thead>\n",
       "  <tbody>\n",
       "    <tr>\n",
       "      <th>2017-01-23 13:29:24</th>\n",
       "      <td>9</td>\n",
       "      <td>11</td>\n",
       "      <td>20</td>\n",
       "      <td>36</td>\n",
       "    </tr>\n",
       "    <tr>\n",
       "      <th>2017-01-23 13:29:41</th>\n",
       "      <td>13</td>\n",
       "      <td>5</td>\n",
       "      <td>18</td>\n",
       "      <td>6</td>\n",
       "    </tr>\n",
       "    <tr>\n",
       "      <th>2017-01-23 13:30:19</th>\n",
       "      <td>14</td>\n",
       "      <td>4</td>\n",
       "      <td>18</td>\n",
       "      <td>22</td>\n",
       "    </tr>\n",
       "    <tr>\n",
       "      <th>2017-01-23 13:30:21</th>\n",
       "      <td>4</td>\n",
       "      <td>12</td>\n",
       "      <td>16</td>\n",
       "      <td>13</td>\n",
       "    </tr>\n",
       "    <tr>\n",
       "      <th>2017-01-23 13:30:23</th>\n",
       "      <td>12</td>\n",
       "      <td>8</td>\n",
       "      <td>20</td>\n",
       "      <td>5</td>\n",
       "    </tr>\n",
       "  </tbody>\n",
       "</table>\n",
       "</div>"
      ],
      "text/plain": [
       "                     available_bike_stands  available_bikes  bike_stands  \\\n",
       "last_update_time                                                           \n",
       "2017-01-23 13:29:24                      9               11           20   \n",
       "2017-01-23 13:29:41                     13                5           18   \n",
       "2017-01-23 13:30:19                     14                4           18   \n",
       "2017-01-23 13:30:21                      4               12           16   \n",
       "2017-01-23 13:30:23                     12                8           20   \n",
       "\n",
       "                     number  \n",
       "last_update_time             \n",
       "2017-01-23 13:29:24      36  \n",
       "2017-01-23 13:29:41       6  \n",
       "2017-01-23 13:30:19      22  \n",
       "2017-01-23 13:30:21      13  \n",
       "2017-01-23 13:30:23       5  "
      ]
     },
     "execution_count": 16,
     "metadata": {},
     "output_type": "execute_result"
    }
   ],
   "source": [
    "station_data_full.head()"
   ]
  },
  {
   "cell_type": "code",
   "execution_count": 17,
   "metadata": {
    "collapsed": false
   },
   "outputs": [],
   "source": [
    "station_data_available = station_data_full.pivot(columns='number', values='available_bike_stands')"
   ]
  },
  {
   "cell_type": "code",
   "execution_count": 18,
   "metadata": {
    "collapsed": false
   },
   "outputs": [
    {
     "data": {
      "text/html": [
       "<div>\n",
       "<table border=\"1\" class=\"dataframe\">\n",
       "  <thead>\n",
       "    <tr style=\"text-align: right;\">\n",
       "      <th>number</th>\n",
       "      <th>1</th>\n",
       "      <th>2</th>\n",
       "      <th>3</th>\n",
       "      <th>4</th>\n",
       "      <th>5</th>\n",
       "      <th>6</th>\n",
       "      <th>7</th>\n",
       "      <th>8</th>\n",
       "      <th>9</th>\n",
       "      <th>10</th>\n",
       "      <th>...</th>\n",
       "      <th>29</th>\n",
       "      <th>30</th>\n",
       "      <th>31</th>\n",
       "      <th>32</th>\n",
       "      <th>33</th>\n",
       "      <th>34</th>\n",
       "      <th>35</th>\n",
       "      <th>36</th>\n",
       "      <th>37</th>\n",
       "      <th>38</th>\n",
       "    </tr>\n",
       "  </thead>\n",
       "  <tbody>\n",
       "    <tr>\n",
       "      <th>0</th>\n",
       "      <td>NaN</td>\n",
       "      <td>NaN</td>\n",
       "      <td>16.5</td>\n",
       "      <td>NaN</td>\n",
       "      <td>NaN</td>\n",
       "      <td>NaN</td>\n",
       "      <td>NaN</td>\n",
       "      <td>NaN</td>\n",
       "      <td>NaN</td>\n",
       "      <td>NaN</td>\n",
       "      <td>...</td>\n",
       "      <td>NaN</td>\n",
       "      <td>NaN</td>\n",
       "      <td>NaN</td>\n",
       "      <td>NaN</td>\n",
       "      <td>NaN</td>\n",
       "      <td>NaN</td>\n",
       "      <td>NaN</td>\n",
       "      <td>NaN</td>\n",
       "      <td>NaN</td>\n",
       "      <td>NaN</td>\n",
       "    </tr>\n",
       "    <tr>\n",
       "      <th>1</th>\n",
       "      <td>NaN</td>\n",
       "      <td>NaN</td>\n",
       "      <td>NaN</td>\n",
       "      <td>NaN</td>\n",
       "      <td>NaN</td>\n",
       "      <td>NaN</td>\n",
       "      <td>NaN</td>\n",
       "      <td>NaN</td>\n",
       "      <td>NaN</td>\n",
       "      <td>NaN</td>\n",
       "      <td>...</td>\n",
       "      <td>NaN</td>\n",
       "      <td>9.5</td>\n",
       "      <td>NaN</td>\n",
       "      <td>NaN</td>\n",
       "      <td>NaN</td>\n",
       "      <td>NaN</td>\n",
       "      <td>NaN</td>\n",
       "      <td>NaN</td>\n",
       "      <td>NaN</td>\n",
       "      <td>NaN</td>\n",
       "    </tr>\n",
       "    <tr>\n",
       "      <th>6</th>\n",
       "      <td>NaN</td>\n",
       "      <td>15.0</td>\n",
       "      <td>NaN</td>\n",
       "      <td>18.0</td>\n",
       "      <td>NaN</td>\n",
       "      <td>13.0</td>\n",
       "      <td>14.0</td>\n",
       "      <td>NaN</td>\n",
       "      <td>25.0</td>\n",
       "      <td>NaN</td>\n",
       "      <td>...</td>\n",
       "      <td>NaN</td>\n",
       "      <td>NaN</td>\n",
       "      <td>NaN</td>\n",
       "      <td>NaN</td>\n",
       "      <td>NaN</td>\n",
       "      <td>9.0</td>\n",
       "      <td>NaN</td>\n",
       "      <td>NaN</td>\n",
       "      <td>NaN</td>\n",
       "      <td>NaN</td>\n",
       "    </tr>\n",
       "    <tr>\n",
       "      <th>7</th>\n",
       "      <td>NaN</td>\n",
       "      <td>14.0</td>\n",
       "      <td>11.0</td>\n",
       "      <td>NaN</td>\n",
       "      <td>NaN</td>\n",
       "      <td>15.0</td>\n",
       "      <td>11.0</td>\n",
       "      <td>17.0</td>\n",
       "      <td>NaN</td>\n",
       "      <td>NaN</td>\n",
       "      <td>...</td>\n",
       "      <td>NaN</td>\n",
       "      <td>12.0</td>\n",
       "      <td>NaN</td>\n",
       "      <td>NaN</td>\n",
       "      <td>12.0</td>\n",
       "      <td>NaN</td>\n",
       "      <td>NaN</td>\n",
       "      <td>NaN</td>\n",
       "      <td>19.0</td>\n",
       "      <td>7.0</td>\n",
       "    </tr>\n",
       "    <tr>\n",
       "      <th>8</th>\n",
       "      <td>NaN</td>\n",
       "      <td>13.0</td>\n",
       "      <td>NaN</td>\n",
       "      <td>NaN</td>\n",
       "      <td>NaN</td>\n",
       "      <td>17.0</td>\n",
       "      <td>NaN</td>\n",
       "      <td>13.5</td>\n",
       "      <td>25.0</td>\n",
       "      <td>NaN</td>\n",
       "      <td>...</td>\n",
       "      <td>NaN</td>\n",
       "      <td>NaN</td>\n",
       "      <td>NaN</td>\n",
       "      <td>NaN</td>\n",
       "      <td>13.0</td>\n",
       "      <td>10.0</td>\n",
       "      <td>NaN</td>\n",
       "      <td>NaN</td>\n",
       "      <td>13.0</td>\n",
       "      <td>NaN</td>\n",
       "    </tr>\n",
       "  </tbody>\n",
       "</table>\n",
       "<p>5 rows × 38 columns</p>\n",
       "</div>"
      ],
      "text/plain": [
       "number  1     2     3     4   5     6     7     8     9   10 ...   29    30  \\\n",
       "0      NaN   NaN  16.5   NaN NaN   NaN   NaN   NaN   NaN NaN ...  NaN   NaN   \n",
       "1      NaN   NaN   NaN   NaN NaN   NaN   NaN   NaN   NaN NaN ...  NaN   9.5   \n",
       "6      NaN  15.0   NaN  18.0 NaN  13.0  14.0   NaN  25.0 NaN ...  NaN   NaN   \n",
       "7      NaN  14.0  11.0   NaN NaN  15.0  11.0  17.0   NaN NaN ...  NaN  12.0   \n",
       "8      NaN  13.0   NaN   NaN NaN  17.0   NaN  13.5  25.0 NaN ...  NaN   NaN   \n",
       "\n",
       "number  31  32    33    34  35  36    37   38  \n",
       "0      NaN NaN   NaN   NaN NaN NaN   NaN  NaN  \n",
       "1      NaN NaN   NaN   NaN NaN NaN   NaN  NaN  \n",
       "6      NaN NaN   NaN   9.0 NaN NaN   NaN  NaN  \n",
       "7      NaN NaN  12.0   NaN NaN NaN  19.0  7.0  \n",
       "8      NaN NaN  13.0  10.0 NaN NaN  13.0  NaN  \n",
       "\n",
       "[5 rows x 38 columns]"
      ]
     },
     "execution_count": 18,
     "metadata": {},
     "output_type": "execute_result"
    }
   ],
   "source": [
    "station_data_hour = station_data_available.groupby(station_data_available.index.hour).aggregate(\"mean\")\n",
    "station_data_hour.head()"
   ]
  },
  {
   "cell_type": "markdown",
   "metadata": {},
   "source": [
    "## Porazdelitev razpoložljivih koles glede na uro"
   ]
  },
  {
   "cell_type": "code",
   "execution_count": 25,
   "metadata": {
    "collapsed": false
   },
   "outputs": [],
   "source": [
    "bicikelj_pdf = \"bicikelj_plot.pdf\"\n",
    "pdf = PdfPages(bicikelj_pdf)\n",
    "for col in station_data_hour.columns:\n",
    "    data = station_data_hour[col].dropna()\n",
    "    plt.title(str(col) + \" - \" + station_info_s[\"name\"][col])\n",
    "    plt.ylim(0, station_info_s[\"bike_stands\"][col])\n",
    "    plt.xlim(0,23)\n",
    "    plt.xticks(range(0,25))\n",
    "    plt.yticks(range(0,station_info_s[\"bike_stands\"][col]+1))\n",
    "    plt.grid(True)\n",
    "    # plt.plot(data)\n",
    "    plt.plot(data, linestyle=\"steps\")\n",
    "    pdf.savefig()\n",
    "    close()\n",
    "pdf.close()"
   ]
  },
  {
   "cell_type": "code",
   "execution_count": 20,
   "metadata": {
    "collapsed": false
   },
   "outputs": [
    {
     "data": {
      "text/plain": [
       "<matplotlib.axes._subplots.AxesSubplot at 0x1b479d14e48>"
      ]
     },
     "execution_count": 20,
     "metadata": {},
     "output_type": "execute_result"
    },
    {
     "data": {
      "image/png": "[encoded data removed]",
      "text/plain": [
       "<matplotlib.figure.Figure at 0x1b479c1d4a8>"
      ]
     },
     "metadata": {},
     "output_type": "display_data"
    }
   ],
   "source": [
    "station_data_available.plot(linestyle=\"steps\")"
   ]
  },
  {
   "cell_type": "code",
   "execution_count": 21,
   "metadata": {
    "collapsed": false
   },
   "outputs": [
    {
     "data": {
      "text/plain": [
       "<matplotlib.axes._subplots.AxesSubplot at 0x1b47e1909e8>"
      ]
     },
     "execution_count": 21,
     "metadata": {},
     "output_type": "execute_result"
    },
    {
     "data": {
      "image/png": "[encoded data removed]",
      "text/plain": [
       "<matplotlib.figure.Figure at 0x1b47e1afe80>"
      ]
     },
     "metadata": {},
     "output_type": "display_data"
    }
   ],
   "source": [
    "station_data_full[station_data_full[\"number\"] == 13][\"available_bike_stands\"].plot(linestyle=\"steps\")"
   ]
  },
  {
   "cell_type": "code",
   "execution_count": 22,
   "metadata": {
    "collapsed": false
   },
   "outputs": [
    {
     "data": {
      "text/plain": [
       "<matplotlib.axes._subplots.AxesSubplot at 0x1b47e5caba8>"
      ]
     },
     "execution_count": 22,
     "metadata": {},
     "output_type": "execute_result"
    },
    {
     "data": {
      "image/png": "[encoded data removed]",
      "text/plain": [
       "<matplotlib.figure.Figure at 0x1b47e4d3b00>"
      ]
     },
     "metadata": {},
     "output_type": "display_data"
    }
   ],
   "source": [
    "station_data_full[station_data_full[\"number\"] == 13][\"available_bikes\"].plot(linestyle=\"steps\")"
   ]
  },
  {
   "cell_type": "code",
   "execution_count": null,
   "metadata": {
    "collapsed": true
   },
   "outputs": [],
   "source": []
  }
 ],
 "metadata": {
  "anaconda-cloud": {},
  "kernelspec": {
   "display_name": "Python [Root]",
   "language": "python",
   "name": "Python [Root]"
  },
  "language_info": {
   "codemirror_mode": {
    "name": "ipython",
    "version": 3
   },
   "file_extension": ".py",
   "mimetype": "text/x-python",
   "name": "python",
   "nbconvert_exporter": "python",
   "pygments_lexer": "ipython3",
   "version": "3.5.2"
  }
 },
 "nbformat": 4,
 "nbformat_minor": 0
}
