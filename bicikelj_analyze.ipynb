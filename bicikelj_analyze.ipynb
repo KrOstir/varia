{
 "cells": [
  {
   "cell_type": "markdown",
   "metadata": {},
   "source": [
    "# Analiza podatkov sistema BicikeLJ"
   ]
  },
  {
   "cell_type": "code",
   "execution_count": null,
   "metadata": {},
   "outputs": [],
   "source": [
    "# Matplotlib inline\n",
    "%matplotlib inline\n",
    "# Imports\n",
    "from urllib.request import urlopen\n",
    "import json\n",
    "import numpy as np\n",
    "import pandas as pd\n",
    "import datetime\n",
    "import matplotlib.pyplot as plt\n",
    "from matplotlib.backends.backend_pdf import PdfPages\n",
    "from pylab import *\n",
    "\n",
    "# Figure size and style\n",
    "plt.rcParams[\"figure.figsize\"] = (15, 10)\n",
    "# plt.style.use('ggplot')"
   ]
  },
  {
   "cell_type": "markdown",
   "metadata": {},
   "source": [
    "Branje podatkov po protokolih, opisanih v: https://developer.jcdecaux.com/#/opendata/vls?page=getstarted\n",
    "\n",
    "Zanimiva je diplomska naloga: http://geo.ff.uni-lj.si/pisnadela/pdfs/zaksem_201409_ziga_jamnik.pdf"
   ]
  },
  {
   "cell_type": "code",
   "execution_count": null,
   "metadata": {},
   "outputs": [],
   "source": [
    "# Parameters\n",
    "# Bicycle, station dynamic infos\n",
    "station_data_url = \"https://api.jcdecaux.com/vls/v1/stations?contract=Ljubljana&apiKey=0a494317d60d3d556d0755600b078ea6b26af90f\"\n",
    "# Station info dataframe\n",
    "station_info_fn = \"bicikelj_station_info.csv\"\n",
    "station_data_fn = \"bicikelj_station_data_1703.csv\""
   ]
  },
  {
   "cell_type": "markdown",
   "metadata": {},
   "source": [
    "# Informacije o postajah"
   ]
  },
  {
   "cell_type": "code",
   "execution_count": null,
   "metadata": {},
   "outputs": [],
   "source": [
    "response = urlopen(station_data_url)\n",
    "if response.code == 200:\n",
    "    data = response.read().decode(\"utf-8\")\n",
    "else:\n",
    "    print(\"Wrong response from \", station_data_url)"
   ]
  },
  {
   "cell_type": "code",
   "execution_count": null,
   "metadata": {},
   "outputs": [],
   "source": [
    "station_info_json = json.loads(data)"
   ]
  },
  {
   "cell_type": "code",
   "execution_count": null,
   "metadata": {},
   "outputs": [],
   "source": [
    "station_info = (\n",
    "    pd.DataFrame(station_info_json).sort_values([\"number\"]).reset_index(drop=True)\n",
    ")"
   ]
  },
  {
   "cell_type": "code",
   "execution_count": null,
   "metadata": {},
   "outputs": [],
   "source": [
    "station_info = station_info[station_info[\"status\"] == \"OPEN\"]"
   ]
  },
  {
   "cell_type": "code",
   "execution_count": null,
   "metadata": {},
   "outputs": [],
   "source": [
    "station_info.columns"
   ]
  },
  {
   "cell_type": "code",
   "execution_count": null,
   "metadata": {},
   "outputs": [],
   "source": [
    "station_info = station_info[\n",
    "    [\n",
    "        \"address\",\n",
    "        \"banking\",\n",
    "        \"bike_stands\",\n",
    "        \"bonus\",\n",
    "        \"name\",\n",
    "        \"number\",\n",
    "        \"position\",\n",
    "        \"status\",\n",
    "    ]\n",
    "].copy()"
   ]
  },
  {
   "cell_type": "code",
   "execution_count": null,
   "metadata": {},
   "outputs": [],
   "source": [
    "station_info = pd.concat(\n",
    "    [\n",
    "        station_info.drop([\"position\"], axis=1),\n",
    "        station_info[\"position\"].apply(pd.Series),\n",
    "    ],\n",
    "    axis=1,\n",
    ")\n",
    "station_info.head()"
   ]
  },
  {
   "cell_type": "code",
   "execution_count": null,
   "metadata": {},
   "outputs": [],
   "source": [
    "# Save to CSV\n",
    "station_info.to_csv(station_info_fn, index=True)"
   ]
  },
  {
   "cell_type": "code",
   "execution_count": null,
   "metadata": {},
   "outputs": [],
   "source": [
    "station_info_s = station_info[[\"bike_stands\", \"name\", \"number\"]]\n",
    "station_info_s = station_info_s.set_index(\"number\")"
   ]
  },
  {
   "cell_type": "code",
   "execution_count": null,
   "metadata": {},
   "outputs": [],
   "source": [
    "station_info_s"
   ]
  },
  {
   "cell_type": "markdown",
   "metadata": {},
   "source": [
    "# Branje podatkov o postajah"
   ]
  },
  {
   "cell_type": "code",
   "execution_count": null,
   "metadata": {},
   "outputs": [],
   "source": [
    "station_data_full = pd.read_csv(\n",
    "    station_data_fn, index_col=\"last_update_time\", parse_dates=True\n",
    ")"
   ]
  },
  {
   "cell_type": "code",
   "execution_count": null,
   "metadata": {},
   "outputs": [],
   "source": [
    "station_data_full.describe()"
   ]
  },
  {
   "cell_type": "code",
   "execution_count": null,
   "metadata": {},
   "outputs": [],
   "source": [
    "station_data_full.index.min()"
   ]
  },
  {
   "cell_type": "code",
   "execution_count": null,
   "metadata": {},
   "outputs": [],
   "source": [
    "station_data_full.index.max()"
   ]
  },
  {
   "cell_type": "code",
   "execution_count": null,
   "metadata": {},
   "outputs": [],
   "source": [
    "station_data_full.head()"
   ]
  },
  {
   "cell_type": "code",
   "execution_count": null,
   "metadata": {},
   "outputs": [],
   "source": [
    "station_data_stands = station_data_full.pivot(\n",
    "    columns=\"number\", values=\"available_bike_stands\"\n",
    ")\n",
    "station_data_bikes = station_data_full.pivot(columns=\"number\", values=\"available_bikes\")"
   ]
  },
  {
   "cell_type": "code",
   "execution_count": null,
   "metadata": {},
   "outputs": [],
   "source": [
    "station_data_stands_hour = station_data_stands.groupby(\n",
    "    station_data_stands.index.hour\n",
    ").aggregate(\"mean\")\n",
    "station_data_bikes_hour = station_data_bikes.groupby(\n",
    "    station_data_bikes.index.hour\n",
    ").aggregate(\"mean\")\n",
    "station_data_bikes_hour"
   ]
  },
  {
   "cell_type": "markdown",
   "metadata": {},
   "source": [
    "# Porazdelitev razpoložljivih koles glede na uro"
   ]
  },
  {
   "cell_type": "code",
   "execution_count": null,
   "metadata": {},
   "outputs": [],
   "source": [
    "bicikelj_pdf = \"bicikelj_available.pdf\"\n",
    "pdf = PdfPages(bicikelj_pdf)\n",
    "for col in station_data_bikes_hour.columns:\n",
    "    data = station_data_bikes_hour[col].dropna()\n",
    "    plt.title(str(col) + \" - \" + station_info_s[\"name\"][col])\n",
    "    plt.ylim(0, station_info_s[\"bike_stands\"][col])\n",
    "    plt.xlim(0, 23)\n",
    "    plt.xticks(range(0, 25))\n",
    "    plt.yticks(range(0, station_info_s[\"bike_stands\"][col] + 1))\n",
    "    plt.grid(True)\n",
    "    # plt.plot(data)\n",
    "    plt.plot(data, linestyle=\"steps\")\n",
    "    pdf.savefig()\n",
    "    close()\n",
    "pdf.close()"
   ]
  },
  {
   "cell_type": "code",
   "execution_count": null,
   "metadata": {},
   "outputs": [],
   "source": [
    "station_data_bikes_hour.plot(linestyle=\"steps\")"
   ]
  },
  {
   "cell_type": "markdown",
   "metadata": {},
   "source": [
    "# Število koles po urah"
   ]
  },
  {
   "cell_type": "markdown",
   "metadata": {},
   "source": [
    "Enako kot zgoraj, samo z grupiranjem"
   ]
  },
  {
   "cell_type": "code",
   "execution_count": null,
   "metadata": {},
   "outputs": [],
   "source": [
    "station_data_full = pd.read_csv(\n",
    "    station_data_fn, index_col=\"last_update_time\", parse_dates=True\n",
    ")\n",
    "station_data_full.head()"
   ]
  },
  {
   "cell_type": "code",
   "execution_count": null,
   "metadata": {},
   "outputs": [],
   "source": [
    "station_group_bikes_hour = station_data_full.groupby(\n",
    "    [\"number\", station_data_full.index.hour]\n",
    ")[\"available_bikes\"].mean()"
   ]
  },
  {
   "cell_type": "code",
   "execution_count": null,
   "metadata": {},
   "outputs": [],
   "source": [
    "# station_group_bikes_hour = station_group_bikes.unstack(level=1)"
   ]
  },
  {
   "cell_type": "code",
   "execution_count": null,
   "metadata": {},
   "outputs": [],
   "source": [
    "bicikelj_pdf = \"bicikelj_available_2.pdf\"\n",
    "pdf = PdfPages(bicikelj_pdf)\n",
    "for key in station_group_bikes_hour.index.levels[0]:\n",
    "    data = station_group_bikes_hour[key]\n",
    "    plt.title(str(key) + \" - \" + station_info_s[\"name\"][key])\n",
    "    plt.ylim(0, station_info_s[\"bike_stands\"][key])\n",
    "    plt.xlim(0, 23)\n",
    "    plt.xticks(range(0, 25))\n",
    "    plt.yticks(range(0, station_info_s[\"bike_stands\"][key] + 1))\n",
    "    plt.grid(True)\n",
    "    plt.plot(data, linestyle=\"steps\")\n",
    "    pdf.savefig()\n",
    "    close()\n",
    "pdf.close()"
   ]
  },
  {
   "cell_type": "markdown",
   "metadata": {},
   "source": [
    "# Izposoje koles"
   ]
  },
  {
   "cell_type": "code",
   "execution_count": null,
   "metadata": {},
   "outputs": [],
   "source": [
    "station_data_full = pd.read_csv(\n",
    "    station_data_fn, index_col=\"last_update_time\", parse_dates=True\n",
    ")\n",
    "station_data_full.head()"
   ]
  },
  {
   "cell_type": "markdown",
   "metadata": {},
   "source": [
    "Urejeno po postajah"
   ]
  },
  {
   "cell_type": "code",
   "execution_count": null,
   "metadata": {},
   "outputs": [],
   "source": [
    "station_group_bikes = station_data_full.groupby(\"number\")"
   ]
  },
  {
   "cell_type": "code",
   "execution_count": null,
   "metadata": {},
   "outputs": [],
   "source": [
    "type(station_group_bikes.groups)"
   ]
  },
  {
   "cell_type": "code",
   "execution_count": null,
   "metadata": {},
   "outputs": [],
   "source": [
    "data = station_group_bikes.get_group(1)\n",
    "data[\"change\"] = data[\"available_bikes\"].diff()\n",
    "data.head()"
   ]
  },
  {
   "cell_type": "code",
   "execution_count": null,
   "metadata": {},
   "outputs": [],
   "source": [
    "bicikelj_pdf = \"bicikelj_available_3.pdf\"\n",
    "pdf = PdfPages(bicikelj_pdf)\n",
    "# List groups\n",
    "for key, item in station_group_bikes:\n",
    "    data = station_group_bikes.get_group(key).copy()\n",
    "    data[\"change\"] = data[\"available_bikes\"].diff()\n",
    "    plt.title(str(key) + \" - \" + station_info_s[\"name\"][key])\n",
    "    plt.plot(data[[\"available_bikes\", \"change\"]], linestyle=\"steps\")\n",
    "    plt.grid(True)\n",
    "    pdf.savefig()\n",
    "    close()\n",
    "pdf.close()"
   ]
  }
 ],
 "metadata": {
  "anaconda-cloud": {},
  "kernelspec": {
   "display_name": "Python 3",
   "language": "python",
   "name": "python3"
  },
  "language_info": {
   "codemirror_mode": {
    "name": "ipython",
    "version": 3
   },
   "file_extension": ".py",
   "mimetype": "text/x-python",
   "name": "python",
   "nbconvert_exporter": "python",
   "pygments_lexer": "ipython3",
   "version": "3.7.3"
  }
 },
 "nbformat": 4,
 "nbformat_minor": 2
}