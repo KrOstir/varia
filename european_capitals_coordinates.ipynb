{
 "cells": [
  {
   "cell_type": "markdown",
   "metadata": {},
   "source": [
    "# Prepare European Capitals Table\n",
    "\n",
    "Data from http://www.nobochamp.de/hauptstaedte2.html is read converted to csv format. "
   ],
   "execution_count": null,
   "outputs": []
  },
  {
   "cell_type": "code",
   "execution_count": null,
   "metadata": {},
   "outputs": [],
   "source": [
    "# Filenames\n",
    "eu_capitals_txt = \"./data/european_capitals.txt\"\n",
    "eu_capitals_csv = \"./data/european_capitals.csv\""
   ]
  },
  {
   "cell_type": "code",
   "execution_count": null,
   "metadata": {},
   "outputs": [],
   "source": [
    "# Read text four lines at once and print to string\n",
    "output = open(eu_capitals_csv, \"w\")\n",
    "with open(eu_capitals_txt) as f:\n",
    "    for line1, line2, line3, line4 in zip(f, f, f, f):\n",
    "        line3a, line3b = line3.split(\" / \")\n",
    "        print(\n",
    "            \"{},{},{},{},{}\".format(\n",
    "                line1.strip(),\n",
    "                line2.strip(),\n",
    "                line3a.strip(),\n",
    "                line3b.strip(),\n",
    "                line4.strip(),\n",
    "            ),\n",
    "            file=output,\n",
    "        )\n",
    "output.close()"
   ]
  }
 ],
 "metadata": {
  "file_extension": ".py",
  "kernelspec": {
   "display_name": "Python 3",
   "language": "python",
   "name": "python3"
  },
  "language_info": {
   "codemirror_mode": {
    "name": "ipython",
    "version": 3
   },
   "file_extension": ".py",
   "mimetype": "text/x-python",
   "name": "python",
   "nbconvert_exporter": "python",
   "pygments_lexer": "ipython3",
   "version": "3.7.7-final"
  },
  "mimetype": "text/x-python",
  "name": "python",
  "npconvert_exporter": "python",
  "pygments_lexer": "ipython3",
  "version": 3
 },
 "nbformat": 4,
 "nbformat_minor": 4
}