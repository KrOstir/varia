{
 "cells": [
  {
   "cell_type": "markdown",
   "metadata": {},
   "source": [
    "# Faktor vpliva za Geodetski vestnik\n",
    "\n",
    "Faktor vpliva je pobran iz:\n",
    "https://plus.si.cobiss.net/opac7/jcr?query=geodetski+vestnik&max=10&sort=def"
   ]
  },
  {
   "cell_type": "code",
   "execution_count": 15,
   "metadata": {},
   "outputs": [],
   "source": [
    "# Potrebne knjižnice\n",
    "import pandas as pd\n",
    "import matplotlib.pyplot as plt\n",
    "from urllib.request import Request, urlopen"
   ]
  },
  {
   "cell_type": "code",
   "execution_count": 16,
   "outputs": [],
   "source": [
    "# Figure size and style\n",
    "plt.rcParams[\"figure.figsize\"] = (10, 7)"
   ],
   "metadata": {
    "collapsed": false,
    "pycharm": {
     "name": "#%%\n"
    }
   }
  },
  {
   "cell_type": "code",
   "execution_count": 17,
   "metadata": {},
   "outputs": [],
   "source": [
    "# Parameters\n",
    "# IF URL\n",
    "if_url = (\n",
    "    \"https://plus.si.cobiss.net/opac7/jcr?query=geodetski%20vestnik&max=100&sort=def\"\n",
    ")"
   ]
  },
  {
   "cell_type": "code",
   "execution_count": 22,
   "outputs": [],
   "source": [
    "# Read webpage\n",
    "req = Request(if_url, headers={\"User-Agent\": \"Mozilla/5.0\"})\n",
    "webpage = urlopen(req).read()"
   ],
   "metadata": {
    "collapsed": false,
    "pycharm": {
     "name": "#%%\n"
    }
   }
  },
  {
   "cell_type": "code",
   "execution_count": 23,
   "outputs": [
    {
     "data": {
      "text/plain": "   Št. Naslov serijske publikacije  Leto                 ISSN  Faktor vpliva\n0  1.0           Geodetski Vestnik  2018            0351-0271          0.606\n1  2.0           Geodetski Vestnik  2020  0351-0271/1581-1328          0.551\n2  3.0           Geodetski Vestnik  2019  0351-0271/1581-1328          0.469\n3  4.0           Geodetski Vestnik  2012            0351-0271          0.367\n4  5.0           Geodetski Vestnik  2017            0351-0271          0.337",
      "text/html": "<div>\n<style scoped>\n    .dataframe tbody tr th:only-of-type {\n        vertical-align: middle;\n    }\n\n    .dataframe tbody tr th {\n        vertical-align: top;\n    }\n\n    .dataframe thead th {\n        text-align: right;\n    }\n</style>\n<table border=\"1\" class=\"dataframe\">\n  <thead>\n    <tr style=\"text-align: right;\">\n      <th></th>\n      <th>Št.</th>\n      <th>Naslov serijske publikacije</th>\n      <th>Leto</th>\n      <th>ISSN</th>\n      <th>Faktor vpliva</th>\n    </tr>\n  </thead>\n  <tbody>\n    <tr>\n      <th>0</th>\n      <td>1.0</td>\n      <td>Geodetski Vestnik</td>\n      <td>2018</td>\n      <td>0351-0271</td>\n      <td>0.606</td>\n    </tr>\n    <tr>\n      <th>1</th>\n      <td>2.0</td>\n      <td>Geodetski Vestnik</td>\n      <td>2020</td>\n      <td>0351-0271/1581-1328</td>\n      <td>0.551</td>\n    </tr>\n    <tr>\n      <th>2</th>\n      <td>3.0</td>\n      <td>Geodetski Vestnik</td>\n      <td>2019</td>\n      <td>0351-0271/1581-1328</td>\n      <td>0.469</td>\n    </tr>\n    <tr>\n      <th>3</th>\n      <td>4.0</td>\n      <td>Geodetski Vestnik</td>\n      <td>2012</td>\n      <td>0351-0271</td>\n      <td>0.367</td>\n    </tr>\n    <tr>\n      <th>4</th>\n      <td>5.0</td>\n      <td>Geodetski Vestnik</td>\n      <td>2017</td>\n      <td>0351-0271</td>\n      <td>0.337</td>\n    </tr>\n  </tbody>\n</table>\n</div>"
     },
     "execution_count": 23,
     "metadata": {},
     "output_type": "execute_result"
    }
   ],
   "source": [
    "# Read downloads\n",
    "if_df = pd.read_html(webpage)[0]\n",
    "if_df.head()"
   ],
   "metadata": {
    "collapsed": false,
    "pycharm": {
     "name": "#%%\n"
    }
   }
  },
  {
   "cell_type": "code",
   "execution_count": 24,
   "outputs": [
    {
     "data": {
      "text/plain": "      Faktor vpliva\nLeto               \n2009          0.227\n2010          0.215\n2011          0.212\n2012          0.367\n2013          0.288\n2014          0.254\n2015          0.253\n2016          0.234\n2017          0.337\n2018          0.606\n2019          0.469\n2020          0.551",
      "text/html": "<div>\n<style scoped>\n    .dataframe tbody tr th:only-of-type {\n        vertical-align: middle;\n    }\n\n    .dataframe tbody tr th {\n        vertical-align: top;\n    }\n\n    .dataframe thead th {\n        text-align: right;\n    }\n</style>\n<table border=\"1\" class=\"dataframe\">\n  <thead>\n    <tr style=\"text-align: right;\">\n      <th></th>\n      <th>Faktor vpliva</th>\n    </tr>\n    <tr>\n      <th>Leto</th>\n      <th></th>\n    </tr>\n  </thead>\n  <tbody>\n    <tr>\n      <th>2009</th>\n      <td>0.227</td>\n    </tr>\n    <tr>\n      <th>2010</th>\n      <td>0.215</td>\n    </tr>\n    <tr>\n      <th>2011</th>\n      <td>0.212</td>\n    </tr>\n    <tr>\n      <th>2012</th>\n      <td>0.367</td>\n    </tr>\n    <tr>\n      <th>2013</th>\n      <td>0.288</td>\n    </tr>\n    <tr>\n      <th>2014</th>\n      <td>0.254</td>\n    </tr>\n    <tr>\n      <th>2015</th>\n      <td>0.253</td>\n    </tr>\n    <tr>\n      <th>2016</th>\n      <td>0.234</td>\n    </tr>\n    <tr>\n      <th>2017</th>\n      <td>0.337</td>\n    </tr>\n    <tr>\n      <th>2018</th>\n      <td>0.606</td>\n    </tr>\n    <tr>\n      <th>2019</th>\n      <td>0.469</td>\n    </tr>\n    <tr>\n      <th>2020</th>\n      <td>0.551</td>\n    </tr>\n  </tbody>\n</table>\n</div>"
     },
     "execution_count": 24,
     "metadata": {},
     "output_type": "execute_result"
    }
   ],
   "source": [
    "# Drop columns\n",
    "if_df = if_df.drop([\"Št.\", \"Naslov serijske publikacije\", \"ISSN\"], axis=1)\n",
    "# Set index\n",
    "if_df = if_df.set_index(\"Leto\")\n",
    "if_df.sort_index(inplace=True)\n",
    "if_df"
   ],
   "metadata": {
    "collapsed": false,
    "pycharm": {
     "name": "#%%\n"
    }
   }
  },
  {
   "cell_type": "markdown",
   "source": [
    "## Plot IF"
   ],
   "metadata": {
    "collapsed": false,
    "pycharm": {
     "name": "#%% md\n"
    }
   }
  },
  {
   "cell_type": "code",
   "execution_count": 25,
   "outputs": [
    {
     "data": {
      "text/plain": "<Figure size 720x504 with 1 Axes>",
      "image/png": "[encoded data removed]"
     },
     "metadata": {
      "needs_background": "light"
     },
     "output_type": "display_data"
    }
   ],
   "source": [
    "plt.plot(if_df, marker=\"o\")\n",
    "plt.title(\"Geodetski vestnik IF\")\n",
    "plt.show()"
   ],
   "metadata": {
    "collapsed": false,
    "pycharm": {
     "name": "#%%\n"
    }
   }
  }
 ],
 "metadata": {
  "kernelspec": {
   "display_name": "Python 3",
   "language": "python",
   "name": "python3"
  },
  "language_info": {
   "codemirror_mode": {
    "name": "ipython",
    "version": 3
   },
   "file_extension": ".py",
   "mimetype": "text/x-python",
   "name": "python",
   "nbconvert_exporter": "python",
   "pygments_lexer": "ipython3",
   "version": "3.7.0"
  }
 },
 "nbformat": 4,
 "nbformat_minor": 2
}