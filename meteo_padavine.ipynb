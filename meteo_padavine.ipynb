{
 "cells": [
  {
   "cell_type": "markdown",
   "metadata": {
    "pycharm": {
     "is_executing": true
    }
   },
   "source": [
    "# Padavine in toča\n",
    "\n",
    "Branje podatkov o padavinah in toči.\n",
    "\n",
    "Za odjemanje slike najprej kličemo API ki vrne JSON z meta podatki in lokacijo PNGjev:\n",
    "\n",
    "`http://www.vreme.si/uploads/probase/www/nowcast/inca/{PRODUKT}.json`\n",
    "\n",
    "Produkti: \n",
    "\n",
    "* inca_sp_data (oblačnost)\n",
    "* inca_tp_data (padavine)\n",
    "* inca_t2m_data (temperature)\n",
    "* inca_wind_data (veter)\n",
    "* inca_hp_data (toča)\n",
    "* inca_si0zm_data (radar - padavine)\n"
   ],
   "outputs": []
  },
  {
   "cell_type": "code",
   "execution_count": null,
   "metadata": {},
   "outputs": [],
   "source": [
    "# Knjižnice\n",
    "import requests\n",
    "import os\n",
    "import json\n",
    "import pandas as pd"
   ]
  },
  {
   "cell_type": "code",
   "execution_count": null,
   "metadata": {},
   "outputs": [],
   "source": [
    "# Osnovni URL za poizvedbe\n",
    "meteo_url = \"http://www.vreme.si\"\n",
    "meteo_url_q = meteo_url + \"/uploads/probase/www/nowcast/inca/\"\n",
    "# Mapa za podatke\n",
    "meteo_data = \"./meteo_data/\""
   ]
  },
  {
   "cell_type": "code",
   "execution_count": null,
   "metadata": {},
   "outputs": [],
   "source": [
    "# Obstoječi podatki\n",
    "meteo_prod = {'clouds': \"inca_sp_data\",\n",
    "              'prec': \"inca_tp_data\",\n",
    "              'temp': \"inca_t2m_data\",\n",
    "              'wind': \"inca_wind_data\",\n",
    "              'hail': \"inca_hp_data\",\n",
    "              'radar': \"inca_si0zm_data\",\n",
    "             }"
   ]
  },
  {
   "cell_type": "code",
   "execution_count": null,
   "metadata": {},
   "outputs": [],
   "source": [
    "for k, v in meteo_prod.items():\n",
    "    print(k, v)"
   ]
  },
  {
   "cell_type": "code",
   "execution_count": null,
   "metadata": {},
   "outputs": [],
   "source": [
    "# Polni URL\n",
    "# meteo_par = \"radar\"\n",
    "meteo_par = \"hail\"\n",
    "meteo_req_url = meteo_url_q + meteo_prod[meteo_par] + \".json\"\n",
    "meteo_req_url"
   ]
  },
  {
   "cell_type": "code",
   "execution_count": null,
   "metadata": {},
   "outputs": [],
   "source": [
    "# Poizvedba\n",
    "meteo_df = pd.read_json(meteo_req_url, convert_dates=['valid'])"
   ]
  },
  {
   "cell_type": "code",
   "execution_count": null,
   "metadata": {},
   "outputs": [],
   "source": [
    "meteo_df"
   ]
  },
  {
   "cell_type": "code",
   "execution_count": null,
   "metadata": {},
   "outputs": [],
   "source": [
    "meteo_dl = meteo_url + meteo_df[\"path\"]"
   ]
  },
  {
   "cell_type": "code",
   "execution_count": null,
   "metadata": {},
   "outputs": [],
   "source": [
    "dl_num = 0\n",
    "for item in meteo_dl:\n",
    "    item_img = item.split(\"/\")[-1]\n",
    "    item_fn = meteo_data + item_img\n",
    "    if os.path.exists(item_fn):\n",
    "        print(\"File exists:\", item_img)\n",
    "    else:\n",
    "        print(\"Downloading:\", item_img)\n",
    "        response = requests.get(item)\n",
    "        if response.status_code == 200:\n",
    "            with open(item_fn, 'wb') as f:\n",
    "                f.write(response.content)\n",
    "            dl_num += 1\n",
    "        else:\n",
    "            print(\"Can not get:\", item)\n",
    "print(\"Downloaded:\", dl_num)"
   ]
  }
 ],
 "metadata": {
  "kernelspec": {
   "display_name": "Python 3",
   "language": "python",
   "name": "python3"
  },
  "language_info": {
   "codemirror_mode": {
    "name": "ipython",
    "version": 3
   },
   "file_extension": ".py",
   "mimetype": "text/x-python",
   "name": "python",
   "nbconvert_exporter": "python",
   "pygments_lexer": "ipython3",
   "version": "3.6.7"
  }
 },
 "nbformat": 4,
 "nbformat_minor": 2
}