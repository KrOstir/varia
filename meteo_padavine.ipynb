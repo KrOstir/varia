{
 "cells": [
  {
   "cell_type": "markdown",
   "metadata": {},
   "source": [
    "# Padavine in toča\n",
    "\n",
    "Branje podatkov o padavinah in toči.\n",
    "\n",
    "Za odjemanje slike najprej kličemo API ki vrne JSON z meta podatki in lokacijo PNGjev:\n",
    "\n",
    "`http://www.vreme.si/uploads/probase/www/nowcast/inca/{PRODUKT}.json`\n",
    "\n",
    "Produkti: \n",
    "\n",
    "* inca_sp_data (oblačnost)\n",
    "* inca_tp_data (padavine)\n",
    "* inca_t2m_data (temperature)\n",
    "* inca_wind_data (veter)\n",
    "* inca_hp_data (toča)\n",
    "* inca_si0zm_data (radar - padavine)\n"
   ]
  },
  {
   "cell_type": "code",
   "execution_count": null,
   "metadata": {},
   "outputs": [],
   "source": [
    "# Knjižnice\n",
    "import requests\n",
    "import json\n",
    "import pandas as pd\n",
    "from pandas.io.json import json_normalize\n",
    "import matplotlib.pyplot as plt"
   ]
  },
  {
   "cell_type": "code",
   "execution_count": null,
   "metadata": {},
   "outputs": [],
   "source": [
    "# Matplotlib inline\n",
    "%matplotlib inline"
   ]
  },
  {
   "cell_type": "code",
   "execution_count": null,
   "metadata": {},
   "outputs": [],
   "source": [
    "# Velikost grafikonov\n",
    "plt.rcParams['figure.figsize'] = [12, 8]"
   ]
  },
  {
   "cell_type": "code",
   "execution_count": null,
   "metadata": {},
   "outputs": [],
   "source": [
    "# Osnovni URL za poizvedbe\n",
    "meteo_url = \"http://www.vreme.si/uploads/probase/www/nowcast/inca/\""
   ]
  },
  {
   "cell_type": "code",
   "execution_count": null,
   "metadata": {},
   "outputs": [],
   "source": [
    "# Obstoječi podatki\n",
    "meteo_prod = {'clouds': \"inca_sp_data\",\n",
    "              'prec': \"inca_tp_data\",\n",
    "              'temp': \"inca_t2m_data\",\n",
    "              'wind': \"inca_wind_data\",\n",
    "              'hail': \"inca_hp_data\",\n",
    "              'radar': \"inca_si0zm_data\",\n",
    "             }"
   ]
  },
  {
   "cell_type": "code",
   "execution_count": null,
   "metadata": {},
   "outputs": [],
   "source": [
    "for k, v in meteo_prod.items():\n",
    "    print(k, v)"
   ]
  },
  {
   "cell_type": "code",
   "execution_count": null,
   "metadata": {},
   "outputs": [],
   "source": [
    "# Polni URL\n",
    "meteo_req_url = meteo_url + meteo_prod[\"radar\"] + \".json\"\n",
    "meteo_req_url"
   ]
  },
  {
   "cell_type": "code",
   "execution_count": null,
   "metadata": {},
   "outputs": [],
   "source": [
    "# Poizvedba\n",
    "meteo_df = pd.read_json(meteo_req_url, convert_dates=['valid'])"
   ]
  },
  {
   "cell_type": "code",
   "execution_count": null,
   "metadata": {},
   "outputs": [],
   "source": [
    "meteo_df"
   ]
  }
 ],
 "metadata": {
  "kernelspec": {
   "display_name": "Python 3",
   "language": "python",
   "name": "python3"
  },
  "language_info": {
   "codemirror_mode": {
    "name": "ipython",
    "version": 3
   },
   "file_extension": ".py",
   "mimetype": "text/x-python",
   "name": "python",
   "nbconvert_exporter": "python",
   "pygments_lexer": "ipython3",
   "version": "3.6.6"
  }
 },
 "nbformat": 4,
 "nbformat_minor": 2
}
